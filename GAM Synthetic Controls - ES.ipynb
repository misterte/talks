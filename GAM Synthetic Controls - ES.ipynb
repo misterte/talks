{
 "cells": [
  {
   "cell_type": "code",
   "execution_count": 1,
   "id": "03d4a858",
   "metadata": {
    "slideshow": {
     "slide_type": "skip"
    }
   },
   "outputs": [
    {
     "data": {
      "text/html": [
       "<pre>✔️ 1.23 ms (2021-10-27T20:22:29/2021-10-27T20:22:29)</pre>"
      ],
      "text/plain": [
       "<IPython.core.display.HTML object>"
      ]
     },
     "metadata": {},
     "output_type": "display_data"
    }
   ],
   "source": [
    "%load_ext autoreload\n",
    "%load_ext autotime"
   ]
  },
  {
   "cell_type": "code",
   "execution_count": 2,
   "id": "762ac091",
   "metadata": {
    "slideshow": {
     "slide_type": "skip"
    }
   },
   "outputs": [
    {
     "data": {
      "text/html": [
       "<pre>✔️ 588 µs (2021-10-27T20:22:29/2021-10-27T20:22:29)</pre>"
      ],
      "text/plain": [
       "<IPython.core.display.HTML object>"
      ]
     },
     "metadata": {},
     "output_type": "display_data"
    }
   ],
   "source": [
    "%autoreload 2"
   ]
  },
  {
   "cell_type": "code",
   "execution_count": 3,
   "id": "5ebe92f0",
   "metadata": {
    "slideshow": {
     "slide_type": "skip"
    }
   },
   "outputs": [
    {
     "data": {
      "text/html": [
       "<pre>✔️ 740 µs (2021-10-27T20:22:30/2021-10-27T20:22:30)</pre>"
      ],
      "text/plain": [
       "<IPython.core.display.HTML object>"
      ]
     },
     "metadata": {},
     "output_type": "display_data"
    }
   ],
   "source": [
    "import sys\n",
    "sys.path.append('../../../')"
   ]
  },
  {
   "cell_type": "markdown",
   "id": "4dfe42a8",
   "metadata": {
    "slideshow": {
     "slide_type": "slide"
    }
   },
   "source": [
    "# Controles Sintéticos utilizando GAMs\n",
    "Modelos Aditivos Generalizados para el diseño de contrafactuales robustos."
   ]
  },
  {
   "cell_type": "markdown",
   "id": "2ba9a701",
   "metadata": {
    "slideshow": {
     "slide_type": "slide"
    }
   },
   "source": [
    "## Un poco sobre mí\n",
    "\n",
    "- Andrés Bucchi, VP de Data & Analytics @ Sodimac; previamente Uber HQ.\n",
    "- Sodimac tiene presencia en 7 países; Data & Analytics cerca de 100 personas\n",
    "- Tenemos múltiples proyectos interesantes, desde plataformas de Data hasta Analítica Avanzada, pero lo que más nos (me) gusta es la experimentación.\n",
    "- Soy de profesión Ingeniero Comercial (BBA), pero mi pasión siempre fue el programar."
   ]
  },
  {
   "cell_type": "markdown",
   "id": "1f083b50",
   "metadata": {
    "slideshow": {
     "slide_type": "slide"
    }
   },
   "source": [
    "## Un poco sobre los Controles Sintéticos\n",
    "\n",
    "Los controles sintéticos nos permiten realizar análisis causal cuando no existen otras alternativas (más robustas) para construir un contrafactual válido — e.g., muestreo aleatorio, muestreo temporal, cuasi-experimentos, etc.\n",
    "\n",
    "Este tipo de análisis es de altísima utilidad al momento de evaluar el efecto de distintas políticas de intervención que no pueden \"prenderse y apagarse\" o no pueden ofrecérseles solamente a un grupo de individuos. Por ejemplo -"
   ]
  },
  {
   "cell_type": "markdown",
   "id": "769c4cae",
   "metadata": {
    "slideshow": {
     "slide_type": "subslide"
    }
   },
   "source": [
    "- Un sistema de atención de urgencia que podría salvar más vidas, lo que presenta un problema ético y reputacional.\n",
    "- Mejores condiciones en créditos hipotecarios según un nuevo modelo de riesgo, si es que la ley no permite tener ofertas diferentes para un mismo producto, bajo mismas condiciones.\n",
    "- Apertura de una nueva tienda y posible efecto en canales online.\n",
    "- Entre __muchos__ otros..."
   ]
  },
  {
   "cell_type": "markdown",
   "id": "9b80bf18",
   "metadata": {
    "slideshow": {
     "slide_type": "slide"
    }
   },
   "source": [
    "## Un poco sobre GAMs\n",
    "\n",
    "Generalized Additive Models (GAMs) son el resultado de una combinación lineal de Generalizaed Linear Models (GMLs). Permiten relacionar la __media__ de una serie de respuesta $Y$ a un vector de controles $X$, a través de una función de vínculo $g(·)$.\n",
    "\n",
    "$$\n",
    "g(E[y]) = f_0(x_0) + f_1(x_1) + ... + f_k(x_k)\n",
    "$$"
   ]
  },
  {
   "cell_type": "markdown",
   "id": "d0b13e88",
   "metadata": {
    "slideshow": {
     "slide_type": "subslide"
    }
   },
   "source": [
    "La función $g(·)$ puede tomar múltiples formas, y puede ser interpretada como la función inversa a la media de alguna familia de distribuciones — e.g., en el caso de una poisson, si la media $\\mu$ puede ser expresada como una combinación lineal de $X$\n",
    "\n",
    "$$\n",
    "\\mu=e^{X\\beta}\n",
    "$$\n",
    "\n",
    "Entonces $g(·)$ es la función exponencial y $g^{-1}(·)$ es $ln(\\mu)$."
   ]
  },
  {
   "cell_type": "markdown",
   "id": "2b7fa3d9",
   "metadata": {
    "slideshow": {
     "slide_type": "subslide"
    }
   },
   "source": [
    "### ¿Y qué?\n",
    "\n",
    "El principal take-away es que los GAMs son muy flexibles y, en general, permiten construir forecasts con errores iid. que se comportan de una forma normalizada, agregando distintos niveles de tendencias y quiebres de tendencias, etc. Esto las convierte en muy buenas candidatas para el análisis contrafactual."
   ]
  },
  {
   "cell_type": "markdown",
   "id": "946a055c",
   "metadata": {
    "slideshow": {
     "slide_type": "slide"
    }
   },
   "source": [
    "## Construyendo un contrafactual\n",
    "\n",
    "Buscamos construir un contrafactual $\\hat{y}_c$ con la finalidad de estimar el efecto $\\delta{y}$ de un tratamiento, dado que\n",
    "\n",
    "$$\n",
    "\\hat{ \\delta{y} } = y - \\hat{y}_c\n",
    "$$\n",
    "\n",
    "Nótese que $y$ es un valor conocido y observado tanto antes como después del tratamiento.\n",
    "\n",
    "Utilizando GAMs, podemos reescribir lo anterior -\n",
    "\n",
    "$$\n",
    "\\hat{ \\delta{y} } = y - g^{-1}(f_0(x_0) + f_1(x_1) + ... + f_k(x_k))\n",
    "$$\n",
    "\n",
    "Donde $X$ representa un vector de controles, utilizado para construir nuestro contrafactual $\\hat{y}_c$."
   ]
  },
  {
   "cell_type": "markdown",
   "id": "5b72996c",
   "metadata": {
    "slideshow": {
     "slide_type": "subslide"
    }
   },
   "source": [
    "### Eligiendo los controles correctos\n",
    "\n",
    "Al construir $\\hat{y}_c$, lo que queremos evitar es la interferencia, ya que no debiesen existir cualquier tipo de contaminación desde los controles hacia la respuesta y viceversa. Visualmente,\n",
    "\n",
    "[<img src=\"assets/gamsc/good.png\" width=\"600\" style=\"display: block; margin-left: auto; margin-right: auto;\"/>](assets/gamsc/good.png \"The good\")"
   ]
  },
  {
   "cell_type": "markdown",
   "id": "f3ad9285",
   "metadata": {
    "slideshow": {
     "slide_type": "subslide"
    }
   },
   "source": [
    "Y lo que debemos evitar -\n",
    "\n",
    "[<img src=\"assets/gamsc/bad.png\" width=\"600\" style=\"display: block; margin-left: auto; margin-right: auto;\"/>](assets/gamsc/bad.png \"The bad\")"
   ]
  },
  {
   "cell_type": "markdown",
   "id": "2a904e6a",
   "metadata": {
    "slideshow": {
     "slide_type": "subslide"
    }
   },
   "source": [
    "[<img src=\"assets/gamsc/also-bad.png\" width=\"600\" style=\"display: block; margin-left: auto; margin-right: auto;\"/>](assets/gamsc/also-bad.png \"The worse\")"
   ]
  },
  {
   "cell_type": "markdown",
   "id": "f9a4c02a",
   "metadata": {
    "slideshow": {
     "slide_type": "subslide"
    }
   },
   "source": [
    "[<img src=\"assets/gamsc/i-quit.png\" width=\"600\" style=\"display: block; margin-left: auto; margin-right: auto;\"/>](assets/gamsc/i-quit.png \"The worst\")"
   ]
  },
  {
   "cell_type": "markdown",
   "id": "56c5d3da",
   "metadata": {
    "slideshow": {
     "slide_type": "subslide"
    }
   },
   "source": [
    "### Por ejemplo\n",
    "\n",
    "Utilizar los volúmenes de abastecimiento para construir un contrafactual de ventas es..."
   ]
  },
  {
   "cell_type": "markdown",
   "id": "fca65cd4",
   "metadata": {
    "slideshow": {
     "slide_type": "subslide"
    }
   },
   "source": [
    "- __Incorrecto__ — un mayor volumen de ventas incrementará la cantidad de pedidos de abastecimiento, por lo que la respuesta y el control tienen una relación causal. Utilizar el abastecimiento interno como control va a generar un feedback positivo -\n",
    "\n",
    "        mayores ventas observadas\n",
    "            >> mayores órdenes de abastecimiento\n",
    "                >> predicción de un contrafactual más alto\n",
    "                    >> subestimación del efecto del tratamiento"
   ]
  },
  {
   "cell_type": "markdown",
   "id": "49cf50ce",
   "metadata": {
    "slideshow": {
     "slide_type": "subslide"
    }
   },
   "source": [
    "Utiliza la venta de otras tiendas para construir un contrafactual de ventas en una tienda distinta es..."
   ]
  },
  {
   "cell_type": "markdown",
   "id": "2b8fe214",
   "metadata": {
    "slideshow": {
     "slide_type": "subslide"
    }
   },
   "source": [
    "- __Correcto__ — podemos asumir razonablemente que las ventas están principalmente afectadas por factores exógenos o causas comunes, independientes a un tratamiento, por lo que representan una buena alternativa para construir un contrafactual robusto."
   ]
  },
  {
   "cell_type": "markdown",
   "id": "f2e3c640",
   "metadata": {
    "slideshow": {
     "slide_type": "slide"
    }
   },
   "source": [
    "## Otros beneficios de los GAMs\n",
    "\n",
    "Los GAMs están ampliamente cubiertas por distintos paquetes en Python, varios de ellos bastante sofisticados y con una gran comunidad de soporte opensource. Mejor todavía - Facebook tiene un motor de forecasting llamado `Prophet` que permite, entre otras cosas, realizar muestreo posterior, ¡lo que facilita muchísimo la construcción de intervalos de confianza!\n",
    "\n",
    "```bash\n",
    "$ pip install prophet\n",
    "```\n",
    "\n",
    "[Documentación](https://facebook.github.io/prophet/)."
   ]
  },
  {
   "cell_type": "markdown",
   "id": "6a9c2798",
   "metadata": {
    "slideshow": {
     "slide_type": "slide"
    }
   },
   "source": [
    "## ¡Manos a la obra!"
   ]
  },
  {
   "cell_type": "markdown",
   "id": "86c0d6c1",
   "metadata": {
    "slideshow": {
     "slide_type": "slide"
    }
   },
   "source": [
    "Empecemos por importar `fbprophet`. También utilizaremos algunas funcionalidades de `SodiMX`, el paquete de Experimentación de Sodimac — no es opensource todavía."
   ]
  },
  {
   "cell_type": "code",
   "execution_count": 10,
   "id": "4a82b04e",
   "metadata": {
    "slideshow": {
     "slide_type": "fragment"
    }
   },
   "outputs": [
    {
     "data": {
      "text/html": [
       "<pre>✔️ 9.03 ms (2021-10-27T20:28:00/2021-10-27T20:28:00)</pre>"
      ],
      "text/plain": [
       "<IPython.core.display.HTML object>"
      ]
     },
     "metadata": {},
     "output_type": "display_data"
    }
   ],
   "source": [
    "import numpy as np\n",
    "import pandas as pd\n",
    "try:\n",
    "    import fbprophet\n",
    "except ImportError:\n",
    "    import prophet as fbprophet\n",
    "try:\n",
    "    from sodimx.synthetic_control.utils import SyntheticData\n",
    "except ImportError:\n",
    "    from utils import SyntheticData\n",
    "from matplotlib import pyplot as plt\n",
    "\n",
    "plt.style.use('ggplot')\n",
    "\n",
    "%matplotlib inline"
   ]
  },
  {
   "cell_type": "markdown",
   "id": "8ec76a7c",
   "metadata": {
    "slideshow": {
     "slide_type": "subslide"
    }
   },
   "source": [
    "Necesitamos un poco de data sintética, para la cuál, por diseño, además sabremos el efecto real."
   ]
  },
  {
   "cell_type": "code",
   "execution_count": 32,
   "id": "887779b3",
   "metadata": {
    "slideshow": {
     "slide_type": "fragment"
    }
   },
   "outputs": [
    {
     "data": {
      "text/html": [
       "<pre>✔️ 4.68 ms (2021-10-27T20:29:40/2021-10-27T20:29:40)</pre>"
      ],
      "text/plain": [
       "<IPython.core.display.HTML object>"
      ]
     },
     "metadata": {},
     "output_type": "display_data"
    }
   ],
   "source": [
    "sd = SyntheticData(\n",
    "    impulse=0.03,\n",
    "    noise=5.0,\n",
    "    bias=0.1,\n",
    "    n_controls=20,\n",
    "    n_informative_controls=10,\n",
    "    n_samples=150,\n",
    "    n_treatment=30\n",
    ")\n",
    "X, Y, slices = sd.make_arma()"
   ]
  },
  {
   "cell_type": "markdown",
   "id": "37a4d098",
   "metadata": {
    "slideshow": {
     "slide_type": "subslide"
    }
   },
   "source": [
    "$X$ es una matriz de series de tiempos de distintos controles, pero de los cuales solamente algunos son informativos, mientras otros tienen como objetivo el agregar ruido y probar la robustez de nuestro método."
   ]
  },
  {
   "cell_type": "code",
   "execution_count": 33,
   "id": "8fe83250",
   "metadata": {
    "slideshow": {
     "slide_type": "fragment"
    }
   },
   "outputs": [
    {
     "data": {
      "text/html": [
       "<pre>✔️ 18.1 ms (2021-10-27T20:29:41/2021-10-27T20:29:41)</pre>"
      ],
      "text/plain": [
       "<IPython.core.display.HTML object>"
      ]
     },
     "metadata": {},
     "output_type": "display_data"
    },
    {
     "data": {
      "text/html": [
       "<div>\n",
       "<style scoped>\n",
       "    .dataframe tbody tr th:only-of-type {\n",
       "        vertical-align: middle;\n",
       "    }\n",
       "\n",
       "    .dataframe tbody tr th {\n",
       "        vertical-align: top;\n",
       "    }\n",
       "\n",
       "    .dataframe thead th {\n",
       "        text-align: right;\n",
       "    }\n",
       "</style>\n",
       "<table border=\"1\" class=\"dataframe\">\n",
       "  <thead>\n",
       "    <tr style=\"text-align: right;\">\n",
       "      <th></th>\n",
       "      <th>0</th>\n",
       "      <th>1</th>\n",
       "      <th>2</th>\n",
       "      <th>3</th>\n",
       "      <th>4</th>\n",
       "      <th>5</th>\n",
       "      <th>6</th>\n",
       "      <th>7</th>\n",
       "      <th>8</th>\n",
       "      <th>9</th>\n",
       "      <th>10</th>\n",
       "      <th>11</th>\n",
       "      <th>12</th>\n",
       "      <th>13</th>\n",
       "      <th>14</th>\n",
       "      <th>15</th>\n",
       "      <th>16</th>\n",
       "      <th>17</th>\n",
       "      <th>18</th>\n",
       "      <th>19</th>\n",
       "    </tr>\n",
       "  </thead>\n",
       "  <tbody>\n",
       "    <tr>\n",
       "      <th>2021-05-30</th>\n",
       "      <td>6.089939</td>\n",
       "      <td>-0.831884</td>\n",
       "      <td>-2.381989</td>\n",
       "      <td>8.236096</td>\n",
       "      <td>1.841842</td>\n",
       "      <td>2.491679</td>\n",
       "      <td>6.878707</td>\n",
       "      <td>-6.744203</td>\n",
       "      <td>0.690887</td>\n",
       "      <td>-1.572884</td>\n",
       "      <td>-2.444291</td>\n",
       "      <td>-9.208945</td>\n",
       "      <td>-0.776455</td>\n",
       "      <td>1.597196</td>\n",
       "      <td>8.921604</td>\n",
       "      <td>11.246847</td>\n",
       "      <td>-6.501441</td>\n",
       "      <td>0.549920</td>\n",
       "      <td>1.966326</td>\n",
       "      <td>-8.831962</td>\n",
       "    </tr>\n",
       "    <tr>\n",
       "      <th>2021-05-31</th>\n",
       "      <td>7.296038</td>\n",
       "      <td>-7.523517</td>\n",
       "      <td>-0.426479</td>\n",
       "      <td>6.961704</td>\n",
       "      <td>-4.628173</td>\n",
       "      <td>4.162105</td>\n",
       "      <td>6.095437</td>\n",
       "      <td>-5.343339</td>\n",
       "      <td>1.908799</td>\n",
       "      <td>-0.678459</td>\n",
       "      <td>-3.983945</td>\n",
       "      <td>-8.069847</td>\n",
       "      <td>-5.738103</td>\n",
       "      <td>1.370983</td>\n",
       "      <td>8.801225</td>\n",
       "      <td>7.653513</td>\n",
       "      <td>-7.285135</td>\n",
       "      <td>-0.673521</td>\n",
       "      <td>1.635558</td>\n",
       "      <td>-8.490695</td>\n",
       "    </tr>\n",
       "    <tr>\n",
       "      <th>2021-06-01</th>\n",
       "      <td>10.984142</td>\n",
       "      <td>-4.312168</td>\n",
       "      <td>-0.202026</td>\n",
       "      <td>11.353598</td>\n",
       "      <td>-14.515024</td>\n",
       "      <td>3.368093</td>\n",
       "      <td>12.831115</td>\n",
       "      <td>-8.672702</td>\n",
       "      <td>0.453691</td>\n",
       "      <td>0.833870</td>\n",
       "      <td>-2.399925</td>\n",
       "      <td>-8.382579</td>\n",
       "      <td>-5.752981</td>\n",
       "      <td>4.660175</td>\n",
       "      <td>1.631863</td>\n",
       "      <td>4.881578</td>\n",
       "      <td>-6.128669</td>\n",
       "      <td>-2.706326</td>\n",
       "      <td>7.607881</td>\n",
       "      <td>-4.802267</td>\n",
       "    </tr>\n",
       "    <tr>\n",
       "      <th>2021-06-02</th>\n",
       "      <td>10.092021</td>\n",
       "      <td>-6.257281</td>\n",
       "      <td>2.339373</td>\n",
       "      <td>7.723039</td>\n",
       "      <td>-8.502136</td>\n",
       "      <td>1.898992</td>\n",
       "      <td>3.181667</td>\n",
       "      <td>-6.302225</td>\n",
       "      <td>1.669517</td>\n",
       "      <td>-1.155305</td>\n",
       "      <td>-4.595189</td>\n",
       "      <td>-9.996354</td>\n",
       "      <td>-3.725357</td>\n",
       "      <td>2.697234</td>\n",
       "      <td>11.311834</td>\n",
       "      <td>9.374720</td>\n",
       "      <td>0.951947</td>\n",
       "      <td>2.846914</td>\n",
       "      <td>4.453968</td>\n",
       "      <td>1.450251</td>\n",
       "    </tr>\n",
       "    <tr>\n",
       "      <th>2021-06-03</th>\n",
       "      <td>2.445050</td>\n",
       "      <td>3.354284</td>\n",
       "      <td>3.157036</td>\n",
       "      <td>2.597542</td>\n",
       "      <td>-2.412538</td>\n",
       "      <td>2.798240</td>\n",
       "      <td>-0.738656</td>\n",
       "      <td>-7.657224</td>\n",
       "      <td>-0.648720</td>\n",
       "      <td>-1.473344</td>\n",
       "      <td>-5.512205</td>\n",
       "      <td>-9.539115</td>\n",
       "      <td>-5.148436</td>\n",
       "      <td>2.491021</td>\n",
       "      <td>-3.119453</td>\n",
       "      <td>5.282266</td>\n",
       "      <td>3.696729</td>\n",
       "      <td>0.295009</td>\n",
       "      <td>1.363428</td>\n",
       "      <td>-15.743345</td>\n",
       "    </tr>\n",
       "  </tbody>\n",
       "</table>\n",
       "</div>"
      ],
      "text/plain": [
       "                   0         1         2          3          4         5   \\\n",
       "2021-05-30   6.089939 -0.831884 -2.381989   8.236096   1.841842  2.491679   \n",
       "2021-05-31   7.296038 -7.523517 -0.426479   6.961704  -4.628173  4.162105   \n",
       "2021-06-01  10.984142 -4.312168 -0.202026  11.353598 -14.515024  3.368093   \n",
       "2021-06-02  10.092021 -6.257281  2.339373   7.723039  -8.502136  1.898992   \n",
       "2021-06-03   2.445050  3.354284  3.157036   2.597542  -2.412538  2.798240   \n",
       "\n",
       "                   6         7         8         9         10        11  \\\n",
       "2021-05-30   6.878707 -6.744203  0.690887 -1.572884 -2.444291 -9.208945   \n",
       "2021-05-31   6.095437 -5.343339  1.908799 -0.678459 -3.983945 -8.069847   \n",
       "2021-06-01  12.831115 -8.672702  0.453691  0.833870 -2.399925 -8.382579   \n",
       "2021-06-02   3.181667 -6.302225  1.669517 -1.155305 -4.595189 -9.996354   \n",
       "2021-06-03  -0.738656 -7.657224 -0.648720 -1.473344 -5.512205 -9.539115   \n",
       "\n",
       "                  12        13         14         15        16        17  \\\n",
       "2021-05-30 -0.776455  1.597196   8.921604  11.246847 -6.501441  0.549920   \n",
       "2021-05-31 -5.738103  1.370983   8.801225   7.653513 -7.285135 -0.673521   \n",
       "2021-06-01 -5.752981  4.660175   1.631863   4.881578 -6.128669 -2.706326   \n",
       "2021-06-02 -3.725357  2.697234  11.311834   9.374720  0.951947  2.846914   \n",
       "2021-06-03 -5.148436  2.491021  -3.119453   5.282266  3.696729  0.295009   \n",
       "\n",
       "                  18         19  \n",
       "2021-05-30  1.966326  -8.831962  \n",
       "2021-05-31  1.635558  -8.490695  \n",
       "2021-06-01  7.607881  -4.802267  \n",
       "2021-06-02  4.453968   1.450251  \n",
       "2021-06-03  1.363428 -15.743345  "
      ]
     },
     "execution_count": 33,
     "metadata": {},
     "output_type": "execute_result"
    }
   ],
   "source": [
    "X.head()"
   ]
  },
  {
   "cell_type": "markdown",
   "id": "4d155d35",
   "metadata": {
    "slideshow": {
     "slide_type": "subslide"
    }
   },
   "source": [
    "$Y$ contiene la serie de tiempo de respuesta. Prophet requiere que existan las columnas `ds` e `y`, con las fechas de la serie y el valor de la respuesta, respectivamenente."
   ]
  },
  {
   "cell_type": "code",
   "execution_count": 34,
   "id": "702beb0b",
   "metadata": {
    "slideshow": {
     "slide_type": "fragment"
    }
   },
   "outputs": [
    {
     "data": {
      "text/html": [
       "<pre>✔️ 8.89 ms (2021-10-27T20:29:43/2021-10-27T20:29:43)</pre>"
      ],
      "text/plain": [
       "<IPython.core.display.HTML object>"
      ]
     },
     "metadata": {},
     "output_type": "display_data"
    },
    {
     "data": {
      "text/html": [
       "<div>\n",
       "<style scoped>\n",
       "    .dataframe tbody tr th:only-of-type {\n",
       "        vertical-align: middle;\n",
       "    }\n",
       "\n",
       "    .dataframe tbody tr th {\n",
       "        vertical-align: top;\n",
       "    }\n",
       "\n",
       "    .dataframe thead th {\n",
       "        text-align: right;\n",
       "    }\n",
       "</style>\n",
       "<table border=\"1\" class=\"dataframe\">\n",
       "  <thead>\n",
       "    <tr style=\"text-align: right;\">\n",
       "      <th></th>\n",
       "      <th>y</th>\n",
       "      <th>ds</th>\n",
       "    </tr>\n",
       "  </thead>\n",
       "  <tbody>\n",
       "    <tr>\n",
       "      <th>2021-05-30</th>\n",
       "      <td>60.311721</td>\n",
       "      <td>2021-05-30</td>\n",
       "    </tr>\n",
       "    <tr>\n",
       "      <th>2021-05-31</th>\n",
       "      <td>42.480396</td>\n",
       "      <td>2021-05-31</td>\n",
       "    </tr>\n",
       "    <tr>\n",
       "      <th>2021-06-01</th>\n",
       "      <td>49.833215</td>\n",
       "      <td>2021-06-01</td>\n",
       "    </tr>\n",
       "    <tr>\n",
       "      <th>2021-06-02</th>\n",
       "      <td>46.785029</td>\n",
       "      <td>2021-06-02</td>\n",
       "    </tr>\n",
       "    <tr>\n",
       "      <th>2021-06-03</th>\n",
       "      <td>24.564080</td>\n",
       "      <td>2021-06-03</td>\n",
       "    </tr>\n",
       "  </tbody>\n",
       "</table>\n",
       "</div>"
      ],
      "text/plain": [
       "                    y         ds\n",
       "2021-05-30  60.311721 2021-05-30\n",
       "2021-05-31  42.480396 2021-05-31\n",
       "2021-06-01  49.833215 2021-06-01\n",
       "2021-06-02  46.785029 2021-06-02\n",
       "2021-06-03  24.564080 2021-06-03"
      ]
     },
     "execution_count": 34,
     "metadata": {},
     "output_type": "execute_result"
    }
   ],
   "source": [
    "Y.rename(columns={0: 'y'}, inplace=True)\n",
    "Y['ds'] = Y.index\n",
    "Y.head()"
   ]
  },
  {
   "cell_type": "markdown",
   "id": "0d140dd1",
   "metadata": {
    "slideshow": {
     "slide_type": "subslide"
    }
   },
   "source": [
    "El objeto `slices` contiene los períodos de tratamiento y blackout. En este caso no vamos a utilizar períodos de blackout — podríamos querer eliminar días de lluvia, cybers, etc. — pero Prophet permite imputar automáticamente data faltante, por lo que es perfectamente válido remover (algunos) outliers."
   ]
  },
  {
   "cell_type": "code",
   "execution_count": 35,
   "id": "58878924",
   "metadata": {
    "slideshow": {
     "slide_type": "fragment"
    }
   },
   "outputs": [
    {
     "data": {
      "text/html": [
       "<pre>✔️ 4.14 ms (2021-10-27T20:29:43/2021-10-27T20:29:43)</pre>"
      ],
      "text/plain": [
       "<IPython.core.display.HTML object>"
      ]
     },
     "metadata": {},
     "output_type": "display_data"
    },
    {
     "data": {
      "text/plain": [
       "{'treatment': slice(Timestamp('2021-09-27 00:00:00', freq='D'), Timestamp('2021-10-26 00:00:00', freq='D'), None),\n",
       " 'blackouts': []}"
      ]
     },
     "execution_count": 35,
     "metadata": {},
     "output_type": "execute_result"
    }
   ],
   "source": [
    "treatment_ixs = Y.loc[slices['treatment']].index\n",
    "control_ixs = Y.index.difference(treatment_ixs)\n",
    "slices"
   ]
  },
  {
   "cell_type": "markdown",
   "id": "f1e27682",
   "metadata": {
    "slideshow": {
     "slide_type": "subslide"
    }
   },
   "source": [
    "Visualmente, las series no muestran un claro quiebre en la respuesta $Y$ durante el período de control y tratamiento."
   ]
  },
  {
   "cell_type": "code",
   "execution_count": 36,
   "id": "489996ee",
   "metadata": {
    "slideshow": {
     "slide_type": "fragment"
    }
   },
   "outputs": [
    {
     "data": {
      "text/html": [
       "<pre>✔️ 184 ms (2021-10-27T20:29:47/2021-10-27T20:29:47)</pre>"
      ],
      "text/plain": [
       "<IPython.core.display.HTML object>"
      ]
     },
     "metadata": {},
     "output_type": "display_data"
    },
    {
     "data": {
      "image/png": "[encoded data removed]",
      "text/plain": [
       "<Figure size 864x432 with 1 Axes>"
      ]
     },
     "metadata": {
      "needs_background": "light"
     },
     "output_type": "display_data"
    }
   ],
   "source": [
    "fig, ax = plt.subplots(figsize=(12, 6))\n",
    "ax.plot(Y.loc[control_ixs, 'y'], color='blue', label='control')\n",
    "ax.plot(Y.loc[treatment_ixs, 'y'], color='red', label='treatment')\n",
    "ax.vlines(x=control_ixs[-1],ymin=ax.dataLim.bounds[1],ymax=ax.dataLim.bounds[3],linestyle='--',alpha=0.5)\n",
    "ax.legend();"
   ]
  },
  {
   "cell_type": "markdown",
   "id": "88b0943a",
   "metadata": {
    "slideshow": {
     "slide_type": "slide"
    }
   },
   "source": [
    "### Utilizando Prophet\n",
    "\n",
    "Veamos si logramos encontrar algún tipo de tendencia a través de `fbprophet`. Por ahora, solamente vamos a estar utilizando la serie de tiempo $Y$, apoyándonos en las capacidades de análisis de series de tiempo que `fbprophet` provee.\n",
    "\n",
    "Para datasets pequelos, el proceso es relativamente rápido. Hasta ahora, solamente estaremos aprendiendo los parámetros más probables para nuestras GAMs. Más adelante utilizaremos muestreo sobre los posteriores, tanto para hacer forecasting como para construir intervalos de confianza."
   ]
  },
  {
   "cell_type": "code",
   "execution_count": 37,
   "id": "17d67a28",
   "metadata": {
    "slideshow": {
     "slide_type": "fragment"
    }
   },
   "outputs": [
    {
     "data": {
      "text/html": [
       "<pre>✔️ 46.5 ms (2021-10-27T20:29:49/2021-10-27T20:29:49)</pre>"
      ],
      "text/plain": [
       "<IPython.core.display.HTML object>"
      ]
     },
     "metadata": {},
     "output_type": "display_data"
    },
    {
     "name": "stderr",
     "output_type": "stream",
     "text": [
      "INFO:prophet:Disabling yearly seasonality. Run prophet with yearly_seasonality=True to override this.\n",
      "INFO:prophet:Disabling daily seasonality. Run prophet with daily_seasonality=True to override this.\n"
     ]
    },
    {
     "name": "stdout",
     "output_type": "stream",
     "text": [
      "Initial log joint probability = -6.72692\n",
      "    Iter      log prob        ||dx||      ||grad||       alpha      alpha0  # evals  Notes \n",
      "      93        140.84   0.000479705       97.5555   5.245e-06       0.001      176  LS failed, Hessian reset \n",
      "      99        140.89   0.000607922        104.39           1           1      182   \n",
      "    Iter      log prob        ||dx||      ||grad||       alpha      alpha0  # evals  Notes \n",
      "     175       140.942   3.04855e-05       103.874   3.536e-07       0.001      324  LS failed, Hessian reset \n",
      "     199       140.947   9.48195e-07       93.8479        0.41           1      353   \n",
      "    Iter      log prob        ||dx||      ||grad||       alpha      alpha0  # evals  Notes \n",
      "     211       140.947   9.06659e-09       83.8618      0.1697      0.1697      368   \n",
      "Optimization terminated normally: \n",
      "  Convergence detected: absolute parameter change was below tolerance\n"
     ]
    }
   ],
   "source": [
    "mdl = fbprophet.Prophet()\n",
    "mdl.fit(Y.loc[control_ixs, :]);"
   ]
  },
  {
   "cell_type": "markdown",
   "id": "5716b004",
   "metadata": {
    "slideshow": {
     "slide_type": "subslide"
    }
   },
   "source": [
    "Para construir forecasts necesitamos utilizar los métodos `make_future_dataframe` y `predict`."
   ]
  },
  {
   "cell_type": "code",
   "execution_count": 38,
   "id": "b7fd30a3",
   "metadata": {
    "slideshow": {
     "slide_type": "fragment"
    }
   },
   "outputs": [
    {
     "data": {
      "text/html": [
       "<pre>✔️ 8.71 ms (2021-10-27T20:29:50/2021-10-27T20:29:50)</pre>"
      ],
      "text/plain": [
       "<IPython.core.display.HTML object>"
      ]
     },
     "metadata": {},
     "output_type": "display_data"
    },
    {
     "data": {
      "text/html": [
       "<div>\n",
       "<style scoped>\n",
       "    .dataframe tbody tr th:only-of-type {\n",
       "        vertical-align: middle;\n",
       "    }\n",
       "\n",
       "    .dataframe tbody tr th {\n",
       "        vertical-align: top;\n",
       "    }\n",
       "\n",
       "    .dataframe thead th {\n",
       "        text-align: right;\n",
       "    }\n",
       "</style>\n",
       "<table border=\"1\" class=\"dataframe\">\n",
       "  <thead>\n",
       "    <tr style=\"text-align: right;\">\n",
       "      <th></th>\n",
       "      <th>ds</th>\n",
       "    </tr>\n",
       "  </thead>\n",
       "  <tbody>\n",
       "    <tr>\n",
       "      <th>0</th>\n",
       "      <td>2021-05-30</td>\n",
       "    </tr>\n",
       "    <tr>\n",
       "      <th>1</th>\n",
       "      <td>2021-05-31</td>\n",
       "    </tr>\n",
       "    <tr>\n",
       "      <th>2</th>\n",
       "      <td>2021-06-01</td>\n",
       "    </tr>\n",
       "    <tr>\n",
       "      <th>3</th>\n",
       "      <td>2021-06-02</td>\n",
       "    </tr>\n",
       "    <tr>\n",
       "      <th>4</th>\n",
       "      <td>2021-06-03</td>\n",
       "    </tr>\n",
       "    <tr>\n",
       "      <th>...</th>\n",
       "      <td>...</td>\n",
       "    </tr>\n",
       "    <tr>\n",
       "      <th>145</th>\n",
       "      <td>2021-10-22</td>\n",
       "    </tr>\n",
       "    <tr>\n",
       "      <th>146</th>\n",
       "      <td>2021-10-23</td>\n",
       "    </tr>\n",
       "    <tr>\n",
       "      <th>147</th>\n",
       "      <td>2021-10-24</td>\n",
       "    </tr>\n",
       "    <tr>\n",
       "      <th>148</th>\n",
       "      <td>2021-10-25</td>\n",
       "    </tr>\n",
       "    <tr>\n",
       "      <th>149</th>\n",
       "      <td>2021-10-26</td>\n",
       "    </tr>\n",
       "  </tbody>\n",
       "</table>\n",
       "<p>150 rows × 1 columns</p>\n",
       "</div>"
      ],
      "text/plain": [
       "            ds\n",
       "0   2021-05-30\n",
       "1   2021-05-31\n",
       "2   2021-06-01\n",
       "3   2021-06-02\n",
       "4   2021-06-03\n",
       "..         ...\n",
       "145 2021-10-22\n",
       "146 2021-10-23\n",
       "147 2021-10-24\n",
       "148 2021-10-25\n",
       "149 2021-10-26\n",
       "\n",
       "[150 rows x 1 columns]"
      ]
     },
     "execution_count": 38,
     "metadata": {},
     "output_type": "execute_result"
    }
   ],
   "source": [
    "mdl.make_future_dataframe(30)"
   ]
  },
  {
   "cell_type": "code",
   "execution_count": 39,
   "id": "dddc5280",
   "metadata": {
    "slideshow": {
     "slide_type": "subslide"
    }
   },
   "outputs": [
    {
     "data": {
      "text/html": [
       "<pre>✔️ 1.22 s (2021-10-27T20:29:51/2021-10-27T20:29:52)</pre>"
      ],
      "text/plain": [
       "<IPython.core.display.HTML object>"
      ]
     },
     "metadata": {},
     "output_type": "display_data"
    },
    {
     "data": {
      "text/html": [
       "<div>\n",
       "<style scoped>\n",
       "    .dataframe tbody tr th:only-of-type {\n",
       "        vertical-align: middle;\n",
       "    }\n",
       "\n",
       "    .dataframe tbody tr th {\n",
       "        vertical-align: top;\n",
       "    }\n",
       "\n",
       "    .dataframe thead th {\n",
       "        text-align: right;\n",
       "    }\n",
       "</style>\n",
       "<table border=\"1\" class=\"dataframe\">\n",
       "  <thead>\n",
       "    <tr style=\"text-align: right;\">\n",
       "      <th></th>\n",
       "      <th>ds</th>\n",
       "      <th>trend</th>\n",
       "      <th>yhat_lower</th>\n",
       "      <th>yhat_upper</th>\n",
       "      <th>trend_lower</th>\n",
       "      <th>trend_upper</th>\n",
       "      <th>additive_terms</th>\n",
       "      <th>additive_terms_lower</th>\n",
       "      <th>additive_terms_upper</th>\n",
       "      <th>weekly</th>\n",
       "      <th>weekly_lower</th>\n",
       "      <th>weekly_upper</th>\n",
       "      <th>multiplicative_terms</th>\n",
       "      <th>multiplicative_terms_lower</th>\n",
       "      <th>multiplicative_terms_upper</th>\n",
       "      <th>yhat</th>\n",
       "    </tr>\n",
       "    <tr>\n",
       "      <th></th>\n",
       "      <th></th>\n",
       "      <th></th>\n",
       "      <th></th>\n",
       "      <th></th>\n",
       "      <th></th>\n",
       "      <th></th>\n",
       "      <th></th>\n",
       "      <th></th>\n",
       "      <th></th>\n",
       "      <th></th>\n",
       "      <th></th>\n",
       "      <th></th>\n",
       "      <th></th>\n",
       "      <th></th>\n",
       "      <th></th>\n",
       "      <th></th>\n",
       "    </tr>\n",
       "  </thead>\n",
       "  <tbody>\n",
       "    <tr>\n",
       "      <th>2021-05-30</th>\n",
       "      <td>2021-05-30</td>\n",
       "      <td>38.660258</td>\n",
       "      <td>22.089440</td>\n",
       "      <td>53.656496</td>\n",
       "      <td>38.660258</td>\n",
       "      <td>38.660258</td>\n",
       "      <td>0.399541</td>\n",
       "      <td>0.399541</td>\n",
       "      <td>0.399541</td>\n",
       "      <td>0.399541</td>\n",
       "      <td>0.399541</td>\n",
       "      <td>0.399541</td>\n",
       "      <td>0.0</td>\n",
       "      <td>0.0</td>\n",
       "      <td>0.0</td>\n",
       "      <td>39.059799</td>\n",
       "    </tr>\n",
       "    <tr>\n",
       "      <th>2021-05-31</th>\n",
       "      <td>2021-05-31</td>\n",
       "      <td>38.628099</td>\n",
       "      <td>19.902048</td>\n",
       "      <td>53.855965</td>\n",
       "      <td>38.628099</td>\n",
       "      <td>38.628099</td>\n",
       "      <td>-1.340906</td>\n",
       "      <td>-1.340906</td>\n",
       "      <td>-1.340906</td>\n",
       "      <td>-1.340906</td>\n",
       "      <td>-1.340906</td>\n",
       "      <td>-1.340906</td>\n",
       "      <td>0.0</td>\n",
       "      <td>0.0</td>\n",
       "      <td>0.0</td>\n",
       "      <td>37.287193</td>\n",
       "    </tr>\n",
       "    <tr>\n",
       "      <th>2021-06-01</th>\n",
       "      <td>2021-06-01</td>\n",
       "      <td>38.595940</td>\n",
       "      <td>30.798936</td>\n",
       "      <td>64.448995</td>\n",
       "      <td>38.595940</td>\n",
       "      <td>38.595940</td>\n",
       "      <td>9.047073</td>\n",
       "      <td>9.047073</td>\n",
       "      <td>9.047073</td>\n",
       "      <td>9.047073</td>\n",
       "      <td>9.047073</td>\n",
       "      <td>9.047073</td>\n",
       "      <td>0.0</td>\n",
       "      <td>0.0</td>\n",
       "      <td>0.0</td>\n",
       "      <td>47.643013</td>\n",
       "    </tr>\n",
       "    <tr>\n",
       "      <th>2021-06-02</th>\n",
       "      <td>2021-06-02</td>\n",
       "      <td>38.563781</td>\n",
       "      <td>17.589564</td>\n",
       "      <td>49.692321</td>\n",
       "      <td>38.563781</td>\n",
       "      <td>38.563781</td>\n",
       "      <td>-4.369696</td>\n",
       "      <td>-4.369696</td>\n",
       "      <td>-4.369696</td>\n",
       "      <td>-4.369696</td>\n",
       "      <td>-4.369696</td>\n",
       "      <td>-4.369696</td>\n",
       "      <td>0.0</td>\n",
       "      <td>0.0</td>\n",
       "      <td>0.0</td>\n",
       "      <td>34.194085</td>\n",
       "    </tr>\n",
       "    <tr>\n",
       "      <th>2021-06-03</th>\n",
       "      <td>2021-06-03</td>\n",
       "      <td>38.531622</td>\n",
       "      <td>22.175040</td>\n",
       "      <td>54.827062</td>\n",
       "      <td>38.531622</td>\n",
       "      <td>38.531622</td>\n",
       "      <td>-1.034545</td>\n",
       "      <td>-1.034545</td>\n",
       "      <td>-1.034545</td>\n",
       "      <td>-1.034545</td>\n",
       "      <td>-1.034545</td>\n",
       "      <td>-1.034545</td>\n",
       "      <td>0.0</td>\n",
       "      <td>0.0</td>\n",
       "      <td>0.0</td>\n",
       "      <td>37.497077</td>\n",
       "    </tr>\n",
       "    <tr>\n",
       "      <th>...</th>\n",
       "      <td>...</td>\n",
       "      <td>...</td>\n",
       "      <td>...</td>\n",
       "      <td>...</td>\n",
       "      <td>...</td>\n",
       "      <td>...</td>\n",
       "      <td>...</td>\n",
       "      <td>...</td>\n",
       "      <td>...</td>\n",
       "      <td>...</td>\n",
       "      <td>...</td>\n",
       "      <td>...</td>\n",
       "      <td>...</td>\n",
       "      <td>...</td>\n",
       "      <td>...</td>\n",
       "      <td>...</td>\n",
       "    </tr>\n",
       "    <tr>\n",
       "      <th>2021-10-22</th>\n",
       "      <td>2021-10-22</td>\n",
       "      <td>33.998523</td>\n",
       "      <td>19.090354</td>\n",
       "      <td>53.202288</td>\n",
       "      <td>33.998492</td>\n",
       "      <td>33.998552</td>\n",
       "      <td>2.301900</td>\n",
       "      <td>2.301900</td>\n",
       "      <td>2.301900</td>\n",
       "      <td>2.301900</td>\n",
       "      <td>2.301900</td>\n",
       "      <td>2.301900</td>\n",
       "      <td>0.0</td>\n",
       "      <td>0.0</td>\n",
       "      <td>0.0</td>\n",
       "      <td>36.300423</td>\n",
       "    </tr>\n",
       "    <tr>\n",
       "      <th>2021-10-23</th>\n",
       "      <td>2021-10-23</td>\n",
       "      <td>33.966377</td>\n",
       "      <td>12.329026</td>\n",
       "      <td>45.217546</td>\n",
       "      <td>33.966343</td>\n",
       "      <td>33.966407</td>\n",
       "      <td>-5.003367</td>\n",
       "      <td>-5.003367</td>\n",
       "      <td>-5.003367</td>\n",
       "      <td>-5.003367</td>\n",
       "      <td>-5.003367</td>\n",
       "      <td>-5.003367</td>\n",
       "      <td>0.0</td>\n",
       "      <td>0.0</td>\n",
       "      <td>0.0</td>\n",
       "      <td>28.963010</td>\n",
       "    </tr>\n",
       "    <tr>\n",
       "      <th>2021-10-24</th>\n",
       "      <td>2021-10-24</td>\n",
       "      <td>33.934230</td>\n",
       "      <td>17.402913</td>\n",
       "      <td>49.768460</td>\n",
       "      <td>33.934194</td>\n",
       "      <td>33.934262</td>\n",
       "      <td>0.399541</td>\n",
       "      <td>0.399541</td>\n",
       "      <td>0.399541</td>\n",
       "      <td>0.399541</td>\n",
       "      <td>0.399541</td>\n",
       "      <td>0.399541</td>\n",
       "      <td>0.0</td>\n",
       "      <td>0.0</td>\n",
       "      <td>0.0</td>\n",
       "      <td>34.333771</td>\n",
       "    </tr>\n",
       "    <tr>\n",
       "      <th>2021-10-25</th>\n",
       "      <td>2021-10-25</td>\n",
       "      <td>33.902083</td>\n",
       "      <td>16.355398</td>\n",
       "      <td>48.943414</td>\n",
       "      <td>33.902046</td>\n",
       "      <td>33.902117</td>\n",
       "      <td>-1.340906</td>\n",
       "      <td>-1.340906</td>\n",
       "      <td>-1.340906</td>\n",
       "      <td>-1.340906</td>\n",
       "      <td>-1.340906</td>\n",
       "      <td>-1.340906</td>\n",
       "      <td>0.0</td>\n",
       "      <td>0.0</td>\n",
       "      <td>0.0</td>\n",
       "      <td>32.561177</td>\n",
       "    </tr>\n",
       "    <tr>\n",
       "      <th>2021-10-26</th>\n",
       "      <td>2021-10-26</td>\n",
       "      <td>33.869937</td>\n",
       "      <td>25.706167</td>\n",
       "      <td>59.072474</td>\n",
       "      <td>33.869897</td>\n",
       "      <td>33.869972</td>\n",
       "      <td>9.047073</td>\n",
       "      <td>9.047073</td>\n",
       "      <td>9.047073</td>\n",
       "      <td>9.047073</td>\n",
       "      <td>9.047073</td>\n",
       "      <td>9.047073</td>\n",
       "      <td>0.0</td>\n",
       "      <td>0.0</td>\n",
       "      <td>0.0</td>\n",
       "      <td>42.917009</td>\n",
       "    </tr>\n",
       "  </tbody>\n",
       "</table>\n",
       "<p>150 rows × 16 columns</p>\n",
       "</div>"
      ],
      "text/plain": [
       "                   ds      trend  yhat_lower  yhat_upper  trend_lower  \\\n",
       "                                                                        \n",
       "2021-05-30 2021-05-30  38.660258   22.089440   53.656496    38.660258   \n",
       "2021-05-31 2021-05-31  38.628099   19.902048   53.855965    38.628099   \n",
       "2021-06-01 2021-06-01  38.595940   30.798936   64.448995    38.595940   \n",
       "2021-06-02 2021-06-02  38.563781   17.589564   49.692321    38.563781   \n",
       "2021-06-03 2021-06-03  38.531622   22.175040   54.827062    38.531622   \n",
       "...               ...        ...         ...         ...          ...   \n",
       "2021-10-22 2021-10-22  33.998523   19.090354   53.202288    33.998492   \n",
       "2021-10-23 2021-10-23  33.966377   12.329026   45.217546    33.966343   \n",
       "2021-10-24 2021-10-24  33.934230   17.402913   49.768460    33.934194   \n",
       "2021-10-25 2021-10-25  33.902083   16.355398   48.943414    33.902046   \n",
       "2021-10-26 2021-10-26  33.869937   25.706167   59.072474    33.869897   \n",
       "\n",
       "            trend_upper  additive_terms  additive_terms_lower  \\\n",
       "                                                                \n",
       "2021-05-30    38.660258        0.399541              0.399541   \n",
       "2021-05-31    38.628099       -1.340906             -1.340906   \n",
       "2021-06-01    38.595940        9.047073              9.047073   \n",
       "2021-06-02    38.563781       -4.369696             -4.369696   \n",
       "2021-06-03    38.531622       -1.034545             -1.034545   \n",
       "...                 ...             ...                   ...   \n",
       "2021-10-22    33.998552        2.301900              2.301900   \n",
       "2021-10-23    33.966407       -5.003367             -5.003367   \n",
       "2021-10-24    33.934262        0.399541              0.399541   \n",
       "2021-10-25    33.902117       -1.340906             -1.340906   \n",
       "2021-10-26    33.869972        9.047073              9.047073   \n",
       "\n",
       "            additive_terms_upper    weekly  weekly_lower  weekly_upper  \\\n",
       "                                                                         \n",
       "2021-05-30              0.399541  0.399541      0.399541      0.399541   \n",
       "2021-05-31             -1.340906 -1.340906     -1.340906     -1.340906   \n",
       "2021-06-01              9.047073  9.047073      9.047073      9.047073   \n",
       "2021-06-02             -4.369696 -4.369696     -4.369696     -4.369696   \n",
       "2021-06-03             -1.034545 -1.034545     -1.034545     -1.034545   \n",
       "...                          ...       ...           ...           ...   \n",
       "2021-10-22              2.301900  2.301900      2.301900      2.301900   \n",
       "2021-10-23             -5.003367 -5.003367     -5.003367     -5.003367   \n",
       "2021-10-24              0.399541  0.399541      0.399541      0.399541   \n",
       "2021-10-25             -1.340906 -1.340906     -1.340906     -1.340906   \n",
       "2021-10-26              9.047073  9.047073      9.047073      9.047073   \n",
       "\n",
       "            multiplicative_terms  multiplicative_terms_lower  \\\n",
       "                                                               \n",
       "2021-05-30                   0.0                         0.0   \n",
       "2021-05-31                   0.0                         0.0   \n",
       "2021-06-01                   0.0                         0.0   \n",
       "2021-06-02                   0.0                         0.0   \n",
       "2021-06-03                   0.0                         0.0   \n",
       "...                          ...                         ...   \n",
       "2021-10-22                   0.0                         0.0   \n",
       "2021-10-23                   0.0                         0.0   \n",
       "2021-10-24                   0.0                         0.0   \n",
       "2021-10-25                   0.0                         0.0   \n",
       "2021-10-26                   0.0                         0.0   \n",
       "\n",
       "            multiplicative_terms_upper       yhat  \n",
       "                                                   \n",
       "2021-05-30                         0.0  39.059799  \n",
       "2021-05-31                         0.0  37.287193  \n",
       "2021-06-01                         0.0  47.643013  \n",
       "2021-06-02                         0.0  34.194085  \n",
       "2021-06-03                         0.0  37.497077  \n",
       "...                                ...        ...  \n",
       "2021-10-22                         0.0  36.300423  \n",
       "2021-10-23                         0.0  28.963010  \n",
       "2021-10-24                         0.0  34.333771  \n",
       "2021-10-25                         0.0  32.561177  \n",
       "2021-10-26                         0.0  42.917009  \n",
       "\n",
       "[150 rows x 16 columns]"
      ]
     },
     "execution_count": 39,
     "metadata": {},
     "output_type": "execute_result"
    }
   ],
   "source": [
    "_ = mdl.make_future_dataframe(30)\n",
    "forecast = mdl.predict(_)\n",
    "forecast.index = pd.DatetimeIndex(forecast['ds'], name='')\n",
    "forecast"
   ]
  },
  {
   "cell_type": "markdown",
   "id": "9ae196c9",
   "metadata": {
    "slideshow": {
     "slide_type": "subslide"
    }
   },
   "source": [
    "Los forecasts no son muy buenos. Definitivamente algo falta."
   ]
  },
  {
   "cell_type": "code",
   "execution_count": 40,
   "id": "2fd03968",
   "metadata": {
    "slideshow": {
     "slide_type": "fragment"
    }
   },
   "outputs": [
    {
     "data": {
      "text/html": [
       "<pre>✔️ 186 ms (2021-10-27T20:29:52/2021-10-27T20:29:52)</pre>"
      ],
      "text/plain": [
       "<IPython.core.display.HTML object>"
      ]
     },
     "metadata": {},
     "output_type": "display_data"
    },
    {
     "data": {
      "image/png": "[encoded data removed]",
      "text/plain": [
       "<Figure size 864x432 with 1 Axes>"
      ]
     },
     "metadata": {
      "needs_background": "light"
     },
     "output_type": "display_data"
    }
   ],
   "source": [
    "fig, ax = plt.subplots(figsize=(12, 6))\n",
    "ax.plot(Y.loc[control_ixs, 'y'], color='blue', label='control', alpha=0.3)\n",
    "ax.plot(Y.loc[treatment_ixs, 'y'], color='red', label='treatment', alpha=0.3)\n",
    "ax.vlines(x=control_ixs[-1], ymin=ax.dataLim.bounds[1], ymax=ax.dataLim.bounds[3], linestyle='--', alpha=0.5)\n",
    "ax.plot(forecast.yhat, color='green', label='forecast')\n",
    "ax.legend();"
   ]
  },
  {
   "cell_type": "markdown",
   "id": "e64f4008",
   "metadata": {
    "slideshow": {
     "slide_type": "slide"
    }
   },
   "source": [
    "### Agreguemos controles\n",
    "\n",
    "¡Los controles son informativos! Si los agregamos, vamos a mejorar nuestra capacidad de capturar efectos exógenos, que solamente agregan variabilidad no capturada a nuestra serie $Y$.\n",
    "\n",
    "Entrenemos un segundo modelo, esta vez incluyendo todos los controles como regresores adicionales. Necesitaremos utilizar el método `add_regressor`, además de entregar los valores para cada uno de estos controles al momento de generar forecasts con `predict`."
   ]
  },
  {
   "cell_type": "code",
   "execution_count": 41,
   "id": "35897b0e",
   "metadata": {
    "slideshow": {
     "slide_type": "subslide"
    }
   },
   "outputs": [
    {
     "data": {
      "text/html": [
       "<pre>✔️ 20.4 ms (2021-10-27T20:29:55/2021-10-27T20:29:55)</pre>"
      ],
      "text/plain": [
       "<IPython.core.display.HTML object>"
      ]
     },
     "metadata": {},
     "output_type": "display_data"
    },
    {
     "data": {
      "text/html": [
       "<div>\n",
       "<style scoped>\n",
       "    .dataframe tbody tr th:only-of-type {\n",
       "        vertical-align: middle;\n",
       "    }\n",
       "\n",
       "    .dataframe tbody tr th {\n",
       "        vertical-align: top;\n",
       "    }\n",
       "\n",
       "    .dataframe thead th {\n",
       "        text-align: right;\n",
       "    }\n",
       "</style>\n",
       "<table border=\"1\" class=\"dataframe\">\n",
       "  <thead>\n",
       "    <tr style=\"text-align: right;\">\n",
       "      <th></th>\n",
       "      <th>x0</th>\n",
       "      <th>x1</th>\n",
       "      <th>x2</th>\n",
       "      <th>x3</th>\n",
       "      <th>x4</th>\n",
       "      <th>x5</th>\n",
       "      <th>x6</th>\n",
       "      <th>x7</th>\n",
       "      <th>x8</th>\n",
       "      <th>x9</th>\n",
       "      <th>x10</th>\n",
       "      <th>x11</th>\n",
       "      <th>x12</th>\n",
       "      <th>x13</th>\n",
       "      <th>x14</th>\n",
       "      <th>x15</th>\n",
       "      <th>x16</th>\n",
       "      <th>x17</th>\n",
       "      <th>x18</th>\n",
       "      <th>x19</th>\n",
       "    </tr>\n",
       "  </thead>\n",
       "  <tbody>\n",
       "    <tr>\n",
       "      <th>2021-05-30</th>\n",
       "      <td>6.089939</td>\n",
       "      <td>-0.831884</td>\n",
       "      <td>-2.381989</td>\n",
       "      <td>8.236096</td>\n",
       "      <td>1.841842</td>\n",
       "      <td>2.491679</td>\n",
       "      <td>6.878707</td>\n",
       "      <td>-6.744203</td>\n",
       "      <td>0.690887</td>\n",
       "      <td>-1.572884</td>\n",
       "      <td>-2.444291</td>\n",
       "      <td>-9.208945</td>\n",
       "      <td>-0.776455</td>\n",
       "      <td>1.597196</td>\n",
       "      <td>8.921604</td>\n",
       "      <td>11.246847</td>\n",
       "      <td>-6.501441</td>\n",
       "      <td>0.549920</td>\n",
       "      <td>1.966326</td>\n",
       "      <td>-8.831962</td>\n",
       "    </tr>\n",
       "    <tr>\n",
       "      <th>2021-05-31</th>\n",
       "      <td>7.296038</td>\n",
       "      <td>-7.523517</td>\n",
       "      <td>-0.426479</td>\n",
       "      <td>6.961704</td>\n",
       "      <td>-4.628173</td>\n",
       "      <td>4.162105</td>\n",
       "      <td>6.095437</td>\n",
       "      <td>-5.343339</td>\n",
       "      <td>1.908799</td>\n",
       "      <td>-0.678459</td>\n",
       "      <td>-3.983945</td>\n",
       "      <td>-8.069847</td>\n",
       "      <td>-5.738103</td>\n",
       "      <td>1.370983</td>\n",
       "      <td>8.801225</td>\n",
       "      <td>7.653513</td>\n",
       "      <td>-7.285135</td>\n",
       "      <td>-0.673521</td>\n",
       "      <td>1.635558</td>\n",
       "      <td>-8.490695</td>\n",
       "    </tr>\n",
       "    <tr>\n",
       "      <th>2021-06-01</th>\n",
       "      <td>10.984142</td>\n",
       "      <td>-4.312168</td>\n",
       "      <td>-0.202026</td>\n",
       "      <td>11.353598</td>\n",
       "      <td>-14.515024</td>\n",
       "      <td>3.368093</td>\n",
       "      <td>12.831115</td>\n",
       "      <td>-8.672702</td>\n",
       "      <td>0.453691</td>\n",
       "      <td>0.833870</td>\n",
       "      <td>-2.399925</td>\n",
       "      <td>-8.382579</td>\n",
       "      <td>-5.752981</td>\n",
       "      <td>4.660175</td>\n",
       "      <td>1.631863</td>\n",
       "      <td>4.881578</td>\n",
       "      <td>-6.128669</td>\n",
       "      <td>-2.706326</td>\n",
       "      <td>7.607881</td>\n",
       "      <td>-4.802267</td>\n",
       "    </tr>\n",
       "    <tr>\n",
       "      <th>2021-06-02</th>\n",
       "      <td>10.092021</td>\n",
       "      <td>-6.257281</td>\n",
       "      <td>2.339373</td>\n",
       "      <td>7.723039</td>\n",
       "      <td>-8.502136</td>\n",
       "      <td>1.898992</td>\n",
       "      <td>3.181667</td>\n",
       "      <td>-6.302225</td>\n",
       "      <td>1.669517</td>\n",
       "      <td>-1.155305</td>\n",
       "      <td>-4.595189</td>\n",
       "      <td>-9.996354</td>\n",
       "      <td>-3.725357</td>\n",
       "      <td>2.697234</td>\n",
       "      <td>11.311834</td>\n",
       "      <td>9.374720</td>\n",
       "      <td>0.951947</td>\n",
       "      <td>2.846914</td>\n",
       "      <td>4.453968</td>\n",
       "      <td>1.450251</td>\n",
       "    </tr>\n",
       "    <tr>\n",
       "      <th>2021-06-03</th>\n",
       "      <td>2.445050</td>\n",
       "      <td>3.354284</td>\n",
       "      <td>3.157036</td>\n",
       "      <td>2.597542</td>\n",
       "      <td>-2.412538</td>\n",
       "      <td>2.798240</td>\n",
       "      <td>-0.738656</td>\n",
       "      <td>-7.657224</td>\n",
       "      <td>-0.648720</td>\n",
       "      <td>-1.473344</td>\n",
       "      <td>-5.512205</td>\n",
       "      <td>-9.539115</td>\n",
       "      <td>-5.148436</td>\n",
       "      <td>2.491021</td>\n",
       "      <td>-3.119453</td>\n",
       "      <td>5.282266</td>\n",
       "      <td>3.696729</td>\n",
       "      <td>0.295009</td>\n",
       "      <td>1.363428</td>\n",
       "      <td>-15.743345</td>\n",
       "    </tr>\n",
       "  </tbody>\n",
       "</table>\n",
       "</div>"
      ],
      "text/plain": [
       "                   x0        x1        x2         x3         x4        x5  \\\n",
       "2021-05-30   6.089939 -0.831884 -2.381989   8.236096   1.841842  2.491679   \n",
       "2021-05-31   7.296038 -7.523517 -0.426479   6.961704  -4.628173  4.162105   \n",
       "2021-06-01  10.984142 -4.312168 -0.202026  11.353598 -14.515024  3.368093   \n",
       "2021-06-02  10.092021 -6.257281  2.339373   7.723039  -8.502136  1.898992   \n",
       "2021-06-03   2.445050  3.354284  3.157036   2.597542  -2.412538  2.798240   \n",
       "\n",
       "                   x6        x7        x8        x9       x10       x11  \\\n",
       "2021-05-30   6.878707 -6.744203  0.690887 -1.572884 -2.444291 -9.208945   \n",
       "2021-05-31   6.095437 -5.343339  1.908799 -0.678459 -3.983945 -8.069847   \n",
       "2021-06-01  12.831115 -8.672702  0.453691  0.833870 -2.399925 -8.382579   \n",
       "2021-06-02   3.181667 -6.302225  1.669517 -1.155305 -4.595189 -9.996354   \n",
       "2021-06-03  -0.738656 -7.657224 -0.648720 -1.473344 -5.512205 -9.539115   \n",
       "\n",
       "                 x12       x13        x14        x15       x16       x17  \\\n",
       "2021-05-30 -0.776455  1.597196   8.921604  11.246847 -6.501441  0.549920   \n",
       "2021-05-31 -5.738103  1.370983   8.801225   7.653513 -7.285135 -0.673521   \n",
       "2021-06-01 -5.752981  4.660175   1.631863   4.881578 -6.128669 -2.706326   \n",
       "2021-06-02 -3.725357  2.697234  11.311834   9.374720  0.951947  2.846914   \n",
       "2021-06-03 -5.148436  2.491021  -3.119453   5.282266  3.696729  0.295009   \n",
       "\n",
       "                 x18        x19  \n",
       "2021-05-30  1.966326  -8.831962  \n",
       "2021-05-31  1.635558  -8.490695  \n",
       "2021-06-01  7.607881  -4.802267  \n",
       "2021-06-02  4.453968   1.450251  \n",
       "2021-06-03  1.363428 -15.743345  "
      ]
     },
     "execution_count": 41,
     "metadata": {},
     "output_type": "execute_result"
    }
   ],
   "source": [
    "X.rename(columns={\n",
    "    c: 'x{}'.format(c) for c in X.columns\n",
    "}, inplace=True)\n",
    "X.head()"
   ]
  },
  {
   "cell_type": "code",
   "execution_count": 42,
   "id": "ae6160f6",
   "metadata": {
    "slideshow": {
     "slide_type": "subslide"
    }
   },
   "outputs": [
    {
     "data": {
      "text/html": [
       "<pre>✔️ 7.77 ms (2021-10-27T20:29:56/2021-10-27T20:29:56)</pre>"
      ],
      "text/plain": [
       "<IPython.core.display.HTML object>"
      ]
     },
     "metadata": {},
     "output_type": "display_data"
    }
   ],
   "source": [
    "mdl2 = fbprophet.Prophet()\n",
    "[\n",
    "    mdl2.add_regressor(name=c) for c in X.columns\n",
    "];"
   ]
  },
  {
   "cell_type": "markdown",
   "id": "ad89d638",
   "metadata": {
    "slideshow": {
     "slide_type": "subslide"
    }
   },
   "source": [
    "Para hacer las cosas más sencillas, creemos un único dataframe que contenga tanto la serie de respuesta como los controles, además de la columna `ds`, requerida por Prophet."
   ]
  },
  {
   "cell_type": "code",
   "execution_count": 43,
   "id": "8d7dd20c",
   "metadata": {
    "slideshow": {
     "slide_type": "fragment"
    }
   },
   "outputs": [
    {
     "data": {
      "text/html": [
       "<pre>✔️ 22.1 ms (2021-10-27T20:29:58/2021-10-27T20:29:58)</pre>"
      ],
      "text/plain": [
       "<IPython.core.display.HTML object>"
      ]
     },
     "metadata": {},
     "output_type": "display_data"
    },
    {
     "data": {
      "text/html": [
       "<div>\n",
       "<style scoped>\n",
       "    .dataframe tbody tr th:only-of-type {\n",
       "        vertical-align: middle;\n",
       "    }\n",
       "\n",
       "    .dataframe tbody tr th {\n",
       "        vertical-align: top;\n",
       "    }\n",
       "\n",
       "    .dataframe thead th {\n",
       "        text-align: right;\n",
       "    }\n",
       "</style>\n",
       "<table border=\"1\" class=\"dataframe\">\n",
       "  <thead>\n",
       "    <tr style=\"text-align: right;\">\n",
       "      <th></th>\n",
       "      <th>x0</th>\n",
       "      <th>x1</th>\n",
       "      <th>x2</th>\n",
       "      <th>x3</th>\n",
       "      <th>x4</th>\n",
       "      <th>x5</th>\n",
       "      <th>x6</th>\n",
       "      <th>x7</th>\n",
       "      <th>x8</th>\n",
       "      <th>x9</th>\n",
       "      <th>...</th>\n",
       "      <th>x12</th>\n",
       "      <th>x13</th>\n",
       "      <th>x14</th>\n",
       "      <th>x15</th>\n",
       "      <th>x16</th>\n",
       "      <th>x17</th>\n",
       "      <th>x18</th>\n",
       "      <th>x19</th>\n",
       "      <th>y</th>\n",
       "      <th>ds</th>\n",
       "    </tr>\n",
       "  </thead>\n",
       "  <tbody>\n",
       "    <tr>\n",
       "      <th>2021-05-30</th>\n",
       "      <td>6.089939</td>\n",
       "      <td>-0.831884</td>\n",
       "      <td>-2.381989</td>\n",
       "      <td>8.236096</td>\n",
       "      <td>1.841842</td>\n",
       "      <td>2.491679</td>\n",
       "      <td>6.878707</td>\n",
       "      <td>-6.744203</td>\n",
       "      <td>0.690887</td>\n",
       "      <td>-1.572884</td>\n",
       "      <td>...</td>\n",
       "      <td>-0.776455</td>\n",
       "      <td>1.597196</td>\n",
       "      <td>8.921604</td>\n",
       "      <td>11.246847</td>\n",
       "      <td>-6.501441</td>\n",
       "      <td>0.549920</td>\n",
       "      <td>1.966326</td>\n",
       "      <td>-8.831962</td>\n",
       "      <td>60.311721</td>\n",
       "      <td>2021-05-30</td>\n",
       "    </tr>\n",
       "    <tr>\n",
       "      <th>2021-05-31</th>\n",
       "      <td>7.296038</td>\n",
       "      <td>-7.523517</td>\n",
       "      <td>-0.426479</td>\n",
       "      <td>6.961704</td>\n",
       "      <td>-4.628173</td>\n",
       "      <td>4.162105</td>\n",
       "      <td>6.095437</td>\n",
       "      <td>-5.343339</td>\n",
       "      <td>1.908799</td>\n",
       "      <td>-0.678459</td>\n",
       "      <td>...</td>\n",
       "      <td>-5.738103</td>\n",
       "      <td>1.370983</td>\n",
       "      <td>8.801225</td>\n",
       "      <td>7.653513</td>\n",
       "      <td>-7.285135</td>\n",
       "      <td>-0.673521</td>\n",
       "      <td>1.635558</td>\n",
       "      <td>-8.490695</td>\n",
       "      <td>42.480396</td>\n",
       "      <td>2021-05-31</td>\n",
       "    </tr>\n",
       "    <tr>\n",
       "      <th>2021-06-01</th>\n",
       "      <td>10.984142</td>\n",
       "      <td>-4.312168</td>\n",
       "      <td>-0.202026</td>\n",
       "      <td>11.353598</td>\n",
       "      <td>-14.515024</td>\n",
       "      <td>3.368093</td>\n",
       "      <td>12.831115</td>\n",
       "      <td>-8.672702</td>\n",
       "      <td>0.453691</td>\n",
       "      <td>0.833870</td>\n",
       "      <td>...</td>\n",
       "      <td>-5.752981</td>\n",
       "      <td>4.660175</td>\n",
       "      <td>1.631863</td>\n",
       "      <td>4.881578</td>\n",
       "      <td>-6.128669</td>\n",
       "      <td>-2.706326</td>\n",
       "      <td>7.607881</td>\n",
       "      <td>-4.802267</td>\n",
       "      <td>49.833215</td>\n",
       "      <td>2021-06-01</td>\n",
       "    </tr>\n",
       "    <tr>\n",
       "      <th>2021-06-02</th>\n",
       "      <td>10.092021</td>\n",
       "      <td>-6.257281</td>\n",
       "      <td>2.339373</td>\n",
       "      <td>7.723039</td>\n",
       "      <td>-8.502136</td>\n",
       "      <td>1.898992</td>\n",
       "      <td>3.181667</td>\n",
       "      <td>-6.302225</td>\n",
       "      <td>1.669517</td>\n",
       "      <td>-1.155305</td>\n",
       "      <td>...</td>\n",
       "      <td>-3.725357</td>\n",
       "      <td>2.697234</td>\n",
       "      <td>11.311834</td>\n",
       "      <td>9.374720</td>\n",
       "      <td>0.951947</td>\n",
       "      <td>2.846914</td>\n",
       "      <td>4.453968</td>\n",
       "      <td>1.450251</td>\n",
       "      <td>46.785029</td>\n",
       "      <td>2021-06-02</td>\n",
       "    </tr>\n",
       "    <tr>\n",
       "      <th>2021-06-03</th>\n",
       "      <td>2.445050</td>\n",
       "      <td>3.354284</td>\n",
       "      <td>3.157036</td>\n",
       "      <td>2.597542</td>\n",
       "      <td>-2.412538</td>\n",
       "      <td>2.798240</td>\n",
       "      <td>-0.738656</td>\n",
       "      <td>-7.657224</td>\n",
       "      <td>-0.648720</td>\n",
       "      <td>-1.473344</td>\n",
       "      <td>...</td>\n",
       "      <td>-5.148436</td>\n",
       "      <td>2.491021</td>\n",
       "      <td>-3.119453</td>\n",
       "      <td>5.282266</td>\n",
       "      <td>3.696729</td>\n",
       "      <td>0.295009</td>\n",
       "      <td>1.363428</td>\n",
       "      <td>-15.743345</td>\n",
       "      <td>24.564080</td>\n",
       "      <td>2021-06-03</td>\n",
       "    </tr>\n",
       "  </tbody>\n",
       "</table>\n",
       "<p>5 rows × 22 columns</p>\n",
       "</div>"
      ],
      "text/plain": [
       "                   x0        x1        x2         x3         x4        x5  \\\n",
       "2021-05-30   6.089939 -0.831884 -2.381989   8.236096   1.841842  2.491679   \n",
       "2021-05-31   7.296038 -7.523517 -0.426479   6.961704  -4.628173  4.162105   \n",
       "2021-06-01  10.984142 -4.312168 -0.202026  11.353598 -14.515024  3.368093   \n",
       "2021-06-02  10.092021 -6.257281  2.339373   7.723039  -8.502136  1.898992   \n",
       "2021-06-03   2.445050  3.354284  3.157036   2.597542  -2.412538  2.798240   \n",
       "\n",
       "                   x6        x7        x8        x9  ...       x12       x13  \\\n",
       "2021-05-30   6.878707 -6.744203  0.690887 -1.572884  ... -0.776455  1.597196   \n",
       "2021-05-31   6.095437 -5.343339  1.908799 -0.678459  ... -5.738103  1.370983   \n",
       "2021-06-01  12.831115 -8.672702  0.453691  0.833870  ... -5.752981  4.660175   \n",
       "2021-06-02   3.181667 -6.302225  1.669517 -1.155305  ... -3.725357  2.697234   \n",
       "2021-06-03  -0.738656 -7.657224 -0.648720 -1.473344  ... -5.148436  2.491021   \n",
       "\n",
       "                  x14        x15       x16       x17       x18        x19  \\\n",
       "2021-05-30   8.921604  11.246847 -6.501441  0.549920  1.966326  -8.831962   \n",
       "2021-05-31   8.801225   7.653513 -7.285135 -0.673521  1.635558  -8.490695   \n",
       "2021-06-01   1.631863   4.881578 -6.128669 -2.706326  7.607881  -4.802267   \n",
       "2021-06-02  11.311834   9.374720  0.951947  2.846914  4.453968   1.450251   \n",
       "2021-06-03  -3.119453   5.282266  3.696729  0.295009  1.363428 -15.743345   \n",
       "\n",
       "                    y         ds  \n",
       "2021-05-30  60.311721 2021-05-30  \n",
       "2021-05-31  42.480396 2021-05-31  \n",
       "2021-06-01  49.833215 2021-06-01  \n",
       "2021-06-02  46.785029 2021-06-02  \n",
       "2021-06-03  24.564080 2021-06-03  \n",
       "\n",
       "[5 rows x 22 columns]"
      ]
     },
     "execution_count": 43,
     "metadata": {},
     "output_type": "execute_result"
    }
   ],
   "source": [
    "XY = pd.concat([X, Y], axis=1, ignore_index=False)\n",
    "XY.head()"
   ]
  },
  {
   "cell_type": "markdown",
   "id": "69087ecf",
   "metadata": {
    "slideshow": {
     "slide_type": "subslide"
    }
   },
   "source": [
    "Entrenemos el nuevo modelo."
   ]
  },
  {
   "cell_type": "code",
   "execution_count": 44,
   "id": "1270adec",
   "metadata": {
    "slideshow": {
     "slide_type": "fragment"
    }
   },
   "outputs": [
    {
     "data": {
      "text/html": [
       "<pre>✔️ 559 ms (2021-10-27T20:29:59/2021-10-27T20:30:00)</pre>"
      ],
      "text/plain": [
       "<IPython.core.display.HTML object>"
      ]
     },
     "metadata": {},
     "output_type": "display_data"
    },
    {
     "name": "stderr",
     "output_type": "stream",
     "text": [
      "INFO:prophet:Disabling yearly seasonality. Run prophet with yearly_seasonality=True to override this.\n",
      "INFO:prophet:Disabling daily seasonality. Run prophet with daily_seasonality=True to override this.\n"
     ]
    },
    {
     "name": "stdout",
     "output_type": "stream",
     "text": [
      "Initial log joint probability = -6.72692\n",
      "    Iter      log prob        ||dx||      ||grad||       alpha      alpha0  # evals  Notes \n",
      "      99       665.776    0.00149683       2823.03      0.5957      0.5957      115   \n",
      "    Iter      log prob        ||dx||      ||grad||       alpha      alpha0  # evals  Notes \n",
      "     199       691.573    0.00760937       1574.95           1           1      221   \n",
      "    Iter      log prob        ||dx||      ||grad||       alpha      alpha0  # evals  Notes \n",
      "     299       727.324    0.00413499       5387.93      0.9874      0.9874      326   \n",
      "    Iter      log prob        ||dx||      ||grad||       alpha      alpha0  # evals  Notes \n",
      "     399        764.74    0.00134724       1831.91           1           1      434   \n",
      "    Iter      log prob        ||dx||      ||grad||       alpha      alpha0  # evals  Notes \n",
      "     499        781.57   0.000149208       993.292           1           1      540   \n",
      "    Iter      log prob        ||dx||      ||grad||       alpha      alpha0  # evals  Notes \n",
      "     599       789.697    0.00170604       3160.02           1           1      650   \n",
      "    Iter      log prob        ||dx||      ||grad||       alpha      alpha0  # evals  Notes \n",
      "     699       796.376   0.000812168       2411.31      0.6124      0.6124      758   \n",
      "    Iter      log prob        ||dx||      ||grad||       alpha      alpha0  # evals  Notes \n",
      "     799       798.309   0.000208027       795.474           1           1      869   \n",
      "    Iter      log prob        ||dx||      ||grad||       alpha      alpha0  # evals  Notes \n",
      "     899       806.283   0.000852877       1864.98       3.389      0.3389      978   \n",
      "    Iter      log prob        ||dx||      ||grad||       alpha      alpha0  # evals  Notes \n",
      "     999       812.014    0.00155884       3982.13           1           1     1086   \n",
      "    Iter      log prob        ||dx||      ||grad||       alpha      alpha0  # evals  Notes \n",
      "    1099       818.165   0.000269588       2158.32           1           1     1191   \n",
      "    Iter      log prob        ||dx||      ||grad||       alpha      alpha0  # evals  Notes \n",
      "    1199       822.319    0.00070953       2167.28           1           1     1298   \n",
      "    Iter      log prob        ||dx||      ||grad||       alpha      alpha0  # evals  Notes \n",
      "    1299        824.92   0.000186086       1040.48           1           1     1399   \n",
      "    Iter      log prob        ||dx||      ||grad||       alpha      alpha0  # evals  Notes \n",
      "    1399       828.698     0.0025769       4752.42           1           1     1506   \n",
      "    Iter      log prob        ||dx||      ||grad||       alpha      alpha0  # evals  Notes \n",
      "    1499       854.317    0.00465909       5025.42           1           1     1612   \n",
      "    Iter      log prob        ||dx||      ||grad||       alpha      alpha0  # evals  Notes \n",
      "    1599       870.553   9.72215e-05       2909.41           1           1     1715   \n",
      "    Iter      log prob        ||dx||      ||grad||       alpha      alpha0  # evals  Notes \n",
      "    1699       881.211   0.000527255       13952.4           1           1     1821   \n",
      "    Iter      log prob        ||dx||      ||grad||       alpha      alpha0  # evals  Notes \n",
      "    1799       886.274   0.000913789       5808.02           1           1     1928   \n",
      "    Iter      log prob        ||dx||      ||grad||       alpha      alpha0  # evals  Notes \n",
      "    1899       891.151   5.32603e-05       1341.95           1           1     2036   \n",
      "    Iter      log prob        ||dx||      ||grad||       alpha      alpha0  # evals  Notes \n",
      "    1999       899.988   3.59569e-05        5379.3      0.6622      0.6622     2140   \n",
      "    Iter      log prob        ||dx||      ||grad||       alpha      alpha0  # evals  Notes \n",
      "    2099       902.918   1.59206e-05       2988.73           1           1     2246   \n",
      "    Iter      log prob        ||dx||      ||grad||       alpha      alpha0  # evals  Notes \n",
      "    2199       905.765    6.3007e-06       853.612           1           1     2352   \n",
      "    Iter      log prob        ||dx||      ||grad||       alpha      alpha0  # evals  Notes \n",
      "    2299       907.555   1.37027e-05       1453.21           1           1     2462   \n",
      "    Iter      log prob        ||dx||      ||grad||       alpha      alpha0  # evals  Notes \n",
      "    2399       908.662   1.81194e-05       1263.63           1           1     2571   \n",
      "    Iter      log prob        ||dx||      ||grad||       alpha      alpha0  # evals  Notes \n",
      "    2499       909.271    9.5757e-05       1433.67       4.837      0.4837     2682   \n",
      "    Iter      log prob        ||dx||      ||grad||       alpha      alpha0  # evals  Notes \n",
      "    2599       909.951   0.000135939       1594.36      0.8059      0.8059     2790   \n",
      "    Iter      log prob        ||dx||      ||grad||       alpha      alpha0  # evals  Notes \n",
      "    2699       913.085    2.7833e-05       6032.38      0.4098      0.4098     2900   \n",
      "    Iter      log prob        ||dx||      ||grad||       alpha      alpha0  # evals  Notes \n",
      "    2799       916.929    0.00065834       2851.05           1           1     3004   \n",
      "    Iter      log prob        ||dx||      ||grad||       alpha      alpha0  # evals  Notes \n",
      "    2899       919.363   0.000311627       1858.62           1           1     3114   \n",
      "    Iter      log prob        ||dx||      ||grad||       alpha      alpha0  # evals  Notes \n",
      "    2999       924.015   0.000459274       10367.9           1           1     3218   \n",
      "    Iter      log prob        ||dx||      ||grad||       alpha      alpha0  # evals  Notes \n",
      "    3099        925.07     0.0002434       4892.48      0.9155      0.9155     3324   \n",
      "    Iter      log prob        ||dx||      ||grad||       alpha      alpha0  # evals  Notes \n",
      "    3199       926.219   6.55656e-06       1034.32           1           1     3427   \n",
      "    Iter      log prob        ||dx||      ||grad||       alpha      alpha0  # evals  Notes \n",
      "    3299       928.087   3.99745e-05       1800.39      0.5251      0.5251     3536   \n",
      "    Iter      log prob        ||dx||      ||grad||       alpha      alpha0  # evals  Notes \n",
      "    3399       929.308    0.00020738       1752.92           1           1     3643   \n",
      "    Iter      log prob        ||dx||      ||grad||       alpha      alpha0  # evals  Notes \n",
      "    3499       929.991   1.29844e-05        1470.8      0.5076      0.5076     3751   \n",
      "    Iter      log prob        ||dx||      ||grad||       alpha      alpha0  # evals  Notes \n",
      "    3599       930.488   7.31283e-06       1159.12      0.3967      0.3967     3868   \n",
      "    Iter      log prob        ||dx||      ||grad||       alpha      alpha0  # evals  Notes \n",
      "    3699       932.607   0.000298626       9340.99      0.9801      0.9801     3975   \n",
      "    Iter      log prob        ||dx||      ||grad||       alpha      alpha0  # evals  Notes \n",
      "    3799       940.634    0.00320476        7574.6           1           1     4079   \n",
      "    Iter      log prob        ||dx||      ||grad||       alpha      alpha0  # evals  Notes \n",
      "    3899       943.049   0.000173454       1966.79           1           1     4184   \n",
      "    Iter      log prob        ||dx||      ||grad||       alpha      alpha0  # evals  Notes \n",
      "    3999       945.261   0.000240263       3355.95           1           1     4292   \n",
      "    Iter      log prob        ||dx||      ||grad||       alpha      alpha0  # evals  Notes \n",
      "    4099       947.988   8.90166e-05       9374.44           1           1     4401   \n",
      "    Iter      log prob        ||dx||      ||grad||       alpha      alpha0  # evals  Notes \n",
      "    4199       949.489   2.27961e-05       2360.23      0.4479      0.4479     4509   \n",
      "    Iter      log prob        ||dx||      ||grad||       alpha      alpha0  # evals  Notes \n",
      "    4299       950.849   5.12469e-05       2173.27      0.7415      0.7415     4616   \n",
      "    Iter      log prob        ||dx||      ||grad||       alpha      alpha0  # evals  Notes \n",
      "    4399        951.67   2.80952e-06       1116.41           1           1     4720   \n",
      "    Iter      log prob        ||dx||      ||grad||       alpha      alpha0  # evals  Notes \n",
      "    4499       953.332    0.00018756       6295.81           1           1     4829   \n",
      "    Iter      log prob        ||dx||      ||grad||       alpha      alpha0  # evals  Notes \n",
      "    4599       955.796   1.52964e-05       1707.81           1           1     4933   \n",
      "    Iter      log prob        ||dx||      ||grad||       alpha      alpha0  # evals  Notes \n",
      "    4699       956.302   2.18338e-06       706.463           1           1     5039   \n",
      "    Iter      log prob        ||dx||      ||grad||       alpha      alpha0  # evals  Notes \n",
      "    4799       957.239   3.92193e-05       4744.06           1           1     5146   \n",
      "    Iter      log prob        ||dx||      ||grad||       alpha      alpha0  # evals  Notes \n",
      "    4899       957.892   1.99592e-05       1621.19           1           1     5253   \n",
      "    Iter      log prob        ||dx||      ||grad||       alpha      alpha0  # evals  Notes \n",
      "    4999       959.004   3.14707e-05       1806.93           1           1     5358   \n"
     ]
    },
    {
     "name": "stdout",
     "output_type": "stream",
     "text": [
      "    Iter      log prob        ||dx||      ||grad||       alpha      alpha0  # evals  Notes \n",
      "    5099        959.46   7.92138e-06       1254.43           1           1     5464   \n",
      "    Iter      log prob        ||dx||      ||grad||       alpha      alpha0  # evals  Notes \n",
      "    5199       960.301    2.3591e-05       3127.84           1           1     5566   \n",
      "    Iter      log prob        ||dx||      ||grad||       alpha      alpha0  # evals  Notes \n",
      "    5299       960.658   0.000125315        6587.4      0.3597           1     5676   \n",
      "    Iter      log prob        ||dx||      ||grad||       alpha      alpha0  # evals  Notes \n",
      "    5399       965.403   8.09031e-05       1448.74           1           1     5779   \n",
      "    Iter      log prob        ||dx||      ||grad||       alpha      alpha0  # evals  Notes \n",
      "    5499       966.556   3.35984e-05        3874.2           1           1     5883   \n",
      "    Iter      log prob        ||dx||      ||grad||       alpha      alpha0  # evals  Notes \n",
      "    5599        967.37   2.23782e-05       2680.14           1           1     5989   \n",
      "    Iter      log prob        ||dx||      ||grad||       alpha      alpha0  # evals  Notes \n",
      "    5699       967.671   4.75775e-06       998.221      0.9869      0.9869     6095   \n",
      "    Iter      log prob        ||dx||      ||grad||       alpha      alpha0  # evals  Notes \n",
      "    5799       969.225   0.000169913       3548.04      0.9958      0.9958     6204   \n",
      "    Iter      log prob        ||dx||      ||grad||       alpha      alpha0  # evals  Notes \n",
      "    5899       970.084   4.58866e-05       1782.35           1           1     6309   \n",
      "    Iter      log prob        ||dx||      ||grad||       alpha      alpha0  # evals  Notes \n",
      "    5999       972.416   5.32697e-05       3492.93      0.9041      0.9041     6413   \n",
      "    Iter      log prob        ||dx||      ||grad||       alpha      alpha0  # evals  Notes \n",
      "    6099        973.12   3.91883e-06       816.242           1           1     6516   \n",
      "    Iter      log prob        ||dx||      ||grad||       alpha      alpha0  # evals  Notes \n",
      "    6199       973.327   4.01235e-05       1468.34           1           1     6621   \n",
      "    Iter      log prob        ||dx||      ||grad||       alpha      alpha0  # evals  Notes \n",
      "    6299       973.984   9.53331e-06       1485.91           1           1     6726   \n",
      "    Iter      log prob        ||dx||      ||grad||       alpha      alpha0  # evals  Notes \n",
      "    6399       975.001   3.05682e-05       5699.55      0.5818      0.5818     6832   \n",
      "    Iter      log prob        ||dx||      ||grad||       alpha      alpha0  # evals  Notes \n",
      "    6499       975.481   6.02332e-06       1785.63      0.1705           1     6938   \n",
      "    Iter      log prob        ||dx||      ||grad||       alpha      alpha0  # evals  Notes \n",
      "    6599       975.713   3.07795e-05       2926.98           1           1     7044   \n",
      "    Iter      log prob        ||dx||      ||grad||       alpha      alpha0  # evals  Notes \n",
      "    6699       976.012   8.49656e-05       4199.48           1           1     7153   \n",
      "    Iter      log prob        ||dx||      ||grad||       alpha      alpha0  # evals  Notes \n",
      "    6799       976.375   0.000113667       2986.66           1           1     7260   \n",
      "    Iter      log prob        ||dx||      ||grad||       alpha      alpha0  # evals  Notes \n",
      "    6899        977.08   0.000122397       4514.26      0.7409      0.7409     7367   \n",
      "    Iter      log prob        ||dx||      ||grad||       alpha      alpha0  # evals  Notes \n",
      "    6999       977.892   8.23587e-05       6118.11           1           1     7474   \n",
      "    Iter      log prob        ||dx||      ||grad||       alpha      alpha0  # evals  Notes \n",
      "    7099       978.132   5.90455e-06          1021           1           1     7578   \n",
      "    Iter      log prob        ||dx||      ||grad||       alpha      alpha0  # evals  Notes \n",
      "    7199       978.471    5.3918e-06       721.447           1           1     7680   \n",
      "    Iter      log prob        ||dx||      ||grad||       alpha      alpha0  # evals  Notes \n",
      "    7299       978.933   3.41459e-05       5049.69      0.5485      0.5485     7782   \n",
      "    Iter      log prob        ||dx||      ||grad||       alpha      alpha0  # evals  Notes \n",
      "    7399       979.707     1.984e-05       1738.46           1           1     7886   \n",
      "    Iter      log prob        ||dx||      ||grad||       alpha      alpha0  # evals  Notes \n",
      "    7499       980.159   5.94257e-05       1356.73           1           1     7991   \n",
      "    Iter      log prob        ||dx||      ||grad||       alpha      alpha0  # evals  Notes \n",
      "    7599       980.701   7.12415e-06       885.984           1           1     8100   \n",
      "    Iter      log prob        ||dx||      ||grad||       alpha      alpha0  # evals  Notes \n",
      "    7699         981.2   2.61162e-06       1231.22           1           1     8206   \n",
      "    Iter      log prob        ||dx||      ||grad||       alpha      alpha0  # evals  Notes \n",
      "    7799       981.605   8.80802e-05       1771.91           1           1     8316   \n",
      "    Iter      log prob        ||dx||      ||grad||       alpha      alpha0  # evals  Notes \n",
      "    7899       981.771   1.31389e-05       630.945           1           1     8423   \n",
      "    Iter      log prob        ||dx||      ||grad||       alpha      alpha0  # evals  Notes \n",
      "    7999       982.084   2.99808e-05       1703.97      0.9766      0.9766     8525   \n",
      "    Iter      log prob        ||dx||      ||grad||       alpha      alpha0  # evals  Notes \n",
      "    8099        982.31   2.93443e-05       2727.88           1           1     8630   \n",
      "    Iter      log prob        ||dx||      ||grad||       alpha      alpha0  # evals  Notes \n",
      "    8199       982.508   2.99287e-05       1650.04           1           1     8734   \n",
      "    Iter      log prob        ||dx||      ||grad||       alpha      alpha0  # evals  Notes \n",
      "    8299       983.351   5.45075e-05       7064.35           1           1     8842   \n",
      "    Iter      log prob        ||dx||      ||grad||       alpha      alpha0  # evals  Notes \n",
      "    8399       984.237   0.000249238       13647.4           1           1     8946   \n",
      "    Iter      log prob        ||dx||      ||grad||       alpha      alpha0  # evals  Notes \n",
      "    8499       984.722   1.13194e-05       1093.04           1           1     9052   \n",
      "    Iter      log prob        ||dx||      ||grad||       alpha      alpha0  # evals  Notes \n",
      "    8599       985.842   5.95957e-05       8059.81           1           1     9157   \n",
      "    Iter      log prob        ||dx||      ||grad||       alpha      alpha0  # evals  Notes \n",
      "    8699       986.128   1.57107e-05       1358.27           1           1     9261   \n",
      "    Iter      log prob        ||dx||      ||grad||       alpha      alpha0  # evals  Notes \n",
      "    8799       986.711   1.50691e-05       4044.86      0.3572           1     9368   \n",
      "    Iter      log prob        ||dx||      ||grad||       alpha      alpha0  # evals  Notes \n",
      "    8899       986.942   1.21383e-05       2221.82      0.4628           1     9477   \n",
      "    Iter      log prob        ||dx||      ||grad||       alpha      alpha0  # evals  Notes \n",
      "    8999        987.22   8.78156e-05       2678.89      0.7359      0.7359     9583   \n",
      "    Iter      log prob        ||dx||      ||grad||       alpha      alpha0  # evals  Notes \n",
      "    9099       988.861   9.67829e-05       4665.64      0.8255      0.8255     9693   \n",
      "    Iter      log prob        ||dx||      ||grad||       alpha      alpha0  # evals  Notes \n",
      "    9199        991.19   3.69064e-05       4008.98           1           1     9795   \n",
      "    Iter      log prob        ||dx||      ||grad||       alpha      alpha0  # evals  Notes \n",
      "    9299         991.7   1.77009e-05       2078.12      0.8041      0.8041     9901   \n",
      "    Iter      log prob        ||dx||      ||grad||       alpha      alpha0  # evals  Notes \n",
      "    9399        992.01   4.08261e-05       2576.55           1           1    10007   \n",
      "    Iter      log prob        ||dx||      ||grad||       alpha      alpha0  # evals  Notes \n",
      "    9499       992.956   3.48849e-06       1569.12           1           1    10111   \n",
      "    Iter      log prob        ||dx||      ||grad||       alpha      alpha0  # evals  Notes \n",
      "    9599       993.986    5.9944e-05       2570.55      0.3687      0.9858    10215   \n",
      "    Iter      log prob        ||dx||      ||grad||       alpha      alpha0  # evals  Notes \n",
      "    9699       995.762    0.00324108       12360.9      0.5164      0.5164    10325   \n",
      "    Iter      log prob        ||dx||      ||grad||       alpha      alpha0  # evals  Notes \n",
      "    9799        997.15   6.88028e-05       10716.4      0.6495      0.6495    10428   \n",
      "    Iter      log prob        ||dx||      ||grad||       alpha      alpha0  # evals  Notes \n",
      "    9899       997.829   1.88107e-05       4216.59           1           1    10537   \n",
      "    Iter      log prob        ||dx||      ||grad||       alpha      alpha0  # evals  Notes \n",
      "    9999       998.348   0.000151551       4756.56           1           1    10650   \n",
      "    Iter      log prob        ||dx||      ||grad||       alpha      alpha0  # evals  Notes \n",
      "   10000       998.354   8.42372e-05        4456.5           1           1    10651   \n",
      "Optimization terminated normally: \n",
      "  Maximum number of iterations hit, may not be at an optima\n"
     ]
    }
   ],
   "source": [
    "mdl2.fit(XY.loc[control_ixs, :]);"
   ]
  },
  {
   "cell_type": "markdown",
   "id": "d27644c9",
   "metadata": {
    "slideshow": {
     "slide_type": "subslide"
    }
   },
   "source": [
    "Para hacer un forecast, ahora tenemos pasar tanto los valores de los controles como la columna `ds`, en el mismo dataframe."
   ]
  },
  {
   "cell_type": "code",
   "execution_count": 45,
   "id": "35fb15e3",
   "metadata": {
    "slideshow": {
     "slide_type": "fragment"
    }
   },
   "outputs": [
    {
     "data": {
      "text/html": [
       "<pre>✔️ 23.6 ms (2021-10-27T20:30:02/2021-10-27T20:30:02)</pre>"
      ],
      "text/plain": [
       "<IPython.core.display.HTML object>"
      ]
     },
     "metadata": {},
     "output_type": "display_data"
    },
    {
     "data": {
      "text/html": [
       "<div>\n",
       "<style scoped>\n",
       "    .dataframe tbody tr th:only-of-type {\n",
       "        vertical-align: middle;\n",
       "    }\n",
       "\n",
       "    .dataframe tbody tr th {\n",
       "        vertical-align: top;\n",
       "    }\n",
       "\n",
       "    .dataframe thead th {\n",
       "        text-align: right;\n",
       "    }\n",
       "</style>\n",
       "<table border=\"1\" class=\"dataframe\">\n",
       "  <thead>\n",
       "    <tr style=\"text-align: right;\">\n",
       "      <th></th>\n",
       "      <th>ds</th>\n",
       "      <th>x0</th>\n",
       "      <th>x1</th>\n",
       "      <th>x2</th>\n",
       "      <th>x3</th>\n",
       "      <th>x4</th>\n",
       "      <th>x5</th>\n",
       "      <th>x6</th>\n",
       "      <th>x7</th>\n",
       "      <th>x8</th>\n",
       "      <th>...</th>\n",
       "      <th>x10</th>\n",
       "      <th>x11</th>\n",
       "      <th>x12</th>\n",
       "      <th>x13</th>\n",
       "      <th>x14</th>\n",
       "      <th>x15</th>\n",
       "      <th>x16</th>\n",
       "      <th>x17</th>\n",
       "      <th>x18</th>\n",
       "      <th>x19</th>\n",
       "    </tr>\n",
       "  </thead>\n",
       "  <tbody>\n",
       "    <tr>\n",
       "      <th>2021-10-22</th>\n",
       "      <td>2021-10-22</td>\n",
       "      <td>13.447646</td>\n",
       "      <td>1.710430</td>\n",
       "      <td>1.383923</td>\n",
       "      <td>5.346558</td>\n",
       "      <td>5.914117</td>\n",
       "      <td>4.416838</td>\n",
       "      <td>1.253298</td>\n",
       "      <td>-8.607095</td>\n",
       "      <td>-0.224462</td>\n",
       "      <td>...</td>\n",
       "      <td>-2.837589</td>\n",
       "      <td>-15.766988</td>\n",
       "      <td>-7.999549</td>\n",
       "      <td>7.439399</td>\n",
       "      <td>-0.982905</td>\n",
       "      <td>10.075755</td>\n",
       "      <td>-0.455018</td>\n",
       "      <td>-0.320179</td>\n",
       "      <td>4.050412</td>\n",
       "      <td>-7.208283</td>\n",
       "    </tr>\n",
       "    <tr>\n",
       "      <th>2021-10-23</th>\n",
       "      <td>2021-10-23</td>\n",
       "      <td>1.365282</td>\n",
       "      <td>-4.977923</td>\n",
       "      <td>0.268289</td>\n",
       "      <td>5.669972</td>\n",
       "      <td>-8.685628</td>\n",
       "      <td>1.657166</td>\n",
       "      <td>0.322372</td>\n",
       "      <td>-8.690836</td>\n",
       "      <td>3.425955</td>\n",
       "      <td>...</td>\n",
       "      <td>-4.608612</td>\n",
       "      <td>-6.587597</td>\n",
       "      <td>-3.948834</td>\n",
       "      <td>7.391606</td>\n",
       "      <td>-10.177084</td>\n",
       "      <td>4.701706</td>\n",
       "      <td>-0.511706</td>\n",
       "      <td>-2.413428</td>\n",
       "      <td>4.315457</td>\n",
       "      <td>-10.755898</td>\n",
       "    </tr>\n",
       "    <tr>\n",
       "      <th>2021-10-24</th>\n",
       "      <td>2021-10-24</td>\n",
       "      <td>8.285263</td>\n",
       "      <td>-16.989133</td>\n",
       "      <td>3.257542</td>\n",
       "      <td>14.220840</td>\n",
       "      <td>-14.544933</td>\n",
       "      <td>1.763181</td>\n",
       "      <td>-0.040352</td>\n",
       "      <td>-0.022417</td>\n",
       "      <td>-0.680913</td>\n",
       "      <td>...</td>\n",
       "      <td>-1.585099</td>\n",
       "      <td>-20.649889</td>\n",
       "      <td>-2.007759</td>\n",
       "      <td>1.385681</td>\n",
       "      <td>-1.109036</td>\n",
       "      <td>6.121322</td>\n",
       "      <td>-8.107040</td>\n",
       "      <td>-0.232528</td>\n",
       "      <td>2.322691</td>\n",
       "      <td>-14.673760</td>\n",
       "    </tr>\n",
       "    <tr>\n",
       "      <th>2021-10-25</th>\n",
       "      <td>2021-10-25</td>\n",
       "      <td>4.220984</td>\n",
       "      <td>5.625890</td>\n",
       "      <td>3.083833</td>\n",
       "      <td>5.291905</td>\n",
       "      <td>-12.681029</td>\n",
       "      <td>3.400972</td>\n",
       "      <td>4.811067</td>\n",
       "      <td>-6.004457</td>\n",
       "      <td>1.358981</td>\n",
       "      <td>...</td>\n",
       "      <td>-5.082244</td>\n",
       "      <td>0.871220</td>\n",
       "      <td>-0.622844</td>\n",
       "      <td>4.061185</td>\n",
       "      <td>-3.529904</td>\n",
       "      <td>6.718479</td>\n",
       "      <td>-8.004970</td>\n",
       "      <td>0.803916</td>\n",
       "      <td>4.061062</td>\n",
       "      <td>-11.533533</td>\n",
       "    </tr>\n",
       "    <tr>\n",
       "      <th>2021-10-26</th>\n",
       "      <td>2021-10-26</td>\n",
       "      <td>4.149649</td>\n",
       "      <td>-3.402233</td>\n",
       "      <td>1.581578</td>\n",
       "      <td>12.928412</td>\n",
       "      <td>0.278322</td>\n",
       "      <td>3.294740</td>\n",
       "      <td>6.457338</td>\n",
       "      <td>-6.253736</td>\n",
       "      <td>0.944047</td>\n",
       "      <td>...</td>\n",
       "      <td>-4.820534</td>\n",
       "      <td>-4.705759</td>\n",
       "      <td>-1.438910</td>\n",
       "      <td>4.837313</td>\n",
       "      <td>5.941163</td>\n",
       "      <td>2.649271</td>\n",
       "      <td>0.619869</td>\n",
       "      <td>-1.576326</td>\n",
       "      <td>1.044352</td>\n",
       "      <td>-12.998574</td>\n",
       "    </tr>\n",
       "  </tbody>\n",
       "</table>\n",
       "<p>5 rows × 21 columns</p>\n",
       "</div>"
      ],
      "text/plain": [
       "                   ds         x0         x1        x2         x3         x4  \\\n",
       "2021-10-22 2021-10-22  13.447646   1.710430  1.383923   5.346558   5.914117   \n",
       "2021-10-23 2021-10-23   1.365282  -4.977923  0.268289   5.669972  -8.685628   \n",
       "2021-10-24 2021-10-24   8.285263 -16.989133  3.257542  14.220840 -14.544933   \n",
       "2021-10-25 2021-10-25   4.220984   5.625890  3.083833   5.291905 -12.681029   \n",
       "2021-10-26 2021-10-26   4.149649  -3.402233  1.581578  12.928412   0.278322   \n",
       "\n",
       "                  x5        x6        x7        x8  ...       x10        x11  \\\n",
       "2021-10-22  4.416838  1.253298 -8.607095 -0.224462  ... -2.837589 -15.766988   \n",
       "2021-10-23  1.657166  0.322372 -8.690836  3.425955  ... -4.608612  -6.587597   \n",
       "2021-10-24  1.763181 -0.040352 -0.022417 -0.680913  ... -1.585099 -20.649889   \n",
       "2021-10-25  3.400972  4.811067 -6.004457  1.358981  ... -5.082244   0.871220   \n",
       "2021-10-26  3.294740  6.457338 -6.253736  0.944047  ... -4.820534  -4.705759   \n",
       "\n",
       "                 x12       x13        x14        x15       x16       x17  \\\n",
       "2021-10-22 -7.999549  7.439399  -0.982905  10.075755 -0.455018 -0.320179   \n",
       "2021-10-23 -3.948834  7.391606 -10.177084   4.701706 -0.511706 -2.413428   \n",
       "2021-10-24 -2.007759  1.385681  -1.109036   6.121322 -8.107040 -0.232528   \n",
       "2021-10-25 -0.622844  4.061185  -3.529904   6.718479 -8.004970  0.803916   \n",
       "2021-10-26 -1.438910  4.837313   5.941163   2.649271  0.619869 -1.576326   \n",
       "\n",
       "                 x18        x19  \n",
       "2021-10-22  4.050412  -7.208283  \n",
       "2021-10-23  4.315457 -10.755898  \n",
       "2021-10-24  2.322691 -14.673760  \n",
       "2021-10-25  4.061062 -11.533533  \n",
       "2021-10-26  1.044352 -12.998574  \n",
       "\n",
       "[5 rows x 21 columns]"
      ]
     },
     "execution_count": 45,
     "metadata": {},
     "output_type": "execute_result"
    }
   ],
   "source": [
    "Xt = mdl2.make_future_dataframe(30)\n",
    "Xt.index = pd.DatetimeIndex(Xt.ds, name='')\n",
    "Xt = pd.concat([Xt, X], axis=1)\n",
    "Xt.tail()"
   ]
  },
  {
   "cell_type": "code",
   "execution_count": 46,
   "id": "f07acee2",
   "metadata": {
    "slideshow": {
     "slide_type": "subslide"
    }
   },
   "outputs": [
    {
     "data": {
      "text/html": [
       "<pre>✔️ 1.2 s (2021-10-27T20:30:03/2021-10-27T20:30:04)</pre>"
      ],
      "text/plain": [
       "<IPython.core.display.HTML object>"
      ]
     },
     "metadata": {},
     "output_type": "display_data"
    },
    {
     "data": {
      "text/html": [
       "<div>\n",
       "<style scoped>\n",
       "    .dataframe tbody tr th:only-of-type {\n",
       "        vertical-align: middle;\n",
       "    }\n",
       "\n",
       "    .dataframe tbody tr th {\n",
       "        vertical-align: top;\n",
       "    }\n",
       "\n",
       "    .dataframe thead th {\n",
       "        text-align: right;\n",
       "    }\n",
       "</style>\n",
       "<table border=\"1\" class=\"dataframe\">\n",
       "  <thead>\n",
       "    <tr style=\"text-align: right;\">\n",
       "      <th></th>\n",
       "      <th>ds</th>\n",
       "      <th>trend</th>\n",
       "      <th>yhat_lower</th>\n",
       "      <th>yhat_upper</th>\n",
       "      <th>trend_lower</th>\n",
       "      <th>trend_upper</th>\n",
       "      <th>additive_terms</th>\n",
       "      <th>additive_terms_lower</th>\n",
       "      <th>additive_terms_upper</th>\n",
       "      <th>extra_regressors_additive</th>\n",
       "      <th>...</th>\n",
       "      <th>x8</th>\n",
       "      <th>x8_lower</th>\n",
       "      <th>x8_upper</th>\n",
       "      <th>x9</th>\n",
       "      <th>x9_lower</th>\n",
       "      <th>x9_upper</th>\n",
       "      <th>multiplicative_terms</th>\n",
       "      <th>multiplicative_terms_lower</th>\n",
       "      <th>multiplicative_terms_upper</th>\n",
       "      <th>yhat</th>\n",
       "    </tr>\n",
       "    <tr>\n",
       "      <th></th>\n",
       "      <th></th>\n",
       "      <th></th>\n",
       "      <th></th>\n",
       "      <th></th>\n",
       "      <th></th>\n",
       "      <th></th>\n",
       "      <th></th>\n",
       "      <th></th>\n",
       "      <th></th>\n",
       "      <th></th>\n",
       "      <th></th>\n",
       "      <th></th>\n",
       "      <th></th>\n",
       "      <th></th>\n",
       "      <th></th>\n",
       "      <th></th>\n",
       "      <th></th>\n",
       "      <th></th>\n",
       "      <th></th>\n",
       "      <th></th>\n",
       "      <th></th>\n",
       "    </tr>\n",
       "  </thead>\n",
       "  <tbody>\n",
       "    <tr>\n",
       "      <th>2021-05-30</th>\n",
       "      <td>2021-05-30</td>\n",
       "      <td>36.556956</td>\n",
       "      <td>60.289206</td>\n",
       "      <td>60.331169</td>\n",
       "      <td>36.556956</td>\n",
       "      <td>36.556956</td>\n",
       "      <td>23.753235</td>\n",
       "      <td>23.753235</td>\n",
       "      <td>23.753235</td>\n",
       "      <td>23.753357</td>\n",
       "      <td>...</td>\n",
       "      <td>-0.000038</td>\n",
       "      <td>-0.000038</td>\n",
       "      <td>-0.000038</td>\n",
       "      <td>-0.000080</td>\n",
       "      <td>-0.000080</td>\n",
       "      <td>-0.000080</td>\n",
       "      <td>0.0</td>\n",
       "      <td>0.0</td>\n",
       "      <td>0.0</td>\n",
       "      <td>60.310190</td>\n",
       "    </tr>\n",
       "    <tr>\n",
       "      <th>2021-05-31</th>\n",
       "      <td>2021-05-31</td>\n",
       "      <td>36.557019</td>\n",
       "      <td>42.457573</td>\n",
       "      <td>42.501233</td>\n",
       "      <td>36.557019</td>\n",
       "      <td>36.557019</td>\n",
       "      <td>5.922398</td>\n",
       "      <td>5.922398</td>\n",
       "      <td>5.922398</td>\n",
       "      <td>5.922442</td>\n",
       "      <td>...</td>\n",
       "      <td>0.000083</td>\n",
       "      <td>0.000083</td>\n",
       "      <td>0.000083</td>\n",
       "      <td>-0.000030</td>\n",
       "      <td>-0.000030</td>\n",
       "      <td>-0.000030</td>\n",
       "      <td>0.0</td>\n",
       "      <td>0.0</td>\n",
       "      <td>0.0</td>\n",
       "      <td>42.479416</td>\n",
       "    </tr>\n",
       "    <tr>\n",
       "      <th>2021-06-01</th>\n",
       "      <td>2021-06-01</td>\n",
       "      <td>36.557081</td>\n",
       "      <td>49.809963</td>\n",
       "      <td>49.853607</td>\n",
       "      <td>36.557081</td>\n",
       "      <td>36.557081</td>\n",
       "      <td>13.273920</td>\n",
       "      <td>13.273920</td>\n",
       "      <td>13.273920</td>\n",
       "      <td>13.274236</td>\n",
       "      <td>...</td>\n",
       "      <td>-0.000061</td>\n",
       "      <td>-0.000061</td>\n",
       "      <td>-0.000061</td>\n",
       "      <td>0.000054</td>\n",
       "      <td>0.000054</td>\n",
       "      <td>0.000054</td>\n",
       "      <td>0.0</td>\n",
       "      <td>0.0</td>\n",
       "      <td>0.0</td>\n",
       "      <td>49.831001</td>\n",
       "    </tr>\n",
       "    <tr>\n",
       "      <th>2021-06-02</th>\n",
       "      <td>2021-06-02</td>\n",
       "      <td>36.557144</td>\n",
       "      <td>46.765469</td>\n",
       "      <td>46.805480</td>\n",
       "      <td>36.557144</td>\n",
       "      <td>36.557144</td>\n",
       "      <td>10.227270</td>\n",
       "      <td>10.227270</td>\n",
       "      <td>10.227270</td>\n",
       "      <td>10.227005</td>\n",
       "      <td>...</td>\n",
       "      <td>0.000059</td>\n",
       "      <td>0.000059</td>\n",
       "      <td>0.000059</td>\n",
       "      <td>-0.000057</td>\n",
       "      <td>-0.000057</td>\n",
       "      <td>-0.000057</td>\n",
       "      <td>0.0</td>\n",
       "      <td>0.0</td>\n",
       "      <td>0.0</td>\n",
       "      <td>46.784414</td>\n",
       "    </tr>\n",
       "    <tr>\n",
       "      <th>2021-06-03</th>\n",
       "      <td>2021-06-03</td>\n",
       "      <td>36.557207</td>\n",
       "      <td>24.542009</td>\n",
       "      <td>24.584629</td>\n",
       "      <td>36.557207</td>\n",
       "      <td>36.557207</td>\n",
       "      <td>-11.994492</td>\n",
       "      <td>-11.994492</td>\n",
       "      <td>-11.994492</td>\n",
       "      <td>-11.994743</td>\n",
       "      <td>...</td>\n",
       "      <td>-0.000171</td>\n",
       "      <td>-0.000171</td>\n",
       "      <td>-0.000171</td>\n",
       "      <td>-0.000075</td>\n",
       "      <td>-0.000075</td>\n",
       "      <td>-0.000075</td>\n",
       "      <td>0.0</td>\n",
       "      <td>0.0</td>\n",
       "      <td>0.0</td>\n",
       "      <td>24.562715</td>\n",
       "    </tr>\n",
       "    <tr>\n",
       "      <th>...</th>\n",
       "      <td>...</td>\n",
       "      <td>...</td>\n",
       "      <td>...</td>\n",
       "      <td>...</td>\n",
       "      <td>...</td>\n",
       "      <td>...</td>\n",
       "      <td>...</td>\n",
       "      <td>...</td>\n",
       "      <td>...</td>\n",
       "      <td>...</td>\n",
       "      <td>...</td>\n",
       "      <td>...</td>\n",
       "      <td>...</td>\n",
       "      <td>...</td>\n",
       "      <td>...</td>\n",
       "      <td>...</td>\n",
       "      <td>...</td>\n",
       "      <td>...</td>\n",
       "      <td>...</td>\n",
       "      <td>...</td>\n",
       "      <td>...</td>\n",
       "    </tr>\n",
       "    <tr>\n",
       "      <th>2021-10-22</th>\n",
       "      <td>2021-10-22</td>\n",
       "      <td>36.561487</td>\n",
       "      <td>49.027354</td>\n",
       "      <td>49.159500</td>\n",
       "      <td>36.498695</td>\n",
       "      <td>36.619895</td>\n",
       "      <td>12.536040</td>\n",
       "      <td>12.536040</td>\n",
       "      <td>12.536040</td>\n",
       "      <td>12.536220</td>\n",
       "      <td>...</td>\n",
       "      <td>-0.000129</td>\n",
       "      <td>-0.000129</td>\n",
       "      <td>-0.000129</td>\n",
       "      <td>-0.000077</td>\n",
       "      <td>-0.000077</td>\n",
       "      <td>-0.000077</td>\n",
       "      <td>0.0</td>\n",
       "      <td>0.0</td>\n",
       "      <td>0.0</td>\n",
       "      <td>49.097527</td>\n",
       "    </tr>\n",
       "    <tr>\n",
       "      <th>2021-10-23</th>\n",
       "      <td>2021-10-23</td>\n",
       "      <td>36.561548</td>\n",
       "      <td>25.995774</td>\n",
       "      <td>26.133315</td>\n",
       "      <td>36.494370</td>\n",
       "      <td>36.623813</td>\n",
       "      <td>-10.495441</td>\n",
       "      <td>-10.495441</td>\n",
       "      <td>-10.495441</td>\n",
       "      <td>-10.495589</td>\n",
       "      <td>...</td>\n",
       "      <td>0.000234</td>\n",
       "      <td>0.000234</td>\n",
       "      <td>0.000234</td>\n",
       "      <td>-0.000015</td>\n",
       "      <td>-0.000015</td>\n",
       "      <td>-0.000015</td>\n",
       "      <td>0.0</td>\n",
       "      <td>0.0</td>\n",
       "      <td>0.0</td>\n",
       "      <td>26.066107</td>\n",
       "    </tr>\n",
       "    <tr>\n",
       "      <th>2021-10-24</th>\n",
       "      <td>2021-10-24</td>\n",
       "      <td>36.561608</td>\n",
       "      <td>27.750922</td>\n",
       "      <td>27.895362</td>\n",
       "      <td>36.490025</td>\n",
       "      <td>36.627486</td>\n",
       "      <td>-8.736635</td>\n",
       "      <td>-8.736635</td>\n",
       "      <td>-8.736635</td>\n",
       "      <td>-8.736512</td>\n",
       "      <td>...</td>\n",
       "      <td>-0.000174</td>\n",
       "      <td>-0.000174</td>\n",
       "      <td>-0.000174</td>\n",
       "      <td>0.000004</td>\n",
       "      <td>0.000004</td>\n",
       "      <td>0.000004</td>\n",
       "      <td>0.0</td>\n",
       "      <td>0.0</td>\n",
       "      <td>0.0</td>\n",
       "      <td>27.824973</td>\n",
       "    </tr>\n",
       "    <tr>\n",
       "      <th>2021-10-25</th>\n",
       "      <td>2021-10-25</td>\n",
       "      <td>36.561669</td>\n",
       "      <td>44.245670</td>\n",
       "      <td>44.400063</td>\n",
       "      <td>36.486402</td>\n",
       "      <td>36.630872</td>\n",
       "      <td>7.764436</td>\n",
       "      <td>7.764436</td>\n",
       "      <td>7.764436</td>\n",
       "      <td>7.764481</td>\n",
       "      <td>...</td>\n",
       "      <td>0.000029</td>\n",
       "      <td>0.000029</td>\n",
       "      <td>0.000029</td>\n",
       "      <td>-0.000011</td>\n",
       "      <td>-0.000011</td>\n",
       "      <td>-0.000011</td>\n",
       "      <td>0.0</td>\n",
       "      <td>0.0</td>\n",
       "      <td>0.0</td>\n",
       "      <td>44.326105</td>\n",
       "    </tr>\n",
       "    <tr>\n",
       "      <th>2021-10-26</th>\n",
       "      <td>2021-10-26</td>\n",
       "      <td>36.561729</td>\n",
       "      <td>50.817508</td>\n",
       "      <td>50.976907</td>\n",
       "      <td>36.482285</td>\n",
       "      <td>36.634694</td>\n",
       "      <td>14.339290</td>\n",
       "      <td>14.339290</td>\n",
       "      <td>14.339290</td>\n",
       "      <td>14.339606</td>\n",
       "      <td>...</td>\n",
       "      <td>-0.000013</td>\n",
       "      <td>-0.000013</td>\n",
       "      <td>-0.000013</td>\n",
       "      <td>0.000034</td>\n",
       "      <td>0.000034</td>\n",
       "      <td>0.000034</td>\n",
       "      <td>0.0</td>\n",
       "      <td>0.0</td>\n",
       "      <td>0.0</td>\n",
       "      <td>50.901019</td>\n",
       "    </tr>\n",
       "  </tbody>\n",
       "</table>\n",
       "<p>150 rows × 79 columns</p>\n",
       "</div>"
      ],
      "text/plain": [
       "                   ds      trend  yhat_lower  yhat_upper  trend_lower  \\\n",
       "                                                                        \n",
       "2021-05-30 2021-05-30  36.556956   60.289206   60.331169    36.556956   \n",
       "2021-05-31 2021-05-31  36.557019   42.457573   42.501233    36.557019   \n",
       "2021-06-01 2021-06-01  36.557081   49.809963   49.853607    36.557081   \n",
       "2021-06-02 2021-06-02  36.557144   46.765469   46.805480    36.557144   \n",
       "2021-06-03 2021-06-03  36.557207   24.542009   24.584629    36.557207   \n",
       "...               ...        ...         ...         ...          ...   \n",
       "2021-10-22 2021-10-22  36.561487   49.027354   49.159500    36.498695   \n",
       "2021-10-23 2021-10-23  36.561548   25.995774   26.133315    36.494370   \n",
       "2021-10-24 2021-10-24  36.561608   27.750922   27.895362    36.490025   \n",
       "2021-10-25 2021-10-25  36.561669   44.245670   44.400063    36.486402   \n",
       "2021-10-26 2021-10-26  36.561729   50.817508   50.976907    36.482285   \n",
       "\n",
       "            trend_upper  additive_terms  additive_terms_lower  \\\n",
       "                                                                \n",
       "2021-05-30    36.556956       23.753235             23.753235   \n",
       "2021-05-31    36.557019        5.922398              5.922398   \n",
       "2021-06-01    36.557081       13.273920             13.273920   \n",
       "2021-06-02    36.557144       10.227270             10.227270   \n",
       "2021-06-03    36.557207      -11.994492            -11.994492   \n",
       "...                 ...             ...                   ...   \n",
       "2021-10-22    36.619895       12.536040             12.536040   \n",
       "2021-10-23    36.623813      -10.495441            -10.495441   \n",
       "2021-10-24    36.627486       -8.736635             -8.736635   \n",
       "2021-10-25    36.630872        7.764436              7.764436   \n",
       "2021-10-26    36.634694       14.339290             14.339290   \n",
       "\n",
       "            additive_terms_upper  extra_regressors_additive  ...        x8  \\\n",
       "                                                             ...             \n",
       "2021-05-30             23.753235                  23.753357  ... -0.000038   \n",
       "2021-05-31              5.922398                   5.922442  ...  0.000083   \n",
       "2021-06-01             13.273920                  13.274236  ... -0.000061   \n",
       "2021-06-02             10.227270                  10.227005  ...  0.000059   \n",
       "2021-06-03            -11.994492                 -11.994743  ... -0.000171   \n",
       "...                          ...                        ...  ...       ...   \n",
       "2021-10-22             12.536040                  12.536220  ... -0.000129   \n",
       "2021-10-23            -10.495441                 -10.495589  ...  0.000234   \n",
       "2021-10-24             -8.736635                  -8.736512  ... -0.000174   \n",
       "2021-10-25              7.764436                   7.764481  ...  0.000029   \n",
       "2021-10-26             14.339290                  14.339606  ... -0.000013   \n",
       "\n",
       "            x8_lower  x8_upper        x9  x9_lower  x9_upper  \\\n",
       "                                                               \n",
       "2021-05-30 -0.000038 -0.000038 -0.000080 -0.000080 -0.000080   \n",
       "2021-05-31  0.000083  0.000083 -0.000030 -0.000030 -0.000030   \n",
       "2021-06-01 -0.000061 -0.000061  0.000054  0.000054  0.000054   \n",
       "2021-06-02  0.000059  0.000059 -0.000057 -0.000057 -0.000057   \n",
       "2021-06-03 -0.000171 -0.000171 -0.000075 -0.000075 -0.000075   \n",
       "...              ...       ...       ...       ...       ...   \n",
       "2021-10-22 -0.000129 -0.000129 -0.000077 -0.000077 -0.000077   \n",
       "2021-10-23  0.000234  0.000234 -0.000015 -0.000015 -0.000015   \n",
       "2021-10-24 -0.000174 -0.000174  0.000004  0.000004  0.000004   \n",
       "2021-10-25  0.000029  0.000029 -0.000011 -0.000011 -0.000011   \n",
       "2021-10-26 -0.000013 -0.000013  0.000034  0.000034  0.000034   \n",
       "\n",
       "            multiplicative_terms  multiplicative_terms_lower  \\\n",
       "                                                               \n",
       "2021-05-30                   0.0                         0.0   \n",
       "2021-05-31                   0.0                         0.0   \n",
       "2021-06-01                   0.0                         0.0   \n",
       "2021-06-02                   0.0                         0.0   \n",
       "2021-06-03                   0.0                         0.0   \n",
       "...                          ...                         ...   \n",
       "2021-10-22                   0.0                         0.0   \n",
       "2021-10-23                   0.0                         0.0   \n",
       "2021-10-24                   0.0                         0.0   \n",
       "2021-10-25                   0.0                         0.0   \n",
       "2021-10-26                   0.0                         0.0   \n",
       "\n",
       "            multiplicative_terms_upper       yhat  \n",
       "                                                   \n",
       "2021-05-30                         0.0  60.310190  \n",
       "2021-05-31                         0.0  42.479416  \n",
       "2021-06-01                         0.0  49.831001  \n",
       "2021-06-02                         0.0  46.784414  \n",
       "2021-06-03                         0.0  24.562715  \n",
       "...                                ...        ...  \n",
       "2021-10-22                         0.0  49.097527  \n",
       "2021-10-23                         0.0  26.066107  \n",
       "2021-10-24                         0.0  27.824973  \n",
       "2021-10-25                         0.0  44.326105  \n",
       "2021-10-26                         0.0  50.901019  \n",
       "\n",
       "[150 rows x 79 columns]"
      ]
     },
     "execution_count": 46,
     "metadata": {},
     "output_type": "execute_result"
    }
   ],
   "source": [
    "forecast2 = mdl2.predict(Xt)\n",
    "forecast2.index = pd.DatetimeIndex(forecast2.ds, name='')\n",
    "forecast2"
   ]
  },
  {
   "cell_type": "markdown",
   "id": "9c441e15",
   "metadata": {
    "slideshow": {
     "slide_type": "subslide"
    }
   },
   "source": [
    "¡Los resultados son mucho mejores!"
   ]
  },
  {
   "cell_type": "code",
   "execution_count": 47,
   "id": "c2c16bf4",
   "metadata": {
    "slideshow": {
     "slide_type": "fragment"
    }
   },
   "outputs": [
    {
     "data": {
      "text/html": [
       "<pre>✔️ 195 ms (2021-10-27T20:30:06/2021-10-27T20:30:06)</pre>"
      ],
      "text/plain": [
       "<IPython.core.display.HTML object>"
      ]
     },
     "metadata": {},
     "output_type": "display_data"
    },
    {
     "data": {
      "image/png": "[encoded data removed]",
      "text/plain": [
       "<Figure size 864x432 with 1 Axes>"
      ]
     },
     "metadata": {
      "needs_background": "light"
     },
     "output_type": "display_data"
    }
   ],
   "source": [
    "fig, ax = plt.subplots(figsize=(12, 6))\n",
    "ax.plot(Y.loc[control_ixs, 'y'], color='blue', label='control', alpha=0.3)\n",
    "ax.plot(Y.loc[treatment_ixs, 'y'], color='red', label='treatment', alpha=0.3)\n",
    "ax.vlines(x=control_ixs[-1], ymin=ax.dataLim.bounds[1], ymax=ax.dataLim.bounds[3], linestyle='--', alpha=0.5)\n",
    "ax.plot(forecast2.yhat, color='green', label='forecast2', alpha=0.3, marker='o')\n",
    "ax.legend();"
   ]
  },
  {
   "cell_type": "markdown",
   "id": "24c50da8",
   "metadata": {
    "slideshow": {
     "slide_type": "slide"
    }
   },
   "source": [
    "## Estimemos el efecto\n",
    "\n",
    "Lo que nos interesa hacer es estimar el efecto e impulso total y lo las diferencias diarias, aunque podríamos medir diferencias significativas a nivel diario también. Para esto, necestiamos asegurar que estamos haciendo muestro posterior sobre series __acumuladas__ y no valores diarios.\n",
    "\n",
    "Formalmente, el efecto total sería -\n",
    "\n",
    "$$\n",
    "\\sum_{i\\in{\\ T}}{\\delta{y}_i} = \\sum_{i\\in{\\ T}}{(y_i - \\hat{y}_i)}\n",
    "$$\n",
    "\n",
    "con $T$ representando el período de tratamiento."
   ]
  },
  {
   "cell_type": "markdown",
   "id": "1527b3ce",
   "metadata": {
    "slideshow": {
     "slide_type": "subslide"
    }
   },
   "source": [
    "### Acceso a muestreo posterior\n",
    "\n",
    "Prophet entrega un fácil acceso a sampleo posterior del modelo, una vez entrenado. Podemos utilizar estas muestras no solamente para estimar el efecto punto a nivel diario, sino que también simular los intervalos de confianza. ¡Excelente!"
   ]
  },
  {
   "cell_type": "code",
   "execution_count": 48,
   "id": "a496074b",
   "metadata": {
    "slideshow": {
     "slide_type": "fragment"
    }
   },
   "outputs": [
    {
     "data": {
      "text/html": [
       "<pre>✔️ 1.28 s (2021-10-27T20:30:10/2021-10-27T20:30:11)</pre>"
      ],
      "text/plain": [
       "<IPython.core.display.HTML object>"
      ]
     },
     "metadata": {},
     "output_type": "display_data"
    },
    {
     "name": "stdout",
     "output_type": "stream",
     "text": [
      "(30,) (30, 1000)\n"
     ]
    },
    {
     "data": {
      "text/plain": [
       "array([[38.42027479, 38.40759196, 38.39053282, ..., 38.42462647,\n",
       "        38.41050465, 38.4114174 ],\n",
       "       [37.05334114, 37.06272089, 37.02602412, ..., 37.07832673,\n",
       "        37.08781164, 37.06543553],\n",
       "       [53.60787325, 53.61162172, 53.60343947, ..., 53.59811414,\n",
       "        53.59437375, 53.6245788 ],\n",
       "       ...,\n",
       "       [27.79029605, 27.90231993, 27.79408294, ..., 27.79547135,\n",
       "        27.81947632, 27.88841756],\n",
       "       [44.28430708, 44.39048371, 44.31921828, ..., 44.31595551,\n",
       "        44.32485713, 44.37701035],\n",
       "       [50.84481471, 50.96508357, 50.88709251, ..., 50.87370252,\n",
       "        50.86664759, 50.94240202]])"
      ]
     },
     "execution_count": 48,
     "metadata": {},
     "output_type": "execute_result"
    }
   ],
   "source": [
    "Yhat = mdl2.predictive_samples(Xt.loc[treatment_ixs, :])['yhat']\n",
    "print(Y.loc[treatment_ixs, 'y'].shape, Yhat.shape)\n",
    "Yhat"
   ]
  },
  {
   "cell_type": "markdown",
   "id": "65971c0d",
   "metadata": {
    "slideshow": {
     "slide_type": "subslide"
    }
   },
   "source": [
    "Podemos utilizar estas muestras para construir series de diferencias diarias entre observado $y_t$ y contrafactual $\\hat{y}_t$, lo que nos permitirá calcular diferentes estadísticas sobre las series cumulativas."
   ]
  },
  {
   "cell_type": "code",
   "execution_count": 49,
   "id": "27ffc01a",
   "metadata": {
    "slideshow": {
     "slide_type": "fragment"
    }
   },
   "outputs": [
    {
     "data": {
      "text/html": [
       "<pre>✔️ 5.17 ms (2021-10-27T20:30:12/2021-10-27T20:30:12)</pre>"
      ],
      "text/plain": [
       "<IPython.core.display.HTML object>"
      ]
     },
     "metadata": {},
     "output_type": "display_data"
    },
    {
     "name": "stdout",
     "output_type": "stream",
     "text": [
      "(30, 1)\n"
     ]
    },
    {
     "data": {
      "text/plain": [
       "array([[39.54824495],\n",
       "       [38.16656356],\n",
       "       [55.21689397],\n",
       "       [43.1735145 ],\n",
       "       [37.49035589],\n",
       "       [34.70157854],\n",
       "       [21.6109008 ],\n",
       "       [28.34917293],\n",
       "       [27.41198327],\n",
       "       [ 2.93013207]])"
      ]
     },
     "execution_count": 49,
     "metadata": {},
     "output_type": "execute_result"
    }
   ],
   "source": [
    "# observed response\n",
    "yt = Y.loc[treatment_ixs, ['y']].values\n",
    "print(yt.shape)\n",
    "yt[:10]"
   ]
  },
  {
   "cell_type": "markdown",
   "id": "0c428c6b",
   "metadata": {
    "slideshow": {
     "slide_type": "subslide"
    }
   },
   "source": [
    "El contrafactual está marginalmente bajo el observado. Ya sabemos que esto es correcto, dado que conocemos el impulso real."
   ]
  },
  {
   "cell_type": "code",
   "execution_count": 50,
   "id": "0f72820c",
   "metadata": {
    "slideshow": {
     "slide_type": "fragment"
    }
   },
   "outputs": [
    {
     "data": {
      "text/html": [
       "<pre>✔️ 251 ms (2021-10-27T20:30:14/2021-10-27T20:30:14)</pre>"
      ],
      "text/plain": [
       "<IPython.core.display.HTML object>"
      ]
     },
     "metadata": {},
     "output_type": "display_data"
    },
    {
     "data": {
      "image/png": "[encoded data removed]",
      "text/plain": [
       "<Figure size 864x432 with 1 Axes>"
      ]
     },
     "metadata": {
      "needs_background": "light"
     },
     "output_type": "display_data"
    }
   ],
   "source": [
    "fig, ax = plt.subplots(figsize=(12, 6))\n",
    "ax.set_title('Treatment period response')\n",
    "pd.Series(Yhat.mean(axis=1), index=treatment_ixs).plot(label='counterfactual')\n",
    "pd.Series(yt.flatten(), index=treatment_ixs).plot(ax=ax, label='observed')\n",
    "ax.legend();"
   ]
  },
  {
   "cell_type": "markdown",
   "id": "5c8634fc",
   "metadata": {
    "slideshow": {
     "slide_type": "subslide"
    }
   },
   "source": [
    "### Pero, ¿podremos detectar esto de forma estadísticamente significativa?"
   ]
  },
  {
   "cell_type": "markdown",
   "id": "27056bff",
   "metadata": {
    "slideshow": {
     "slide_type": "subslide"
    }
   },
   "source": [
    "### ¡Sí!"
   ]
  },
  {
   "cell_type": "code",
   "execution_count": 51,
   "id": "1156a265",
   "metadata": {
    "slideshow": {
     "slide_type": "subslide"
    }
   },
   "outputs": [
    {
     "data": {
      "text/html": [
       "<pre>✔️ 13.4 ms (2021-10-27T20:30:16/2021-10-27T20:30:16)</pre>"
      ],
      "text/plain": [
       "<IPython.core.display.HTML object>"
      ]
     },
     "metadata": {},
     "output_type": "display_data"
    },
    {
     "name": "stdout",
     "output_type": "stream",
     "text": [
      "Ground truth: 0.03\n"
     ]
    },
    {
     "data": {
      "text/html": [
       "<div>\n",
       "<style scoped>\n",
       "    .dataframe tbody tr th:only-of-type {\n",
       "        vertical-align: middle;\n",
       "    }\n",
       "\n",
       "    .dataframe tbody tr th {\n",
       "        vertical-align: top;\n",
       "    }\n",
       "\n",
       "    .dataframe thead th {\n",
       "        text-align: right;\n",
       "    }\n",
       "</style>\n",
       "<table border=\"1\" class=\"dataframe\">\n",
       "  <thead>\n",
       "    <tr style=\"text-align: right;\">\n",
       "      <th></th>\n",
       "      <th>impulse_lb</th>\n",
       "      <th>impulse_point</th>\n",
       "      <th>impulse_ub</th>\n",
       "    </tr>\n",
       "  </thead>\n",
       "  <tbody>\n",
       "    <tr>\n",
       "      <th>0</th>\n",
       "      <td>0.028409</td>\n",
       "      <td>0.029925</td>\n",
       "      <td>0.031483</td>\n",
       "    </tr>\n",
       "  </tbody>\n",
       "</table>\n",
       "</div>"
      ],
      "text/plain": [
       "   impulse_lb  impulse_point  impulse_ub\n",
       "0    0.028409       0.029925    0.031483"
      ]
     },
     "execution_count": 51,
     "metadata": {},
     "output_type": "execute_result"
    }
   ],
   "source": [
    "cdY = np.subtract(yt, Yhat).cumsum(axis=0)\n",
    "# impulse\n",
    "effect = pd.DataFrame(\n",
    "    cdY.mean(axis=1)/Yhat.mean(axis=1).cumsum(),\n",
    "    index=treatment_ixs,\n",
    "    columns=['impulse_point']\n",
    ")\n",
    "l, u = np.percentile(cdY, [2.5, 97.5], axis=1)\n",
    "effect['impulse_lb'] = l/Yhat.mean(axis=1).cumsum()\n",
    "effect['impulse_ub'] = u/Yhat.mean(axis=1).cumsum()\n",
    "effect = effect[['impulse_lb', 'impulse_point', 'impulse_ub']]\n",
    "\n",
    "# total effect\n",
    "effect['total_point'] = cdY.mean(axis=1)\n",
    "effect['total_lb'] = l\n",
    "effect['total_ub'] = u\n",
    "\n",
    "print('Ground truth: {}'.format(sd.impulse))\n",
    "pd.DataFrame([effect.iloc[-1][:3].to_dict()])"
   ]
  },
  {
   "cell_type": "markdown",
   "id": "993d4d8c",
   "metadata": {
    "slideshow": {
     "slide_type": "subslide"
    }
   },
   "source": [
    "También podemos construir unos buenos gráficos para presentar los resultados de nuestra política de intervención, asegurando el \"efecto wow\"."
   ]
  },
  {
   "cell_type": "code",
   "execution_count": 52,
   "id": "a0af174c",
   "metadata": {
    "slideshow": {
     "slide_type": "subslide"
    }
   },
   "outputs": [
    {
     "data": {
      "text/html": [
       "<pre>✔️ 331 ms (2021-10-27T20:30:20/2021-10-27T20:30:20)</pre>"
      ],
      "text/plain": [
       "<IPython.core.display.HTML object>"
      ]
     },
     "metadata": {},
     "output_type": "display_data"
    },
    {
     "data": {
      "image/png": "[encoded data removed]",
      "text/plain": [
       "<Figure size 1080x360 with 2 Axes>"
      ]
     },
     "metadata": {
      "needs_background": "light"
     },
     "output_type": "display_data"
    }
   ],
   "source": [
    "fig, axs = plt.subplots(1, 2, figsize=(15, 5))\n",
    "axs[0].set_title('Cummulative effect')\n",
    "axs[0].plot(effect.total_point)\n",
    "axs[0].fill_between(x=effect.index, y1=effect.total_lb, y2=effect.total_ub, alpha=0.25)\n",
    "axs[0].tick_params(rotation=45)\n",
    "axs[1].set_title('Cummulative impulse')\n",
    "axs[1].plot(effect.impulse_point)\n",
    "axs[1].fill_between(x=effect.index, y1=effect.impulse_lb, y2=effect.impulse_ub, alpha=0.25)\n",
    "axs[1].tick_params(rotation=45)\n",
    "\n",
    "fig.tight_layout()"
   ]
  },
  {
   "cell_type": "markdown",
   "id": "3add81c3",
   "metadata": {
    "slideshow": {
     "slide_type": "slide"
    }
   },
   "source": [
    "# Algunas ideas para cerrar\n",
    "\n",
    "- Los Controles Sintéticos nos permiten realizar análisis causal sobre procesos en los que no podemos implementar experimentos válidos, incluso no aleatorios.\n",
    "- Utilizar controles es una gran forma de reducir el ruido en nuestras series, aislando mejor los efectos causales de un tratamiento, y mejorando nuestras estimaciones de los efectos.\n",
    "- Los GAMs son un gran candidato para construir contrafactuales robustos, ya que son muy flexibles y tienen bastante soporte en Python — e.g., Facebook Prophet.\n",
    "- El proceso, por lo general, es muy bajo en consumo computacional, por lo que es recomendable realizar análisis de sensibilidad sobre los resultados — agregar o quitar días, mover el período de intervención un día hacia adelante y atrás, agregar y sacar controles, etc."
   ]
  },
  {
   "cell_type": "markdown",
   "id": "dc4573da",
   "metadata": {
    "slideshow": {
     "slide_type": "slide"
    }
   },
   "source": [
    "# ¡Gracias!\n",
    "- ¿Preguntas?\n",
    "- Pueden descargar el código [aquí](https://github.com/misterte/talks)."
   ]
  },
  {
   "cell_type": "code",
   "execution_count": null,
   "id": "0580ed05",
   "metadata": {
    "slideshow": {
     "slide_type": "skip"
    }
   },
   "outputs": [],
   "source": []
  }
 ],
 "metadata": {
  "celltoolbar": "Slideshow",
  "kernelspec": {
   "display_name": "Python 3 (ipykernel)",
   "language": "python",
   "name": "python3"
  },
  "language_info": {
   "codemirror_mode": {
    "name": "ipython",
    "version": 3
   },
   "file_extension": ".py",
   "mimetype": "text/x-python",
   "name": "python",
   "nbconvert_exporter": "python",
   "pygments_lexer": "ipython3",
   "version": "3.7.9"
  }
 },
 "nbformat": 4,
 "nbformat_minor": 5
}
