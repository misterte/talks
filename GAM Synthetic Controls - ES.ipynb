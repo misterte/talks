{
 "cells": [
  {
   "cell_type": "code",
   "execution_count": 4,
   "id": "03d4a858",
   "metadata": {
    "slideshow": {
     "slide_type": "skip"
    }
   },
   "outputs": [
    {
     "data": {
      "text/html": [
       "<pre>✔️ 2.09 ms (2021-10-27T21:08:03/2021-10-27T21:08:03)</pre>"
      ],
      "text/plain": [
       "<IPython.core.display.HTML object>"
      ]
     },
     "metadata": {},
     "output_type": "display_data"
    },
    {
     "name": "stdout",
     "output_type": "stream",
     "text": [
      "The autoreload extension is already loaded. To reload it, use:\n",
      "  %reload_ext autoreload\n",
      "The autotime extension is already loaded. To reload it, use:\n",
      "  %reload_ext autotime\n"
     ]
    }
   ],
   "source": [
    "%load_ext autoreload\n",
    "%load_ext autotime"
   ]
  },
  {
   "cell_type": "code",
   "execution_count": 5,
   "id": "762ac091",
   "metadata": {
    "slideshow": {
     "slide_type": "skip"
    }
   },
   "outputs": [
    {
     "data": {
      "text/html": [
       "<pre>✔️ 717 µs (2021-10-27T21:08:03/2021-10-27T21:08:03)</pre>"
      ],
      "text/plain": [
       "<IPython.core.display.HTML object>"
      ]
     },
     "metadata": {},
     "output_type": "display_data"
    }
   ],
   "source": [
    "%autoreload 2"
   ]
  },
  {
   "cell_type": "code",
   "execution_count": 6,
   "id": "5ebe92f0",
   "metadata": {
    "slideshow": {
     "slide_type": "skip"
    }
   },
   "outputs": [
    {
     "data": {
      "text/html": [
       "<pre>✔️ 1.52 ms (2021-10-27T21:08:04/2021-10-27T21:08:04)</pre>"
      ],
      "text/plain": [
       "<IPython.core.display.HTML object>"
      ]
     },
     "metadata": {},
     "output_type": "display_data"
    }
   ],
   "source": [
    "import sys\n",
    "sys.path.append('../../../')"
   ]
  },
  {
   "cell_type": "markdown",
   "id": "4dfe42a8",
   "metadata": {
    "slideshow": {
     "slide_type": "slide"
    }
   },
   "source": [
    "# Controles Sintéticos utilizando GAMs\n",
    "Modelos Aditivos Generalizados para el diseño de contrafactuales robustos."
   ]
  },
  {
   "cell_type": "markdown",
   "id": "4c1f297e",
   "metadata": {
    "slideshow": {
     "slide_type": "slide"
    }
   },
   "source": [
    "[<img src=\"assets/gamsc/gamsc-qr.png\" width=\"600\" style=\"display: block; margin-left: auto; margin-right: auto;\"/>](assets/gamsc/i-quit.png \"The worst\")"
   ]
  },
  {
   "cell_type": "markdown",
   "id": "2ba9a701",
   "metadata": {
    "slideshow": {
     "slide_type": "slide"
    }
   },
   "source": [
    "## Un poco sobre mí\n",
    "\n",
    "- Andrés Bucchi, VP de Data & Analytics @ Sodimac; previamente Uber HQ.\n",
    "- Sodimac tiene presencia en 7 países; Data & Analytics cerca de 100 personas\n",
    "- Tenemos múltiples proyectos interesantes, desde plataformas de Data hasta Analítica Avanzada, pero lo que más nos (me) gusta es la experimentación.\n",
    "- Soy de profesión Ingeniero Comercial (BBA), pero mi pasión siempre fue el programar."
   ]
  },
  {
   "cell_type": "markdown",
   "id": "1f083b50",
   "metadata": {
    "slideshow": {
     "slide_type": "slide"
    }
   },
   "source": [
    "## Un poco sobre los Controles Sintéticos\n",
    "\n",
    "Los controles sintéticos nos permiten realizar análisis causal cuando no existen otras alternativas (más robustas) para construir un contrafactual válido — e.g., muestreo aleatorio, muestreo temporal, cuasi-experimentos, etc.\n",
    "\n",
    "Este tipo de análisis es de altísima utilidad al momento de evaluar el efecto de distintas políticas de intervención que no pueden \"prenderse y apagarse\" o no pueden ofrecérseles solamente a un grupo de individuos. Por ejemplo -"
   ]
  },
  {
   "cell_type": "markdown",
   "id": "769c4cae",
   "metadata": {
    "slideshow": {
     "slide_type": "subslide"
    }
   },
   "source": [
    "- Un sistema de atención de urgencia que podría salvar más vidas, lo que presenta un problema ético y reputacional.\n",
    "- Mejores condiciones en créditos hipotecarios según un nuevo modelo de riesgo, si es que la ley no permite tener ofertas diferentes para un mismo producto, bajo mismas condiciones.\n",
    "- Apertura de una nueva tienda y posible efecto en canales online.\n",
    "- Entre __muchos__ otros..."
   ]
  },
  {
   "cell_type": "markdown",
   "id": "9b80bf18",
   "metadata": {
    "slideshow": {
     "slide_type": "slide"
    }
   },
   "source": [
    "## Un poco sobre GAMs\n",
    "\n",
    "Generalized Additive Models (GAMs) son el resultado de una combinación lineal de Generalizaed Linear Models (GMLs). Permiten relacionar la __media__ de una serie de respuesta $Y$ a un vector de controles $X$, a través de una función de vínculo $g(·)$.\n",
    "\n",
    "$$\n",
    "g(E[y]) = f_0(x_0) + f_1(x_1) + ... + f_k(x_k)\n",
    "$$"
   ]
  },
  {
   "cell_type": "markdown",
   "id": "d0b13e88",
   "metadata": {
    "slideshow": {
     "slide_type": "subslide"
    }
   },
   "source": [
    "La función $g(·)$ puede tomar múltiples formas, y puede ser interpretada como la función inversa a la media de alguna familia de distribuciones — e.g., en el caso de una poisson, si la media $\\mu$ puede ser expresada como una combinación lineal de $X$\n",
    "\n",
    "$$\n",
    "\\mu=e^{X\\beta}\n",
    "$$\n",
    "\n",
    "Entonces $g(·)$ es la función exponencial y $g^{-1}(·)$ es $ln(\\mu)$."
   ]
  },
  {
   "cell_type": "markdown",
   "id": "2b7fa3d9",
   "metadata": {
    "slideshow": {
     "slide_type": "subslide"
    }
   },
   "source": [
    "### ¿Y qué?\n",
    "\n",
    "El principal take-away es que los GAMs son muy flexibles y, en general, permiten construir forecasts con errores iid. que se comportan de una forma normalizada, agregando distintos niveles de tendencias y quiebres de tendencias, etc. Esto las convierte en muy buenas candidatas para el análisis contrafactual."
   ]
  },
  {
   "cell_type": "markdown",
   "id": "946a055c",
   "metadata": {
    "slideshow": {
     "slide_type": "slide"
    }
   },
   "source": [
    "## Construyendo un contrafactual\n",
    "\n",
    "Buscamos construir un contrafactual $\\hat{y}_c$ con la finalidad de estimar el efecto $\\delta{y}$ de un tratamiento, dado que\n",
    "\n",
    "$$\n",
    "\\hat{ \\delta{y} } = y - \\hat{y}_c\n",
    "$$\n",
    "\n",
    "Nótese que $y$ es un valor conocido y observado tanto antes como después del tratamiento.\n",
    "\n",
    "Utilizando GAMs, podemos reescribir lo anterior -\n",
    "\n",
    "$$\n",
    "\\hat{ \\delta{y} } = y - g^{-1}(f_0(x_0) + f_1(x_1) + ... + f_k(x_k))\n",
    "$$\n",
    "\n",
    "Donde $X$ representa un vector de controles, utilizado para construir nuestro contrafactual $\\hat{y}_c$."
   ]
  },
  {
   "cell_type": "markdown",
   "id": "5b72996c",
   "metadata": {
    "slideshow": {
     "slide_type": "subslide"
    }
   },
   "source": [
    "### Eligiendo los controles correctos\n",
    "\n",
    "Al construir $\\hat{y}_c$, lo que queremos evitar es la interferencia, ya que no debiesen existir cualquier tipo de contaminación desde los controles hacia la respuesta y viceversa. Visualmente,\n",
    "\n",
    "[<img src=\"assets/gamsc/good.png\" width=\"600\" style=\"display: block; margin-left: auto; margin-right: auto;\"/>](assets/gamsc/good.png \"The good\")"
   ]
  },
  {
   "cell_type": "markdown",
   "id": "f3ad9285",
   "metadata": {
    "slideshow": {
     "slide_type": "subslide"
    }
   },
   "source": [
    "Y lo que debemos evitar -\n",
    "\n",
    "[<img src=\"assets/gamsc/bad.png\" width=\"600\" style=\"display: block; margin-left: auto; margin-right: auto;\"/>](assets/gamsc/bad.png \"The bad\")"
   ]
  },
  {
   "cell_type": "markdown",
   "id": "2a904e6a",
   "metadata": {
    "slideshow": {
     "slide_type": "subslide"
    }
   },
   "source": [
    "[<img src=\"assets/gamsc/also-bad.png\" width=\"600\" style=\"display: block; margin-left: auto; margin-right: auto;\"/>](assets/gamsc/also-bad.png \"The worse\")"
   ]
  },
  {
   "cell_type": "markdown",
   "id": "432e3ef5",
   "metadata": {
    "slideshow": {
     "slide_type": "subslide"
    }
   },
   "source": [
    "[<img src=\"assets/gamsc/i-quit.png\" width=\"600\" style=\"display: block; margin-left: auto; margin-right: auto;\"/>](assets/gamsc/i-quit.png \"The worst\")"
   ]
  },
  {
   "cell_type": "markdown",
   "id": "56c5d3da",
   "metadata": {
    "slideshow": {
     "slide_type": "subslide"
    }
   },
   "source": [
    "### Por ejemplo\n",
    "\n",
    "Utilizar los volúmenes de abastecimiento para construir un contrafactual de ventas es..."
   ]
  },
  {
   "cell_type": "markdown",
   "id": "fca65cd4",
   "metadata": {
    "slideshow": {
     "slide_type": "subslide"
    }
   },
   "source": [
    "- __Incorrecto__ — un mayor volumen de ventas incrementará la cantidad de pedidos de abastecimiento, por lo que la respuesta y el control tienen una relación causal. Utilizar el abastecimiento interno como control va a generar un feedback positivo -\n",
    "\n",
    "        mayores ventas observadas\n",
    "            >> mayores órdenes de abastecimiento\n",
    "                >> predicción de un contrafactual más alto\n",
    "                    >> subestimación del efecto del tratamiento"
   ]
  },
  {
   "cell_type": "markdown",
   "id": "49cf50ce",
   "metadata": {
    "slideshow": {
     "slide_type": "subslide"
    }
   },
   "source": [
    "Utiliza la venta de otras tiendas para construir un contrafactual de ventas en una tienda distinta es..."
   ]
  },
  {
   "cell_type": "markdown",
   "id": "2b8fe214",
   "metadata": {
    "slideshow": {
     "slide_type": "subslide"
    }
   },
   "source": [
    "- __Correcto__ — podemos asumir razonablemente que las ventas están principalmente afectadas por factores exógenos o causas comunes, independientes a un tratamiento, por lo que representan una buena alternativa para construir un contrafactual robusto."
   ]
  },
  {
   "cell_type": "markdown",
   "id": "f2e3c640",
   "metadata": {
    "slideshow": {
     "slide_type": "slide"
    }
   },
   "source": [
    "## Otros beneficios de los GAMs\n",
    "\n",
    "Los GAMs están ampliamente cubiertas por distintos paquetes en Python, varios de ellos bastante sofisticados y con una gran comunidad de soporte opensource. Mejor todavía - Facebook tiene un motor de forecasting llamado `Prophet` que permite, entre otras cosas, realizar muestreo posterior, ¡lo que facilita muchísimo la construcción de intervalos de confianza!\n",
    "\n",
    "```bash\n",
    "$ pip install prophet\n",
    "```\n",
    "\n",
    "[Documentación](https://facebook.github.io/prophet/)."
   ]
  },
  {
   "cell_type": "markdown",
   "id": "6a9c2798",
   "metadata": {
    "slideshow": {
     "slide_type": "slide"
    }
   },
   "source": [
    "## ¡Manos a la obra!"
   ]
  },
  {
   "cell_type": "markdown",
   "id": "86c0d6c1",
   "metadata": {
    "slideshow": {
     "slide_type": "slide"
    }
   },
   "source": [
    "Empecemos por importar `fbprophet`. También utilizaremos algunas funcionalidades de `SodiMX`, el paquete de Experimentación de Sodimac — no es opensource todavía."
   ]
  },
  {
   "cell_type": "code",
   "execution_count": 8,
   "id": "4a82b04e",
   "metadata": {
    "slideshow": {
     "slide_type": "fragment"
    }
   },
   "outputs": [
    {
     "data": {
      "text/html": [
       "<pre>✔️ 4.39 ms (2021-10-27T21:26:18/2021-10-27T21:26:18)</pre>"
      ],
      "text/plain": [
       "<IPython.core.display.HTML object>"
      ]
     },
     "metadata": {},
     "output_type": "display_data"
    }
   ],
   "source": [
    "import numpy as np\n",
    "import pandas as pd\n",
    "try:\n",
    "    import fbprophet\n",
    "except ImportError:\n",
    "    import prophet as fbprophet\n",
    "try:\n",
    "    from sodimx.synthetic_control.utils import SyntheticData\n",
    "except ImportError:\n",
    "    from utils import SyntheticData\n",
    "from matplotlib import pyplot as plt\n",
    "\n",
    "plt.style.use('ggplot')\n",
    "\n",
    "%matplotlib inline"
   ]
  },
  {
   "cell_type": "markdown",
   "id": "8ec76a7c",
   "metadata": {
    "slideshow": {
     "slide_type": "subslide"
    }
   },
   "source": [
    "Necesitamos un poco de data sintética, para la cuál, por diseño, además sabremos el efecto real."
   ]
  },
  {
   "cell_type": "code",
   "execution_count": 9,
   "id": "887779b3",
   "metadata": {
    "slideshow": {
     "slide_type": "fragment"
    }
   },
   "outputs": [
    {
     "data": {
      "text/html": [
       "<pre>✔️ 10.4 ms (2021-10-27T21:26:48/2021-10-27T21:26:48)</pre>"
      ],
      "text/plain": [
       "<IPython.core.display.HTML object>"
      ]
     },
     "metadata": {},
     "output_type": "display_data"
    }
   ],
   "source": [
    "sd = SyntheticData(\n",
    "    impulse=0.03,\n",
    "    noise=10.0,\n",
    "    bias=0.1,\n",
    "    n_controls=20,\n",
    "    n_informative_controls=10,\n",
    "    n_samples=150,\n",
    "    n_treatment=30\n",
    ")\n",
    "X, Y, slices = sd.make_arma()"
   ]
  },
  {
   "cell_type": "markdown",
   "id": "37a4d098",
   "metadata": {
    "slideshow": {
     "slide_type": "subslide"
    }
   },
   "source": [
    "$X$ es una matriz de series de tiempos de distintos controles, pero de los cuales solamente algunos son informativos, mientras otros tienen como objetivo el agregar ruido y probar la robustez de nuestro método."
   ]
  },
  {
   "cell_type": "code",
   "execution_count": 11,
   "id": "8fe83250",
   "metadata": {
    "slideshow": {
     "slide_type": "fragment"
    }
   },
   "outputs": [
    {
     "data": {
      "text/html": [
       "<pre>✔️ 20.7 ms (2021-10-27T21:27:09/2021-10-27T21:27:09)</pre>"
      ],
      "text/plain": [
       "<IPython.core.display.HTML object>"
      ]
     },
     "metadata": {},
     "output_type": "display_data"
    },
    {
     "data": {
      "text/html": [
       "<div>\n",
       "<style scoped>\n",
       "    .dataframe tbody tr th:only-of-type {\n",
       "        vertical-align: middle;\n",
       "    }\n",
       "\n",
       "    .dataframe tbody tr th {\n",
       "        vertical-align: top;\n",
       "    }\n",
       "\n",
       "    .dataframe thead th {\n",
       "        text-align: right;\n",
       "    }\n",
       "</style>\n",
       "<table border=\"1\" class=\"dataframe\">\n",
       "  <thead>\n",
       "    <tr style=\"text-align: right;\">\n",
       "      <th></th>\n",
       "      <th>0</th>\n",
       "      <th>1</th>\n",
       "      <th>2</th>\n",
       "      <th>3</th>\n",
       "      <th>4</th>\n",
       "      <th>5</th>\n",
       "      <th>6</th>\n",
       "      <th>7</th>\n",
       "      <th>8</th>\n",
       "      <th>9</th>\n",
       "      <th>10</th>\n",
       "      <th>11</th>\n",
       "      <th>12</th>\n",
       "      <th>13</th>\n",
       "      <th>14</th>\n",
       "      <th>15</th>\n",
       "      <th>16</th>\n",
       "      <th>17</th>\n",
       "      <th>18</th>\n",
       "      <th>19</th>\n",
       "    </tr>\n",
       "  </thead>\n",
       "  <tbody>\n",
       "    <tr>\n",
       "      <th>2021-05-30</th>\n",
       "      <td>-8.544111</td>\n",
       "      <td>15.648429</td>\n",
       "      <td>-7.121805</td>\n",
       "      <td>16.443887</td>\n",
       "      <td>4.601226</td>\n",
       "      <td>-0.108324</td>\n",
       "      <td>-6.341720</td>\n",
       "      <td>-7.470710</td>\n",
       "      <td>-28.587414</td>\n",
       "      <td>6.006472</td>\n",
       "      <td>7.569650</td>\n",
       "      <td>3.316353</td>\n",
       "      <td>3.721769</td>\n",
       "      <td>15.509269</td>\n",
       "      <td>-0.201731</td>\n",
       "      <td>1.348539</td>\n",
       "      <td>8.967389</td>\n",
       "      <td>13.881873</td>\n",
       "      <td>-2.938492</td>\n",
       "      <td>3.378491</td>\n",
       "    </tr>\n",
       "    <tr>\n",
       "      <th>2021-05-31</th>\n",
       "      <td>-7.447693</td>\n",
       "      <td>1.904122</td>\n",
       "      <td>-11.376288</td>\n",
       "      <td>16.621413</td>\n",
       "      <td>-0.279264</td>\n",
       "      <td>9.856329</td>\n",
       "      <td>-12.465589</td>\n",
       "      <td>34.238972</td>\n",
       "      <td>28.427218</td>\n",
       "      <td>6.417384</td>\n",
       "      <td>7.122696</td>\n",
       "      <td>5.095405</td>\n",
       "      <td>-5.559460</td>\n",
       "      <td>8.098105</td>\n",
       "      <td>34.830585</td>\n",
       "      <td>-0.116241</td>\n",
       "      <td>14.729300</td>\n",
       "      <td>-1.286926</td>\n",
       "      <td>-0.755297</td>\n",
       "      <td>0.636300</td>\n",
       "    </tr>\n",
       "    <tr>\n",
       "      <th>2021-06-01</th>\n",
       "      <td>-1.469995</td>\n",
       "      <td>1.750055</td>\n",
       "      <td>-10.020635</td>\n",
       "      <td>16.269278</td>\n",
       "      <td>2.658967</td>\n",
       "      <td>6.491619</td>\n",
       "      <td>-14.727704</td>\n",
       "      <td>4.143352</td>\n",
       "      <td>-6.004030</td>\n",
       "      <td>10.686000</td>\n",
       "      <td>5.237442</td>\n",
       "      <td>10.902914</td>\n",
       "      <td>-1.668595</td>\n",
       "      <td>16.479214</td>\n",
       "      <td>26.716832</td>\n",
       "      <td>0.911240</td>\n",
       "      <td>14.443813</td>\n",
       "      <td>23.113580</td>\n",
       "      <td>-3.792967</td>\n",
       "      <td>4.608560</td>\n",
       "    </tr>\n",
       "    <tr>\n",
       "      <th>2021-06-02</th>\n",
       "      <td>7.099451</td>\n",
       "      <td>-17.733669</td>\n",
       "      <td>-14.181534</td>\n",
       "      <td>17.412150</td>\n",
       "      <td>12.358673</td>\n",
       "      <td>8.569656</td>\n",
       "      <td>-14.651859</td>\n",
       "      <td>6.710788</td>\n",
       "      <td>33.175375</td>\n",
       "      <td>9.167945</td>\n",
       "      <td>14.449084</td>\n",
       "      <td>-5.994485</td>\n",
       "      <td>0.338628</td>\n",
       "      <td>7.971604</td>\n",
       "      <td>21.937071</td>\n",
       "      <td>2.616061</td>\n",
       "      <td>11.467972</td>\n",
       "      <td>-4.584749</td>\n",
       "      <td>-7.731492</td>\n",
       "      <td>7.555510</td>\n",
       "    </tr>\n",
       "    <tr>\n",
       "      <th>2021-06-03</th>\n",
       "      <td>-18.229799</td>\n",
       "      <td>18.968659</td>\n",
       "      <td>-8.903114</td>\n",
       "      <td>17.797786</td>\n",
       "      <td>8.675661</td>\n",
       "      <td>-1.248070</td>\n",
       "      <td>-9.706767</td>\n",
       "      <td>27.720573</td>\n",
       "      <td>2.765875</td>\n",
       "      <td>5.773219</td>\n",
       "      <td>8.050140</td>\n",
       "      <td>2.438925</td>\n",
       "      <td>4.497304</td>\n",
       "      <td>9.541865</td>\n",
       "      <td>29.845215</td>\n",
       "      <td>-0.329158</td>\n",
       "      <td>10.219502</td>\n",
       "      <td>7.205322</td>\n",
       "      <td>-6.023020</td>\n",
       "      <td>-4.991733</td>\n",
       "    </tr>\n",
       "  </tbody>\n",
       "</table>\n",
       "</div>"
      ],
      "text/plain": [
       "                   0          1          2          3          4         5   \\\n",
       "2021-05-30  -8.544111  15.648429  -7.121805  16.443887   4.601226 -0.108324   \n",
       "2021-05-31  -7.447693   1.904122 -11.376288  16.621413  -0.279264  9.856329   \n",
       "2021-06-01  -1.469995   1.750055 -10.020635  16.269278   2.658967  6.491619   \n",
       "2021-06-02   7.099451 -17.733669 -14.181534  17.412150  12.358673  8.569656   \n",
       "2021-06-03 -18.229799  18.968659  -8.903114  17.797786   8.675661 -1.248070   \n",
       "\n",
       "                   6          7          8          9          10         11  \\\n",
       "2021-05-30  -6.341720  -7.470710 -28.587414   6.006472   7.569650   3.316353   \n",
       "2021-05-31 -12.465589  34.238972  28.427218   6.417384   7.122696   5.095405   \n",
       "2021-06-01 -14.727704   4.143352  -6.004030  10.686000   5.237442  10.902914   \n",
       "2021-06-02 -14.651859   6.710788  33.175375   9.167945  14.449084  -5.994485   \n",
       "2021-06-03  -9.706767  27.720573   2.765875   5.773219   8.050140   2.438925   \n",
       "\n",
       "                  12         13         14        15         16         17  \\\n",
       "2021-05-30  3.721769  15.509269  -0.201731  1.348539   8.967389  13.881873   \n",
       "2021-05-31 -5.559460   8.098105  34.830585 -0.116241  14.729300  -1.286926   \n",
       "2021-06-01 -1.668595  16.479214  26.716832  0.911240  14.443813  23.113580   \n",
       "2021-06-02  0.338628   7.971604  21.937071  2.616061  11.467972  -4.584749   \n",
       "2021-06-03  4.497304   9.541865  29.845215 -0.329158  10.219502   7.205322   \n",
       "\n",
       "                  18        19  \n",
       "2021-05-30 -2.938492  3.378491  \n",
       "2021-05-31 -0.755297  0.636300  \n",
       "2021-06-01 -3.792967  4.608560  \n",
       "2021-06-02 -7.731492  7.555510  \n",
       "2021-06-03 -6.023020 -4.991733  "
      ]
     },
     "execution_count": 11,
     "metadata": {},
     "output_type": "execute_result"
    }
   ],
   "source": [
    "X.head()"
   ]
  },
  {
   "cell_type": "markdown",
   "id": "4d155d35",
   "metadata": {
    "slideshow": {
     "slide_type": "subslide"
    }
   },
   "source": [
    "$Y$ contiene la serie de tiempo de respuesta. Prophet requiere que existan las columnas `ds` e `y`, con las fechas de la serie y el valor de la respuesta, respectivamenente."
   ]
  },
  {
   "cell_type": "code",
   "execution_count": 13,
   "id": "702beb0b",
   "metadata": {
    "slideshow": {
     "slide_type": "fragment"
    }
   },
   "outputs": [
    {
     "data": {
      "text/html": [
       "<pre>✔️ 8.35 ms (2021-10-27T21:27:34/2021-10-27T21:27:34)</pre>"
      ],
      "text/plain": [
       "<IPython.core.display.HTML object>"
      ]
     },
     "metadata": {},
     "output_type": "display_data"
    },
    {
     "data": {
      "text/html": [
       "<div>\n",
       "<style scoped>\n",
       "    .dataframe tbody tr th:only-of-type {\n",
       "        vertical-align: middle;\n",
       "    }\n",
       "\n",
       "    .dataframe tbody tr th {\n",
       "        vertical-align: top;\n",
       "    }\n",
       "\n",
       "    .dataframe thead th {\n",
       "        text-align: right;\n",
       "    }\n",
       "</style>\n",
       "<table border=\"1\" class=\"dataframe\">\n",
       "  <thead>\n",
       "    <tr style=\"text-align: right;\">\n",
       "      <th></th>\n",
       "      <th>y</th>\n",
       "      <th>ds</th>\n",
       "    </tr>\n",
       "  </thead>\n",
       "  <tbody>\n",
       "    <tr>\n",
       "      <th>2021-05-30</th>\n",
       "      <td>86.526903</td>\n",
       "      <td>2021-05-30</td>\n",
       "    </tr>\n",
       "    <tr>\n",
       "      <th>2021-05-31</th>\n",
       "      <td>184.610222</td>\n",
       "      <td>2021-05-31</td>\n",
       "    </tr>\n",
       "    <tr>\n",
       "      <th>2021-06-01</th>\n",
       "      <td>140.184854</td>\n",
       "      <td>2021-06-01</td>\n",
       "    </tr>\n",
       "    <tr>\n",
       "      <th>2021-06-02</th>\n",
       "      <td>142.052834</td>\n",
       "      <td>2021-06-02</td>\n",
       "    </tr>\n",
       "    <tr>\n",
       "      <th>2021-06-03</th>\n",
       "      <td>169.726846</td>\n",
       "      <td>2021-06-03</td>\n",
       "    </tr>\n",
       "  </tbody>\n",
       "</table>\n",
       "</div>"
      ],
      "text/plain": [
       "                     y         ds\n",
       "2021-05-30   86.526903 2021-05-30\n",
       "2021-05-31  184.610222 2021-05-31\n",
       "2021-06-01  140.184854 2021-06-01\n",
       "2021-06-02  142.052834 2021-06-02\n",
       "2021-06-03  169.726846 2021-06-03"
      ]
     },
     "execution_count": 13,
     "metadata": {},
     "output_type": "execute_result"
    }
   ],
   "source": [
    "Y.rename(columns={0: 'y'}, inplace=True)\n",
    "Y['ds'] = Y.index\n",
    "Y.head()"
   ]
  },
  {
   "cell_type": "markdown",
   "id": "0d140dd1",
   "metadata": {
    "slideshow": {
     "slide_type": "subslide"
    }
   },
   "source": [
    "El objeto `slices` contiene los períodos de tratamiento y blackout. En este caso no vamos a utilizar períodos de blackout — podríamos querer eliminar días de lluvia, cybers, etc. — pero Prophet permite imputar automáticamente data faltante, por lo que es perfectamente válido remover (algunos) outliers."
   ]
  },
  {
   "cell_type": "code",
   "execution_count": 15,
   "id": "58878924",
   "metadata": {
    "slideshow": {
     "slide_type": "fragment"
    }
   },
   "outputs": [
    {
     "data": {
      "text/html": [
       "<pre>✔️ 4.73 ms (2021-10-27T21:27:59/2021-10-27T21:27:59)</pre>"
      ],
      "text/plain": [
       "<IPython.core.display.HTML object>"
      ]
     },
     "metadata": {},
     "output_type": "display_data"
    },
    {
     "data": {
      "text/plain": [
       "{'treatment': slice(Timestamp('2021-09-27 00:00:00', freq='D'), Timestamp('2021-10-26 00:00:00', freq='D'), None),\n",
       " 'blackouts': []}"
      ]
     },
     "execution_count": 15,
     "metadata": {},
     "output_type": "execute_result"
    }
   ],
   "source": [
    "treatment_ixs = Y.loc[slices['treatment']].index\n",
    "control_ixs = Y.index.difference(treatment_ixs)\n",
    "slices"
   ]
  },
  {
   "cell_type": "markdown",
   "id": "f1e27682",
   "metadata": {
    "slideshow": {
     "slide_type": "subslide"
    }
   },
   "source": [
    "Visualmente, las series no muestran un claro quiebre en la respuesta $Y$ durante el período de control y tratamiento."
   ]
  },
  {
   "cell_type": "code",
   "execution_count": 17,
   "id": "489996ee",
   "metadata": {
    "slideshow": {
     "slide_type": "fragment"
    }
   },
   "outputs": [
    {
     "data": {
      "text/html": [
       "<pre>✔️ 208 ms (2021-10-27T21:29:00/2021-10-27T21:29:00)</pre>"
      ],
      "text/plain": [
       "<IPython.core.display.HTML object>"
      ]
     },
     "metadata": {},
     "output_type": "display_data"
    },
    {
     "data": {
      "image/png": "[encoded data removed]",
      "text/plain": [
       "<Figure size 864x432 with 1 Axes>"
      ]
     },
     "metadata": {
      "needs_background": "light"
     },
     "output_type": "display_data"
    }
   ],
   "source": [
    "fig, ax = plt.subplots(figsize=(12, 6))\n",
    "ax.plot(Y.loc[control_ixs, 'y'], color='blue', label='control')\n",
    "ax.plot(Y.loc[treatment_ixs, 'y'], color='red', label='treatment')\n",
    "ax.vlines(x=control_ixs[-1],ymin=ax.dataLim.bounds[1],ymax=ax.dataLim.bounds[3],linestyle='--',alpha=0.5)\n",
    "ax.legend();"
   ]
  },
  {
   "cell_type": "markdown",
   "id": "88b0943a",
   "metadata": {
    "slideshow": {
     "slide_type": "slide"
    }
   },
   "source": [
    "### Utilizando Prophet\n",
    "\n",
    "Veamos si logramos encontrar algún tipo de tendencia a través de `fbprophet`. Por ahora, solamente vamos a estar utilizando la serie de tiempo $Y$, apoyándonos en las capacidades de análisis de series de tiempo que `fbprophet` provee.\n",
    "\n",
    "Para datasets pequelos, el proceso es relativamente rápido. Hasta ahora, solamente estaremos aprendiendo los parámetros más probables para nuestras GAMs. Más adelante utilizaremos muestreo sobre los posteriores, tanto para hacer forecasting como para construir intervalos de confianza."
   ]
  },
  {
   "cell_type": "code",
   "execution_count": 18,
   "id": "17d67a28",
   "metadata": {
    "slideshow": {
     "slide_type": "fragment"
    }
   },
   "outputs": [
    {
     "data": {
      "text/html": [
       "<pre>✔️ 1.05 s (2021-10-27T21:29:14/2021-10-27T21:29:15)</pre>"
      ],
      "text/plain": [
       "<IPython.core.display.HTML object>"
      ]
     },
     "metadata": {},
     "output_type": "display_data"
    },
    {
     "name": "stderr",
     "output_type": "stream",
     "text": [
      "INFO:prophet:Disabling yearly seasonality. Run prophet with yearly_seasonality=True to override this.\n",
      "INFO:prophet:Disabling daily seasonality. Run prophet with daily_seasonality=True to override this.\n"
     ]
    },
    {
     "name": "stdout",
     "output_type": "stream",
     "text": [
      "Initial log joint probability = -4.90885\n",
      "    Iter      log prob        ||dx||      ||grad||       alpha      alpha0  # evals  Notes \n",
      "      89       135.394   5.61758e-05       111.687   5.861e-07       0.001      148  LS failed, Hessian reset \n",
      "      99       135.397   2.94919e-06       100.314      0.5832      0.5832      160   \n",
      "    Iter      log prob        ||dx||      ||grad||       alpha      alpha0  # evals  Notes \n",
      "     147       135.398   4.14549e-09       99.3383      0.1798      0.1798      218   \n",
      "Optimization terminated normally: \n",
      "  Convergence detected: absolute parameter change was below tolerance\n"
     ]
    }
   ],
   "source": [
    "mdl = fbprophet.Prophet()\n",
    "mdl.fit(Y.loc[control_ixs, :]);"
   ]
  },
  {
   "cell_type": "markdown",
   "id": "5716b004",
   "metadata": {
    "slideshow": {
     "slide_type": "subslide"
    }
   },
   "source": [
    "Para construir forecasts necesitamos utilizar los métodos `make_future_dataframe` y `predict`."
   ]
  },
  {
   "cell_type": "code",
   "execution_count": 20,
   "id": "b7fd30a3",
   "metadata": {
    "slideshow": {
     "slide_type": "fragment"
    }
   },
   "outputs": [
    {
     "data": {
      "text/html": [
       "<pre>✔️ 10.3 ms (2021-10-27T21:29:35/2021-10-27T21:29:35)</pre>"
      ],
      "text/plain": [
       "<IPython.core.display.HTML object>"
      ]
     },
     "metadata": {},
     "output_type": "display_data"
    },
    {
     "data": {
      "text/html": [
       "<div>\n",
       "<style scoped>\n",
       "    .dataframe tbody tr th:only-of-type {\n",
       "        vertical-align: middle;\n",
       "    }\n",
       "\n",
       "    .dataframe tbody tr th {\n",
       "        vertical-align: top;\n",
       "    }\n",
       "\n",
       "    .dataframe thead th {\n",
       "        text-align: right;\n",
       "    }\n",
       "</style>\n",
       "<table border=\"1\" class=\"dataframe\">\n",
       "  <thead>\n",
       "    <tr style=\"text-align: right;\">\n",
       "      <th></th>\n",
       "      <th>ds</th>\n",
       "    </tr>\n",
       "  </thead>\n",
       "  <tbody>\n",
       "    <tr>\n",
       "      <th>0</th>\n",
       "      <td>2021-05-30</td>\n",
       "    </tr>\n",
       "    <tr>\n",
       "      <th>1</th>\n",
       "      <td>2021-05-31</td>\n",
       "    </tr>\n",
       "    <tr>\n",
       "      <th>2</th>\n",
       "      <td>2021-06-01</td>\n",
       "    </tr>\n",
       "    <tr>\n",
       "      <th>3</th>\n",
       "      <td>2021-06-02</td>\n",
       "    </tr>\n",
       "    <tr>\n",
       "      <th>4</th>\n",
       "      <td>2021-06-03</td>\n",
       "    </tr>\n",
       "    <tr>\n",
       "      <th>...</th>\n",
       "      <td>...</td>\n",
       "    </tr>\n",
       "    <tr>\n",
       "      <th>145</th>\n",
       "      <td>2021-10-22</td>\n",
       "    </tr>\n",
       "    <tr>\n",
       "      <th>146</th>\n",
       "      <td>2021-10-23</td>\n",
       "    </tr>\n",
       "    <tr>\n",
       "      <th>147</th>\n",
       "      <td>2021-10-24</td>\n",
       "    </tr>\n",
       "    <tr>\n",
       "      <th>148</th>\n",
       "      <td>2021-10-25</td>\n",
       "    </tr>\n",
       "    <tr>\n",
       "      <th>149</th>\n",
       "      <td>2021-10-26</td>\n",
       "    </tr>\n",
       "  </tbody>\n",
       "</table>\n",
       "<p>150 rows × 1 columns</p>\n",
       "</div>"
      ],
      "text/plain": [
       "            ds\n",
       "0   2021-05-30\n",
       "1   2021-05-31\n",
       "2   2021-06-01\n",
       "3   2021-06-02\n",
       "4   2021-06-03\n",
       "..         ...\n",
       "145 2021-10-22\n",
       "146 2021-10-23\n",
       "147 2021-10-24\n",
       "148 2021-10-25\n",
       "149 2021-10-26\n",
       "\n",
       "[150 rows x 1 columns]"
      ]
     },
     "execution_count": 20,
     "metadata": {},
     "output_type": "execute_result"
    }
   ],
   "source": [
    "mdl.make_future_dataframe(30)"
   ]
  },
  {
   "cell_type": "code",
   "execution_count": 22,
   "id": "dddc5280",
   "metadata": {
    "slideshow": {
     "slide_type": "subslide"
    }
   },
   "outputs": [
    {
     "data": {
      "text/html": [
       "<pre>✔️ 1.49 s (2021-10-27T21:30:50/2021-10-27T21:30:51)</pre>"
      ],
      "text/plain": [
       "<IPython.core.display.HTML object>"
      ]
     },
     "metadata": {},
     "output_type": "display_data"
    },
    {
     "data": {
      "text/html": [
       "<div>\n",
       "<style scoped>\n",
       "    .dataframe tbody tr th:only-of-type {\n",
       "        vertical-align: middle;\n",
       "    }\n",
       "\n",
       "    .dataframe tbody tr th {\n",
       "        vertical-align: top;\n",
       "    }\n",
       "\n",
       "    .dataframe thead th {\n",
       "        text-align: right;\n",
       "    }\n",
       "</style>\n",
       "<table border=\"1\" class=\"dataframe\">\n",
       "  <thead>\n",
       "    <tr style=\"text-align: right;\">\n",
       "      <th></th>\n",
       "      <th>ds</th>\n",
       "      <th>trend</th>\n",
       "      <th>yhat_lower</th>\n",
       "      <th>yhat_upper</th>\n",
       "      <th>trend_lower</th>\n",
       "      <th>trend_upper</th>\n",
       "      <th>additive_terms</th>\n",
       "      <th>additive_terms_lower</th>\n",
       "      <th>additive_terms_upper</th>\n",
       "      <th>weekly</th>\n",
       "      <th>weekly_lower</th>\n",
       "      <th>weekly_upper</th>\n",
       "      <th>multiplicative_terms</th>\n",
       "      <th>multiplicative_terms_lower</th>\n",
       "      <th>multiplicative_terms_upper</th>\n",
       "      <th>yhat</th>\n",
       "    </tr>\n",
       "    <tr>\n",
       "      <th></th>\n",
       "      <th></th>\n",
       "      <th></th>\n",
       "      <th></th>\n",
       "      <th></th>\n",
       "      <th></th>\n",
       "      <th></th>\n",
       "      <th></th>\n",
       "      <th></th>\n",
       "      <th></th>\n",
       "      <th></th>\n",
       "      <th></th>\n",
       "      <th></th>\n",
       "      <th></th>\n",
       "      <th></th>\n",
       "      <th></th>\n",
       "      <th></th>\n",
       "    </tr>\n",
       "  </thead>\n",
       "  <tbody>\n",
       "    <tr>\n",
       "      <th>2021-05-30</th>\n",
       "      <td>2021-05-30</td>\n",
       "      <td>113.921951</td>\n",
       "      <td>61.973351</td>\n",
       "      <td>182.415839</td>\n",
       "      <td>113.921951</td>\n",
       "      <td>113.921951</td>\n",
       "      <td>10.781218</td>\n",
       "      <td>10.781218</td>\n",
       "      <td>10.781218</td>\n",
       "      <td>10.781218</td>\n",
       "      <td>10.781218</td>\n",
       "      <td>10.781218</td>\n",
       "      <td>0.0</td>\n",
       "      <td>0.0</td>\n",
       "      <td>0.0</td>\n",
       "      <td>124.703169</td>\n",
       "    </tr>\n",
       "    <tr>\n",
       "      <th>2021-05-31</th>\n",
       "      <td>2021-05-31</td>\n",
       "      <td>113.923837</td>\n",
       "      <td>57.464957</td>\n",
       "      <td>167.844966</td>\n",
       "      <td>113.923837</td>\n",
       "      <td>113.923837</td>\n",
       "      <td>2.947621</td>\n",
       "      <td>2.947621</td>\n",
       "      <td>2.947621</td>\n",
       "      <td>2.947621</td>\n",
       "      <td>2.947621</td>\n",
       "      <td>2.947621</td>\n",
       "      <td>0.0</td>\n",
       "      <td>0.0</td>\n",
       "      <td>0.0</td>\n",
       "      <td>116.871458</td>\n",
       "    </tr>\n",
       "    <tr>\n",
       "      <th>2021-06-01</th>\n",
       "      <td>2021-06-01</td>\n",
       "      <td>113.925722</td>\n",
       "      <td>50.944249</td>\n",
       "      <td>171.164566</td>\n",
       "      <td>113.925722</td>\n",
       "      <td>113.925722</td>\n",
       "      <td>-2.571083</td>\n",
       "      <td>-2.571083</td>\n",
       "      <td>-2.571083</td>\n",
       "      <td>-2.571083</td>\n",
       "      <td>-2.571083</td>\n",
       "      <td>-2.571083</td>\n",
       "      <td>0.0</td>\n",
       "      <td>0.0</td>\n",
       "      <td>0.0</td>\n",
       "      <td>111.354640</td>\n",
       "    </tr>\n",
       "    <tr>\n",
       "      <th>2021-06-02</th>\n",
       "      <td>2021-06-02</td>\n",
       "      <td>113.927608</td>\n",
       "      <td>37.294295</td>\n",
       "      <td>159.956290</td>\n",
       "      <td>113.927608</td>\n",
       "      <td>113.927608</td>\n",
       "      <td>-15.325158</td>\n",
       "      <td>-15.325158</td>\n",
       "      <td>-15.325158</td>\n",
       "      <td>-15.325158</td>\n",
       "      <td>-15.325158</td>\n",
       "      <td>-15.325158</td>\n",
       "      <td>0.0</td>\n",
       "      <td>0.0</td>\n",
       "      <td>0.0</td>\n",
       "      <td>98.602450</td>\n",
       "    </tr>\n",
       "    <tr>\n",
       "      <th>2021-06-03</th>\n",
       "      <td>2021-06-03</td>\n",
       "      <td>113.929494</td>\n",
       "      <td>59.738695</td>\n",
       "      <td>173.691226</td>\n",
       "      <td>113.929494</td>\n",
       "      <td>113.929494</td>\n",
       "      <td>1.796573</td>\n",
       "      <td>1.796573</td>\n",
       "      <td>1.796573</td>\n",
       "      <td>1.796573</td>\n",
       "      <td>1.796573</td>\n",
       "      <td>1.796573</td>\n",
       "      <td>0.0</td>\n",
       "      <td>0.0</td>\n",
       "      <td>0.0</td>\n",
       "      <td>115.726067</td>\n",
       "    </tr>\n",
       "    <tr>\n",
       "      <th>...</th>\n",
       "      <td>...</td>\n",
       "      <td>...</td>\n",
       "      <td>...</td>\n",
       "      <td>...</td>\n",
       "      <td>...</td>\n",
       "      <td>...</td>\n",
       "      <td>...</td>\n",
       "      <td>...</td>\n",
       "      <td>...</td>\n",
       "      <td>...</td>\n",
       "      <td>...</td>\n",
       "      <td>...</td>\n",
       "      <td>...</td>\n",
       "      <td>...</td>\n",
       "      <td>...</td>\n",
       "      <td>...</td>\n",
       "    </tr>\n",
       "    <tr>\n",
       "      <th>2021-10-22</th>\n",
       "      <td>2021-10-22</td>\n",
       "      <td>114.176515</td>\n",
       "      <td>67.647147</td>\n",
       "      <td>184.692848</td>\n",
       "      <td>114.176038</td>\n",
       "      <td>114.176988</td>\n",
       "      <td>13.897931</td>\n",
       "      <td>13.897931</td>\n",
       "      <td>13.897931</td>\n",
       "      <td>13.897931</td>\n",
       "      <td>13.897931</td>\n",
       "      <td>13.897931</td>\n",
       "      <td>0.0</td>\n",
       "      <td>0.0</td>\n",
       "      <td>0.0</td>\n",
       "      <td>128.074446</td>\n",
       "    </tr>\n",
       "    <tr>\n",
       "      <th>2021-10-23</th>\n",
       "      <td>2021-10-23</td>\n",
       "      <td>114.178204</td>\n",
       "      <td>49.251863</td>\n",
       "      <td>165.466036</td>\n",
       "      <td>114.177703</td>\n",
       "      <td>114.178702</td>\n",
       "      <td>-11.527102</td>\n",
       "      <td>-11.527102</td>\n",
       "      <td>-11.527102</td>\n",
       "      <td>-11.527102</td>\n",
       "      <td>-11.527102</td>\n",
       "      <td>-11.527102</td>\n",
       "      <td>0.0</td>\n",
       "      <td>0.0</td>\n",
       "      <td>0.0</td>\n",
       "      <td>102.651102</td>\n",
       "    </tr>\n",
       "    <tr>\n",
       "      <th>2021-10-24</th>\n",
       "      <td>2021-10-24</td>\n",
       "      <td>114.179894</td>\n",
       "      <td>69.110921</td>\n",
       "      <td>183.317108</td>\n",
       "      <td>114.179360</td>\n",
       "      <td>114.180405</td>\n",
       "      <td>10.781218</td>\n",
       "      <td>10.781218</td>\n",
       "      <td>10.781218</td>\n",
       "      <td>10.781218</td>\n",
       "      <td>10.781218</td>\n",
       "      <td>10.781218</td>\n",
       "      <td>0.0</td>\n",
       "      <td>0.0</td>\n",
       "      <td>0.0</td>\n",
       "      <td>124.961112</td>\n",
       "    </tr>\n",
       "    <tr>\n",
       "      <th>2021-10-25</th>\n",
       "      <td>2021-10-25</td>\n",
       "      <td>114.181583</td>\n",
       "      <td>57.616720</td>\n",
       "      <td>175.695741</td>\n",
       "      <td>114.181021</td>\n",
       "      <td>114.182134</td>\n",
       "      <td>2.947621</td>\n",
       "      <td>2.947621</td>\n",
       "      <td>2.947621</td>\n",
       "      <td>2.947621</td>\n",
       "      <td>2.947621</td>\n",
       "      <td>2.947621</td>\n",
       "      <td>0.0</td>\n",
       "      <td>0.0</td>\n",
       "      <td>0.0</td>\n",
       "      <td>117.129204</td>\n",
       "    </tr>\n",
       "    <tr>\n",
       "      <th>2021-10-26</th>\n",
       "      <td>2021-10-26</td>\n",
       "      <td>114.183272</td>\n",
       "      <td>55.360867</td>\n",
       "      <td>170.667655</td>\n",
       "      <td>114.182681</td>\n",
       "      <td>114.183837</td>\n",
       "      <td>-2.571083</td>\n",
       "      <td>-2.571083</td>\n",
       "      <td>-2.571083</td>\n",
       "      <td>-2.571083</td>\n",
       "      <td>-2.571083</td>\n",
       "      <td>-2.571083</td>\n",
       "      <td>0.0</td>\n",
       "      <td>0.0</td>\n",
       "      <td>0.0</td>\n",
       "      <td>111.612189</td>\n",
       "    </tr>\n",
       "  </tbody>\n",
       "</table>\n",
       "<p>150 rows × 16 columns</p>\n",
       "</div>"
      ],
      "text/plain": [
       "                   ds       trend  yhat_lower  yhat_upper  trend_lower  \\\n",
       "                                                                         \n",
       "2021-05-30 2021-05-30  113.921951   61.973351  182.415839   113.921951   \n",
       "2021-05-31 2021-05-31  113.923837   57.464957  167.844966   113.923837   \n",
       "2021-06-01 2021-06-01  113.925722   50.944249  171.164566   113.925722   \n",
       "2021-06-02 2021-06-02  113.927608   37.294295  159.956290   113.927608   \n",
       "2021-06-03 2021-06-03  113.929494   59.738695  173.691226   113.929494   \n",
       "...               ...         ...         ...         ...          ...   \n",
       "2021-10-22 2021-10-22  114.176515   67.647147  184.692848   114.176038   \n",
       "2021-10-23 2021-10-23  114.178204   49.251863  165.466036   114.177703   \n",
       "2021-10-24 2021-10-24  114.179894   69.110921  183.317108   114.179360   \n",
       "2021-10-25 2021-10-25  114.181583   57.616720  175.695741   114.181021   \n",
       "2021-10-26 2021-10-26  114.183272   55.360867  170.667655   114.182681   \n",
       "\n",
       "            trend_upper  additive_terms  additive_terms_lower  \\\n",
       "                                                                \n",
       "2021-05-30   113.921951       10.781218             10.781218   \n",
       "2021-05-31   113.923837        2.947621              2.947621   \n",
       "2021-06-01   113.925722       -2.571083             -2.571083   \n",
       "2021-06-02   113.927608      -15.325158            -15.325158   \n",
       "2021-06-03   113.929494        1.796573              1.796573   \n",
       "...                 ...             ...                   ...   \n",
       "2021-10-22   114.176988       13.897931             13.897931   \n",
       "2021-10-23   114.178702      -11.527102            -11.527102   \n",
       "2021-10-24   114.180405       10.781218             10.781218   \n",
       "2021-10-25   114.182134        2.947621              2.947621   \n",
       "2021-10-26   114.183837       -2.571083             -2.571083   \n",
       "\n",
       "            additive_terms_upper     weekly  weekly_lower  weekly_upper  \\\n",
       "                                                                          \n",
       "2021-05-30             10.781218  10.781218     10.781218     10.781218   \n",
       "2021-05-31              2.947621   2.947621      2.947621      2.947621   \n",
       "2021-06-01             -2.571083  -2.571083     -2.571083     -2.571083   \n",
       "2021-06-02            -15.325158 -15.325158    -15.325158    -15.325158   \n",
       "2021-06-03              1.796573   1.796573      1.796573      1.796573   \n",
       "...                          ...        ...           ...           ...   \n",
       "2021-10-22             13.897931  13.897931     13.897931     13.897931   \n",
       "2021-10-23            -11.527102 -11.527102    -11.527102    -11.527102   \n",
       "2021-10-24             10.781218  10.781218     10.781218     10.781218   \n",
       "2021-10-25              2.947621   2.947621      2.947621      2.947621   \n",
       "2021-10-26             -2.571083  -2.571083     -2.571083     -2.571083   \n",
       "\n",
       "            multiplicative_terms  multiplicative_terms_lower  \\\n",
       "                                                               \n",
       "2021-05-30                   0.0                         0.0   \n",
       "2021-05-31                   0.0                         0.0   \n",
       "2021-06-01                   0.0                         0.0   \n",
       "2021-06-02                   0.0                         0.0   \n",
       "2021-06-03                   0.0                         0.0   \n",
       "...                          ...                         ...   \n",
       "2021-10-22                   0.0                         0.0   \n",
       "2021-10-23                   0.0                         0.0   \n",
       "2021-10-24                   0.0                         0.0   \n",
       "2021-10-25                   0.0                         0.0   \n",
       "2021-10-26                   0.0                         0.0   \n",
       "\n",
       "            multiplicative_terms_upper        yhat  \n",
       "                                                    \n",
       "2021-05-30                         0.0  124.703169  \n",
       "2021-05-31                         0.0  116.871458  \n",
       "2021-06-01                         0.0  111.354640  \n",
       "2021-06-02                         0.0   98.602450  \n",
       "2021-06-03                         0.0  115.726067  \n",
       "...                                ...         ...  \n",
       "2021-10-22                         0.0  128.074446  \n",
       "2021-10-23                         0.0  102.651102  \n",
       "2021-10-24                         0.0  124.961112  \n",
       "2021-10-25                         0.0  117.129204  \n",
       "2021-10-26                         0.0  111.612189  \n",
       "\n",
       "[150 rows x 16 columns]"
      ]
     },
     "execution_count": 22,
     "metadata": {},
     "output_type": "execute_result"
    }
   ],
   "source": [
    "_ = mdl.make_future_dataframe(30)\n",
    "forecast = mdl.predict(_)\n",
    "forecast.index = pd.DatetimeIndex(forecast['ds'], name='')\n",
    "forecast"
   ]
  },
  {
   "cell_type": "markdown",
   "id": "9ae196c9",
   "metadata": {
    "slideshow": {
     "slide_type": "subslide"
    }
   },
   "source": [
    "Los forecasts no son muy buenos. Definitivamente algo falta."
   ]
  },
  {
   "cell_type": "code",
   "execution_count": 23,
   "id": "2fd03968",
   "metadata": {
    "slideshow": {
     "slide_type": "fragment"
    }
   },
   "outputs": [
    {
     "data": {
      "text/html": [
       "<pre>✔️ 218 ms (2021-10-27T21:30:56/2021-10-27T21:30:56)</pre>"
      ],
      "text/plain": [
       "<IPython.core.display.HTML object>"
      ]
     },
     "metadata": {},
     "output_type": "display_data"
    },
    {
     "data": {
      "image/png": "[encoded data removed]",
      "text/plain": [
       "<Figure size 864x432 with 1 Axes>"
      ]
     },
     "metadata": {
      "needs_background": "light"
     },
     "output_type": "display_data"
    }
   ],
   "source": [
    "fig, ax = plt.subplots(figsize=(12, 6))\n",
    "ax.plot(Y.loc[control_ixs, 'y'], color='blue', label='control', alpha=0.3)\n",
    "ax.plot(Y.loc[treatment_ixs, 'y'], color='red', label='treatment', alpha=0.3)\n",
    "ax.vlines(x=control_ixs[-1], ymin=ax.dataLim.bounds[1], ymax=ax.dataLim.bounds[3], linestyle='--', alpha=0.5)\n",
    "ax.plot(forecast.yhat, color='green', label='forecast')\n",
    "ax.legend();"
   ]
  },
  {
   "cell_type": "markdown",
   "id": "e64f4008",
   "metadata": {
    "slideshow": {
     "slide_type": "slide"
    }
   },
   "source": [
    "### Agreguemos controles\n",
    "\n",
    "¡Los controles son informativos! Si los agregamos, vamos a mejorar nuestra capacidad de capturar efectos exógenos, que solamente agregan variabilidad no capturada a nuestra serie $Y$.\n",
    "\n",
    "Entrenemos un segundo modelo, esta vez incluyendo todos los controles como regresores adicionales. Necesitaremos utilizar el método `add_regressor`, además de entregar los valores para cada uno de estos controles al momento de generar forecasts con `predict`."
   ]
  },
  {
   "cell_type": "code",
   "execution_count": 24,
   "id": "35897b0e",
   "metadata": {
    "slideshow": {
     "slide_type": "subslide"
    }
   },
   "outputs": [
    {
     "data": {
      "text/html": [
       "<pre>✔️ 23.2 ms (2021-10-27T21:31:21/2021-10-27T21:31:21)</pre>"
      ],
      "text/plain": [
       "<IPython.core.display.HTML object>"
      ]
     },
     "metadata": {},
     "output_type": "display_data"
    },
    {
     "data": {
      "text/html": [
       "<div>\n",
       "<style scoped>\n",
       "    .dataframe tbody tr th:only-of-type {\n",
       "        vertical-align: middle;\n",
       "    }\n",
       "\n",
       "    .dataframe tbody tr th {\n",
       "        vertical-align: top;\n",
       "    }\n",
       "\n",
       "    .dataframe thead th {\n",
       "        text-align: right;\n",
       "    }\n",
       "</style>\n",
       "<table border=\"1\" class=\"dataframe\">\n",
       "  <thead>\n",
       "    <tr style=\"text-align: right;\">\n",
       "      <th></th>\n",
       "      <th>x0</th>\n",
       "      <th>x1</th>\n",
       "      <th>x2</th>\n",
       "      <th>x3</th>\n",
       "      <th>x4</th>\n",
       "      <th>x5</th>\n",
       "      <th>x6</th>\n",
       "      <th>x7</th>\n",
       "      <th>x8</th>\n",
       "      <th>x9</th>\n",
       "      <th>x10</th>\n",
       "      <th>x11</th>\n",
       "      <th>x12</th>\n",
       "      <th>x13</th>\n",
       "      <th>x14</th>\n",
       "      <th>x15</th>\n",
       "      <th>x16</th>\n",
       "      <th>x17</th>\n",
       "      <th>x18</th>\n",
       "      <th>x19</th>\n",
       "    </tr>\n",
       "  </thead>\n",
       "  <tbody>\n",
       "    <tr>\n",
       "      <th>2021-05-30</th>\n",
       "      <td>-8.544111</td>\n",
       "      <td>15.648429</td>\n",
       "      <td>-7.121805</td>\n",
       "      <td>16.443887</td>\n",
       "      <td>4.601226</td>\n",
       "      <td>-0.108324</td>\n",
       "      <td>-6.341720</td>\n",
       "      <td>-7.470710</td>\n",
       "      <td>-28.587414</td>\n",
       "      <td>6.006472</td>\n",
       "      <td>7.569650</td>\n",
       "      <td>3.316353</td>\n",
       "      <td>3.721769</td>\n",
       "      <td>15.509269</td>\n",
       "      <td>-0.201731</td>\n",
       "      <td>1.348539</td>\n",
       "      <td>8.967389</td>\n",
       "      <td>13.881873</td>\n",
       "      <td>-2.938492</td>\n",
       "      <td>3.378491</td>\n",
       "    </tr>\n",
       "    <tr>\n",
       "      <th>2021-05-31</th>\n",
       "      <td>-7.447693</td>\n",
       "      <td>1.904122</td>\n",
       "      <td>-11.376288</td>\n",
       "      <td>16.621413</td>\n",
       "      <td>-0.279264</td>\n",
       "      <td>9.856329</td>\n",
       "      <td>-12.465589</td>\n",
       "      <td>34.238972</td>\n",
       "      <td>28.427218</td>\n",
       "      <td>6.417384</td>\n",
       "      <td>7.122696</td>\n",
       "      <td>5.095405</td>\n",
       "      <td>-5.559460</td>\n",
       "      <td>8.098105</td>\n",
       "      <td>34.830585</td>\n",
       "      <td>-0.116241</td>\n",
       "      <td>14.729300</td>\n",
       "      <td>-1.286926</td>\n",
       "      <td>-0.755297</td>\n",
       "      <td>0.636300</td>\n",
       "    </tr>\n",
       "    <tr>\n",
       "      <th>2021-06-01</th>\n",
       "      <td>-1.469995</td>\n",
       "      <td>1.750055</td>\n",
       "      <td>-10.020635</td>\n",
       "      <td>16.269278</td>\n",
       "      <td>2.658967</td>\n",
       "      <td>6.491619</td>\n",
       "      <td>-14.727704</td>\n",
       "      <td>4.143352</td>\n",
       "      <td>-6.004030</td>\n",
       "      <td>10.686000</td>\n",
       "      <td>5.237442</td>\n",
       "      <td>10.902914</td>\n",
       "      <td>-1.668595</td>\n",
       "      <td>16.479214</td>\n",
       "      <td>26.716832</td>\n",
       "      <td>0.911240</td>\n",
       "      <td>14.443813</td>\n",
       "      <td>23.113580</td>\n",
       "      <td>-3.792967</td>\n",
       "      <td>4.608560</td>\n",
       "    </tr>\n",
       "    <tr>\n",
       "      <th>2021-06-02</th>\n",
       "      <td>7.099451</td>\n",
       "      <td>-17.733669</td>\n",
       "      <td>-14.181534</td>\n",
       "      <td>17.412150</td>\n",
       "      <td>12.358673</td>\n",
       "      <td>8.569656</td>\n",
       "      <td>-14.651859</td>\n",
       "      <td>6.710788</td>\n",
       "      <td>33.175375</td>\n",
       "      <td>9.167945</td>\n",
       "      <td>14.449084</td>\n",
       "      <td>-5.994485</td>\n",
       "      <td>0.338628</td>\n",
       "      <td>7.971604</td>\n",
       "      <td>21.937071</td>\n",
       "      <td>2.616061</td>\n",
       "      <td>11.467972</td>\n",
       "      <td>-4.584749</td>\n",
       "      <td>-7.731492</td>\n",
       "      <td>7.555510</td>\n",
       "    </tr>\n",
       "    <tr>\n",
       "      <th>2021-06-03</th>\n",
       "      <td>-18.229799</td>\n",
       "      <td>18.968659</td>\n",
       "      <td>-8.903114</td>\n",
       "      <td>17.797786</td>\n",
       "      <td>8.675661</td>\n",
       "      <td>-1.248070</td>\n",
       "      <td>-9.706767</td>\n",
       "      <td>27.720573</td>\n",
       "      <td>2.765875</td>\n",
       "      <td>5.773219</td>\n",
       "      <td>8.050140</td>\n",
       "      <td>2.438925</td>\n",
       "      <td>4.497304</td>\n",
       "      <td>9.541865</td>\n",
       "      <td>29.845215</td>\n",
       "      <td>-0.329158</td>\n",
       "      <td>10.219502</td>\n",
       "      <td>7.205322</td>\n",
       "      <td>-6.023020</td>\n",
       "      <td>-4.991733</td>\n",
       "    </tr>\n",
       "  </tbody>\n",
       "</table>\n",
       "</div>"
      ],
      "text/plain": [
       "                   x0         x1         x2         x3         x4        x5  \\\n",
       "2021-05-30  -8.544111  15.648429  -7.121805  16.443887   4.601226 -0.108324   \n",
       "2021-05-31  -7.447693   1.904122 -11.376288  16.621413  -0.279264  9.856329   \n",
       "2021-06-01  -1.469995   1.750055 -10.020635  16.269278   2.658967  6.491619   \n",
       "2021-06-02   7.099451 -17.733669 -14.181534  17.412150  12.358673  8.569656   \n",
       "2021-06-03 -18.229799  18.968659  -8.903114  17.797786   8.675661 -1.248070   \n",
       "\n",
       "                   x6         x7         x8         x9        x10        x11  \\\n",
       "2021-05-30  -6.341720  -7.470710 -28.587414   6.006472   7.569650   3.316353   \n",
       "2021-05-31 -12.465589  34.238972  28.427218   6.417384   7.122696   5.095405   \n",
       "2021-06-01 -14.727704   4.143352  -6.004030  10.686000   5.237442  10.902914   \n",
       "2021-06-02 -14.651859   6.710788  33.175375   9.167945  14.449084  -5.994485   \n",
       "2021-06-03  -9.706767  27.720573   2.765875   5.773219   8.050140   2.438925   \n",
       "\n",
       "                 x12        x13        x14       x15        x16        x17  \\\n",
       "2021-05-30  3.721769  15.509269  -0.201731  1.348539   8.967389  13.881873   \n",
       "2021-05-31 -5.559460   8.098105  34.830585 -0.116241  14.729300  -1.286926   \n",
       "2021-06-01 -1.668595  16.479214  26.716832  0.911240  14.443813  23.113580   \n",
       "2021-06-02  0.338628   7.971604  21.937071  2.616061  11.467972  -4.584749   \n",
       "2021-06-03  4.497304   9.541865  29.845215 -0.329158  10.219502   7.205322   \n",
       "\n",
       "                 x18       x19  \n",
       "2021-05-30 -2.938492  3.378491  \n",
       "2021-05-31 -0.755297  0.636300  \n",
       "2021-06-01 -3.792967  4.608560  \n",
       "2021-06-02 -7.731492  7.555510  \n",
       "2021-06-03 -6.023020 -4.991733  "
      ]
     },
     "execution_count": 24,
     "metadata": {},
     "output_type": "execute_result"
    }
   ],
   "source": [
    "X.rename(columns={\n",
    "    c: 'x{}'.format(c) for c in X.columns\n",
    "}, inplace=True)\n",
    "X.head()"
   ]
  },
  {
   "cell_type": "code",
   "execution_count": 26,
   "id": "ae6160f6",
   "metadata": {
    "slideshow": {
     "slide_type": "subslide"
    }
   },
   "outputs": [
    {
     "data": {
      "text/html": [
       "<pre>✔️ 7.23 ms (2021-10-27T21:31:51/2021-10-27T21:31:51)</pre>"
      ],
      "text/plain": [
       "<IPython.core.display.HTML object>"
      ]
     },
     "metadata": {},
     "output_type": "display_data"
    }
   ],
   "source": [
    "mdl2 = fbprophet.Prophet()\n",
    "[\n",
    "    mdl2.add_regressor(name=c) for c in X.columns\n",
    "];"
   ]
  },
  {
   "cell_type": "markdown",
   "id": "ad89d638",
   "metadata": {
    "slideshow": {
     "slide_type": "subslide"
    }
   },
   "source": [
    "Para hacer las cosas más sencillas, creemos un único dataframe que contenga tanto la serie de respuesta como los controles, además de la columna `ds`, requerida por Prophet."
   ]
  },
  {
   "cell_type": "code",
   "execution_count": 28,
   "id": "8d7dd20c",
   "metadata": {
    "slideshow": {
     "slide_type": "fragment"
    }
   },
   "outputs": [
    {
     "data": {
      "text/html": [
       "<pre>✔️ 25.9 ms (2021-10-27T21:32:06/2021-10-27T21:32:06)</pre>"
      ],
      "text/plain": [
       "<IPython.core.display.HTML object>"
      ]
     },
     "metadata": {},
     "output_type": "display_data"
    },
    {
     "data": {
      "text/html": [
       "<div>\n",
       "<style scoped>\n",
       "    .dataframe tbody tr th:only-of-type {\n",
       "        vertical-align: middle;\n",
       "    }\n",
       "\n",
       "    .dataframe tbody tr th {\n",
       "        vertical-align: top;\n",
       "    }\n",
       "\n",
       "    .dataframe thead th {\n",
       "        text-align: right;\n",
       "    }\n",
       "</style>\n",
       "<table border=\"1\" class=\"dataframe\">\n",
       "  <thead>\n",
       "    <tr style=\"text-align: right;\">\n",
       "      <th></th>\n",
       "      <th>x0</th>\n",
       "      <th>x1</th>\n",
       "      <th>x2</th>\n",
       "      <th>x3</th>\n",
       "      <th>x4</th>\n",
       "      <th>x5</th>\n",
       "      <th>x6</th>\n",
       "      <th>x7</th>\n",
       "      <th>x8</th>\n",
       "      <th>x9</th>\n",
       "      <th>...</th>\n",
       "      <th>x12</th>\n",
       "      <th>x13</th>\n",
       "      <th>x14</th>\n",
       "      <th>x15</th>\n",
       "      <th>x16</th>\n",
       "      <th>x17</th>\n",
       "      <th>x18</th>\n",
       "      <th>x19</th>\n",
       "      <th>y</th>\n",
       "      <th>ds</th>\n",
       "    </tr>\n",
       "  </thead>\n",
       "  <tbody>\n",
       "    <tr>\n",
       "      <th>2021-05-30</th>\n",
       "      <td>-8.544111</td>\n",
       "      <td>15.648429</td>\n",
       "      <td>-7.121805</td>\n",
       "      <td>16.443887</td>\n",
       "      <td>4.601226</td>\n",
       "      <td>-0.108324</td>\n",
       "      <td>-6.341720</td>\n",
       "      <td>-7.470710</td>\n",
       "      <td>-28.587414</td>\n",
       "      <td>6.006472</td>\n",
       "      <td>...</td>\n",
       "      <td>3.721769</td>\n",
       "      <td>15.509269</td>\n",
       "      <td>-0.201731</td>\n",
       "      <td>1.348539</td>\n",
       "      <td>8.967389</td>\n",
       "      <td>13.881873</td>\n",
       "      <td>-2.938492</td>\n",
       "      <td>3.378491</td>\n",
       "      <td>86.526903</td>\n",
       "      <td>2021-05-30</td>\n",
       "    </tr>\n",
       "    <tr>\n",
       "      <th>2021-05-31</th>\n",
       "      <td>-7.447693</td>\n",
       "      <td>1.904122</td>\n",
       "      <td>-11.376288</td>\n",
       "      <td>16.621413</td>\n",
       "      <td>-0.279264</td>\n",
       "      <td>9.856329</td>\n",
       "      <td>-12.465589</td>\n",
       "      <td>34.238972</td>\n",
       "      <td>28.427218</td>\n",
       "      <td>6.417384</td>\n",
       "      <td>...</td>\n",
       "      <td>-5.559460</td>\n",
       "      <td>8.098105</td>\n",
       "      <td>34.830585</td>\n",
       "      <td>-0.116241</td>\n",
       "      <td>14.729300</td>\n",
       "      <td>-1.286926</td>\n",
       "      <td>-0.755297</td>\n",
       "      <td>0.636300</td>\n",
       "      <td>184.610222</td>\n",
       "      <td>2021-05-31</td>\n",
       "    </tr>\n",
       "    <tr>\n",
       "      <th>2021-06-01</th>\n",
       "      <td>-1.469995</td>\n",
       "      <td>1.750055</td>\n",
       "      <td>-10.020635</td>\n",
       "      <td>16.269278</td>\n",
       "      <td>2.658967</td>\n",
       "      <td>6.491619</td>\n",
       "      <td>-14.727704</td>\n",
       "      <td>4.143352</td>\n",
       "      <td>-6.004030</td>\n",
       "      <td>10.686000</td>\n",
       "      <td>...</td>\n",
       "      <td>-1.668595</td>\n",
       "      <td>16.479214</td>\n",
       "      <td>26.716832</td>\n",
       "      <td>0.911240</td>\n",
       "      <td>14.443813</td>\n",
       "      <td>23.113580</td>\n",
       "      <td>-3.792967</td>\n",
       "      <td>4.608560</td>\n",
       "      <td>140.184854</td>\n",
       "      <td>2021-06-01</td>\n",
       "    </tr>\n",
       "    <tr>\n",
       "      <th>2021-06-02</th>\n",
       "      <td>7.099451</td>\n",
       "      <td>-17.733669</td>\n",
       "      <td>-14.181534</td>\n",
       "      <td>17.412150</td>\n",
       "      <td>12.358673</td>\n",
       "      <td>8.569656</td>\n",
       "      <td>-14.651859</td>\n",
       "      <td>6.710788</td>\n",
       "      <td>33.175375</td>\n",
       "      <td>9.167945</td>\n",
       "      <td>...</td>\n",
       "      <td>0.338628</td>\n",
       "      <td>7.971604</td>\n",
       "      <td>21.937071</td>\n",
       "      <td>2.616061</td>\n",
       "      <td>11.467972</td>\n",
       "      <td>-4.584749</td>\n",
       "      <td>-7.731492</td>\n",
       "      <td>7.555510</td>\n",
       "      <td>142.052834</td>\n",
       "      <td>2021-06-02</td>\n",
       "    </tr>\n",
       "    <tr>\n",
       "      <th>2021-06-03</th>\n",
       "      <td>-18.229799</td>\n",
       "      <td>18.968659</td>\n",
       "      <td>-8.903114</td>\n",
       "      <td>17.797786</td>\n",
       "      <td>8.675661</td>\n",
       "      <td>-1.248070</td>\n",
       "      <td>-9.706767</td>\n",
       "      <td>27.720573</td>\n",
       "      <td>2.765875</td>\n",
       "      <td>5.773219</td>\n",
       "      <td>...</td>\n",
       "      <td>4.497304</td>\n",
       "      <td>9.541865</td>\n",
       "      <td>29.845215</td>\n",
       "      <td>-0.329158</td>\n",
       "      <td>10.219502</td>\n",
       "      <td>7.205322</td>\n",
       "      <td>-6.023020</td>\n",
       "      <td>-4.991733</td>\n",
       "      <td>169.726846</td>\n",
       "      <td>2021-06-03</td>\n",
       "    </tr>\n",
       "  </tbody>\n",
       "</table>\n",
       "<p>5 rows × 22 columns</p>\n",
       "</div>"
      ],
      "text/plain": [
       "                   x0         x1         x2         x3         x4        x5  \\\n",
       "2021-05-30  -8.544111  15.648429  -7.121805  16.443887   4.601226 -0.108324   \n",
       "2021-05-31  -7.447693   1.904122 -11.376288  16.621413  -0.279264  9.856329   \n",
       "2021-06-01  -1.469995   1.750055 -10.020635  16.269278   2.658967  6.491619   \n",
       "2021-06-02   7.099451 -17.733669 -14.181534  17.412150  12.358673  8.569656   \n",
       "2021-06-03 -18.229799  18.968659  -8.903114  17.797786   8.675661 -1.248070   \n",
       "\n",
       "                   x6         x7         x8         x9  ...       x12  \\\n",
       "2021-05-30  -6.341720  -7.470710 -28.587414   6.006472  ...  3.721769   \n",
       "2021-05-31 -12.465589  34.238972  28.427218   6.417384  ... -5.559460   \n",
       "2021-06-01 -14.727704   4.143352  -6.004030  10.686000  ... -1.668595   \n",
       "2021-06-02 -14.651859   6.710788  33.175375   9.167945  ...  0.338628   \n",
       "2021-06-03  -9.706767  27.720573   2.765875   5.773219  ...  4.497304   \n",
       "\n",
       "                  x13        x14       x15        x16        x17       x18  \\\n",
       "2021-05-30  15.509269  -0.201731  1.348539   8.967389  13.881873 -2.938492   \n",
       "2021-05-31   8.098105  34.830585 -0.116241  14.729300  -1.286926 -0.755297   \n",
       "2021-06-01  16.479214  26.716832  0.911240  14.443813  23.113580 -3.792967   \n",
       "2021-06-02   7.971604  21.937071  2.616061  11.467972  -4.584749 -7.731492   \n",
       "2021-06-03   9.541865  29.845215 -0.329158  10.219502   7.205322 -6.023020   \n",
       "\n",
       "                 x19           y         ds  \n",
       "2021-05-30  3.378491   86.526903 2021-05-30  \n",
       "2021-05-31  0.636300  184.610222 2021-05-31  \n",
       "2021-06-01  4.608560  140.184854 2021-06-01  \n",
       "2021-06-02  7.555510  142.052834 2021-06-02  \n",
       "2021-06-03 -4.991733  169.726846 2021-06-03  \n",
       "\n",
       "[5 rows x 22 columns]"
      ]
     },
     "execution_count": 28,
     "metadata": {},
     "output_type": "execute_result"
    }
   ],
   "source": [
    "XY = pd.concat([X, Y], axis=1, ignore_index=False)\n",
    "XY.head()"
   ]
  },
  {
   "cell_type": "markdown",
   "id": "69087ecf",
   "metadata": {
    "slideshow": {
     "slide_type": "subslide"
    }
   },
   "source": [
    "Entrenemos el nuevo modelo."
   ]
  },
  {
   "cell_type": "code",
   "execution_count": 29,
   "id": "1270adec",
   "metadata": {
    "slideshow": {
     "slide_type": "fragment"
    }
   },
   "outputs": [
    {
     "data": {
      "text/html": [
       "<pre>✔️ 692 ms (2021-10-27T21:32:10/2021-10-27T21:32:11)</pre>"
      ],
      "text/plain": [
       "<IPython.core.display.HTML object>"
      ]
     },
     "metadata": {},
     "output_type": "display_data"
    },
    {
     "name": "stderr",
     "output_type": "stream",
     "text": [
      "INFO:prophet:Disabling yearly seasonality. Run prophet with yearly_seasonality=True to override this.\n",
      "INFO:prophet:Disabling daily seasonality. Run prophet with daily_seasonality=True to override this.\n"
     ]
    },
    {
     "name": "stdout",
     "output_type": "stream",
     "text": [
      "Initial log joint probability = -4.90885\n",
      "    Iter      log prob        ||dx||      ||grad||       alpha      alpha0  # evals  Notes \n",
      "      99       744.466    0.00115268       2033.64           1           1      113   \n",
      "    Iter      log prob        ||dx||      ||grad||       alpha      alpha0  # evals  Notes \n",
      "     199       756.032    0.00549589       3700.11           1           1      217   \n",
      "    Iter      log prob        ||dx||      ||grad||       alpha      alpha0  # evals  Notes \n",
      "     299       768.691   3.15865e-05       561.601      0.9835      0.9835      328   \n",
      "    Iter      log prob        ||dx||      ||grad||       alpha      alpha0  # evals  Notes \n",
      "     399        780.47   0.000579492        697.11           1           1      434   \n",
      "    Iter      log prob        ||dx||      ||grad||       alpha      alpha0  # evals  Notes \n",
      "     499       788.157   0.000358259       1552.16           1           1      543   \n",
      "    Iter      log prob        ||dx||      ||grad||       alpha      alpha0  # evals  Notes \n",
      "     599        797.24    0.00034356       1261.77           1           1      651   \n",
      "    Iter      log prob        ||dx||      ||grad||       alpha      alpha0  # evals  Notes \n",
      "     699       801.156   0.000179075       611.407           1           1      756   \n",
      "    Iter      log prob        ||dx||      ||grad||       alpha      alpha0  # evals  Notes \n",
      "     799       808.123   0.000656752       1476.61      0.9611      0.9611      861   \n",
      "    Iter      log prob        ||dx||      ||grad||       alpha      alpha0  # evals  Notes \n",
      "     899       822.713   0.000538389       4253.62           1           1      964   \n",
      "    Iter      log prob        ||dx||      ||grad||       alpha      alpha0  # evals  Notes \n",
      "     999       828.837   0.000177096       1764.49      0.3537       0.841     1072   \n",
      "    Iter      log prob        ||dx||      ||grad||       alpha      alpha0  # evals  Notes \n",
      "    1099        831.14   0.000220013       1689.39      0.1883           1     1181   \n",
      "    Iter      log prob        ||dx||      ||grad||       alpha      alpha0  # evals  Notes \n",
      "    1199       834.075   1.99721e-05       812.498      0.3213      0.3213     1288   \n",
      "    Iter      log prob        ||dx||      ||grad||       alpha      alpha0  # evals  Notes \n",
      "    1299        838.52   3.05278e-05       553.263           1           1     1392   \n",
      "    Iter      log prob        ||dx||      ||grad||       alpha      alpha0  # evals  Notes \n",
      "    1399       842.365   0.000388869       1837.28      0.8451      0.8451     1494   \n",
      "    Iter      log prob        ||dx||      ||grad||       alpha      alpha0  # evals  Notes \n",
      "    1499       851.104   5.93396e-05       2428.63           1           1     1602   \n",
      "    Iter      log prob        ||dx||      ||grad||       alpha      alpha0  # evals  Notes \n",
      "    1599       856.152   8.72206e-05       1070.14      0.8027      0.8027     1707   \n",
      "    Iter      log prob        ||dx||      ||grad||       alpha      alpha0  # evals  Notes \n",
      "    1699        858.16   4.59885e-05       987.481      0.3239           1     1815   \n",
      "    Iter      log prob        ||dx||      ||grad||       alpha      alpha0  # evals  Notes \n",
      "    1799       862.133    0.00225786       9667.74           1           1     1925   \n",
      "    Iter      log prob        ||dx||      ||grad||       alpha      alpha0  # evals  Notes \n",
      "    1899       864.397   3.27425e-05       1304.93      0.8266      0.8266     2031   \n",
      "    Iter      log prob        ||dx||      ||grad||       alpha      alpha0  # evals  Notes \n",
      "    1999       865.925   0.000111623       4869.21      0.2437      0.2437     2141   \n",
      "    Iter      log prob        ||dx||      ||grad||       alpha      alpha0  # evals  Notes \n",
      "    2099       866.917   3.25131e-05       378.977      0.9804      0.9804     2247   \n",
      "    Iter      log prob        ||dx||      ||grad||       alpha      alpha0  # evals  Notes \n",
      "    2199       867.769   1.30788e-05       821.895      0.7259      0.7259     2353   \n",
      "    Iter      log prob        ||dx||      ||grad||       alpha      alpha0  # evals  Notes \n",
      "    2299       885.633    0.00238784       16345.1           1           1     2457   \n",
      "    Iter      log prob        ||dx||      ||grad||       alpha      alpha0  # evals  Notes \n",
      "    2399       895.442   2.42574e-05       3472.29      0.6142      0.6142     2561   \n",
      "    Iter      log prob        ||dx||      ||grad||       alpha      alpha0  # evals  Notes \n",
      "    2499       901.823   3.30336e-05       2710.24           1           1     2667   \n",
      "    Iter      log prob        ||dx||      ||grad||       alpha      alpha0  # evals  Notes \n",
      "    2599         907.2   0.000559268       3772.85           1           1     2776   \n",
      "    Iter      log prob        ||dx||      ||grad||       alpha      alpha0  # evals  Notes \n",
      "    2699       911.727   0.000111179       1599.94           1           1     2882   \n",
      "    Iter      log prob        ||dx||      ||grad||       alpha      alpha0  # evals  Notes \n",
      "    2799       914.483   0.000101227       2299.25           1           1     2985   \n",
      "    Iter      log prob        ||dx||      ||grad||       alpha      alpha0  # evals  Notes \n",
      "    2899       915.133    5.1089e-05       1519.21           1           1     3087   \n",
      "    Iter      log prob        ||dx||      ||grad||       alpha      alpha0  # evals  Notes \n",
      "    2999       915.818   1.31158e-05       604.251           1           1     3194   \n",
      "    Iter      log prob        ||dx||      ||grad||       alpha      alpha0  # evals  Notes \n",
      "    3099       917.426   9.62087e-05       1876.49           1           1     3302   \n",
      "    Iter      log prob        ||dx||      ||grad||       alpha      alpha0  # evals  Notes \n",
      "    3199       922.311   3.41189e-05       744.046           1           1     3411   \n",
      "    Iter      log prob        ||dx||      ||grad||       alpha      alpha0  # evals  Notes \n",
      "    3299       925.505    0.00023898       12969.5           1           1     3520   \n",
      "    Iter      log prob        ||dx||      ||grad||       alpha      alpha0  # evals  Notes \n",
      "    3399       928.265   4.32589e-06       747.398           1           1     3625   \n",
      "    Iter      log prob        ||dx||      ||grad||       alpha      alpha0  # evals  Notes \n",
      "    3499       929.041    0.00011722       1650.38           1           1     3732   \n",
      "    Iter      log prob        ||dx||      ||grad||       alpha      alpha0  # evals  Notes \n",
      "    3599       929.595   2.64338e-05        3248.2           1           1     3835   \n",
      "    Iter      log prob        ||dx||      ||grad||       alpha      alpha0  # evals  Notes \n",
      "    3699       931.263   6.75288e-05       989.611           1           1     3941   \n",
      "    Iter      log prob        ||dx||      ||grad||       alpha      alpha0  # evals  Notes \n",
      "    3799       935.036   0.000120218       5713.23      0.5546      0.5546     4048   \n",
      "    Iter      log prob        ||dx||      ||grad||       alpha      alpha0  # evals  Notes \n",
      "    3899        937.66   9.52701e-06       2450.21           1           1     4155   \n",
      "    Iter      log prob        ||dx||      ||grad||       alpha      alpha0  # evals  Notes \n",
      "    3999       939.032   2.51776e-05       2110.07           1           1     4262   \n",
      "    Iter      log prob        ||dx||      ||grad||       alpha      alpha0  # evals  Notes \n",
      "    4099       940.024   0.000104797       4462.15           1           1     4369   \n",
      "    Iter      log prob        ||dx||      ||grad||       alpha      alpha0  # evals  Notes \n",
      "    4199       943.667   8.39003e-05        2722.9           1           1     4476   \n",
      "    Iter      log prob        ||dx||      ||grad||       alpha      alpha0  # evals  Notes \n",
      "    4299       945.427   2.93113e-05       3277.73           1           1     4582   \n",
      "    Iter      log prob        ||dx||      ||grad||       alpha      alpha0  # evals  Notes \n",
      "    4399       945.789   8.42353e-05       3093.59           1           1     4690   \n",
      "    Iter      log prob        ||dx||      ||grad||       alpha      alpha0  # evals  Notes \n",
      "    4499       948.269   0.000294455        4173.1           1           1     4796   \n",
      "    Iter      log prob        ||dx||      ||grad||       alpha      alpha0  # evals  Notes \n",
      "    4599       951.817   4.43808e-05       1149.75           1           1     4906   \n",
      "    Iter      log prob        ||dx||      ||grad||       alpha      alpha0  # evals  Notes \n",
      "    4699       953.224   3.45229e-05       3716.96           1           1     5011   \n",
      "    Iter      log prob        ||dx||      ||grad||       alpha      alpha0  # evals  Notes \n",
      "    4799       954.607   0.000254696       5316.17           1           1     5116   \n",
      "    Iter      log prob        ||dx||      ||grad||       alpha      alpha0  # evals  Notes \n",
      "    4899       955.407    2.8964e-05       1420.77           1           1     5222   \n",
      "    Iter      log prob        ||dx||      ||grad||       alpha      alpha0  # evals  Notes \n",
      "    4999       956.157   0.000199042       12835.1           1           1     5330   \n",
      "    Iter      log prob        ||dx||      ||grad||       alpha      alpha0  # evals  Notes \n",
      "    5099       956.609   1.06531e-05       496.548           1           1     5438   \n",
      "    Iter      log prob        ||dx||      ||grad||       alpha      alpha0  # evals  Notes \n",
      "    5199       958.652   5.70726e-07       624.267      0.7847      0.7847     5546   \n",
      "    Iter      log prob        ||dx||      ||grad||       alpha      alpha0  # evals  Notes \n",
      "    5299       959.054   5.92823e-05       2221.22           1           1     5652   \n",
      "    Iter      log prob        ||dx||      ||grad||       alpha      alpha0  # evals  Notes \n",
      "    5399       959.297   2.87805e-06       1353.62      0.2985      0.2985     5757   \n",
      "    Iter      log prob        ||dx||      ||grad||       alpha      alpha0  # evals  Notes \n",
      "    5499       961.435   0.000334619       5660.91      0.3696           1     5866   \n",
      "    Iter      log prob        ||dx||      ||grad||       alpha      alpha0  # evals  Notes \n",
      "    5599       963.299   3.20484e-06       990.659           1           1     5972   \n",
      "    Iter      log prob        ||dx||      ||grad||       alpha      alpha0  # evals  Notes \n",
      "    5699       970.253   0.000122808       2504.63           1           1     6078   \n",
      "    Iter      log prob        ||dx||      ||grad||       alpha      alpha0  # evals  Notes \n",
      "    5799        971.91   1.20105e-05       7927.71      0.5742      0.5742     6183   \n",
      "    Iter      log prob        ||dx||      ||grad||       alpha      alpha0  # evals  Notes \n",
      "    5899       972.895   4.04304e-05       1908.49           1           1     6287   \n",
      "    Iter      log prob        ||dx||      ||grad||       alpha      alpha0  # evals  Notes \n",
      "    5999       973.364   0.000145141       3125.01           1           1     6395   \n",
      "    Iter      log prob        ||dx||      ||grad||       alpha      alpha0  # evals  Notes \n",
      "    6099       974.073   4.36865e-06       838.819           1           1     6497   \n"
     ]
    },
    {
     "name": "stdout",
     "output_type": "stream",
     "text": [
      "    Iter      log prob        ||dx||      ||grad||       alpha      alpha0  # evals  Notes \n",
      "    6199       974.477   2.47094e-06       963.741      0.4709           1     6607   \n",
      "    Iter      log prob        ||dx||      ||grad||       alpha      alpha0  # evals  Notes \n",
      "    6299       975.029   3.09087e-05       2927.15      0.3727           1     6716   \n",
      "    Iter      log prob        ||dx||      ||grad||       alpha      alpha0  # evals  Notes \n",
      "    6399       975.687     5.907e-05       2075.43           1           1     6829   \n",
      "    Iter      log prob        ||dx||      ||grad||       alpha      alpha0  # evals  Notes \n",
      "    6499       976.041   2.66749e-05       1160.59           1           1     6936   \n",
      "    Iter      log prob        ||dx||      ||grad||       alpha      alpha0  # evals  Notes \n",
      "    6599       976.235   5.62654e-06       604.321      0.9098      0.9098     7044   \n",
      "    Iter      log prob        ||dx||      ||grad||       alpha      alpha0  # evals  Notes \n",
      "    6699        976.42   2.77426e-06       1594.77           1           1     7148   \n",
      "    Iter      log prob        ||dx||      ||grad||       alpha      alpha0  # evals  Notes \n",
      "    6799       976.547   0.000118847       1352.53           1           1     7250   \n",
      "    Iter      log prob        ||dx||      ||grad||       alpha      alpha0  # evals  Notes \n",
      "    6899        976.95   1.27875e-05       1002.37           1           1     7353   \n",
      "    Iter      log prob        ||dx||      ||grad||       alpha      alpha0  # evals  Notes \n",
      "    6999       977.352   0.000540089       5004.36           1           1     7463   \n",
      "    Iter      log prob        ||dx||      ||grad||       alpha      alpha0  # evals  Notes \n",
      "    7099       978.408   7.12746e-05       11280.2           1           1     7570   \n",
      "    Iter      log prob        ||dx||      ||grad||       alpha      alpha0  # evals  Notes \n",
      "    7199       978.999   0.000113298        6006.5           1           1     7674   \n",
      "    Iter      log prob        ||dx||      ||grad||       alpha      alpha0  # evals  Notes \n",
      "    7299        979.64   3.88739e-05       2240.38           1           1     7780   \n",
      "    Iter      log prob        ||dx||      ||grad||       alpha      alpha0  # evals  Notes \n",
      "    7399       980.717   8.02891e-05       5862.53           1           1     7887   \n",
      "    Iter      log prob        ||dx||      ||grad||       alpha      alpha0  # evals  Notes \n",
      "    7499       981.218   1.55391e-05       1676.47           1           1     7994   \n",
      "    Iter      log prob        ||dx||      ||grad||       alpha      alpha0  # evals  Notes \n",
      "    7599       981.538      1.54e-06       1277.41      0.6366      0.6366     8100   \n",
      "    Iter      log prob        ||dx||      ||grad||       alpha      alpha0  # evals  Notes \n",
      "    7699       981.805   1.86206e-05       4189.25           1           1     8205   \n",
      "    Iter      log prob        ||dx||      ||grad||       alpha      alpha0  # evals  Notes \n",
      "    7799       981.994    8.6653e-06       1590.08      0.1593           1     8311   \n",
      "    Iter      log prob        ||dx||      ||grad||       alpha      alpha0  # evals  Notes \n",
      "    7899       983.097   0.000634913       6378.92           1           1     8418   \n",
      "    Iter      log prob        ||dx||      ||grad||       alpha      alpha0  # evals  Notes \n",
      "    7999       985.041   0.000257884       6409.65           1           1     8526   \n",
      "    Iter      log prob        ||dx||      ||grad||       alpha      alpha0  # evals  Notes \n",
      "    8099       992.003   2.76461e-05       4456.35      0.5367      0.5367     8631   \n",
      "    Iter      log prob        ||dx||      ||grad||       alpha      alpha0  # evals  Notes \n",
      "    8199       993.498   0.000978352       24979.4           1           1     8735   \n",
      "    Iter      log prob        ||dx||      ||grad||       alpha      alpha0  # evals  Notes \n",
      "    8299       995.906   2.08838e-05       1966.84           1           1     8844   \n",
      "    Iter      log prob        ||dx||      ||grad||       alpha      alpha0  # evals  Notes \n",
      "    8399       997.066   0.000855068       22956.1           1           1     8948   \n",
      "    Iter      log prob        ||dx||      ||grad||       alpha      alpha0  # evals  Notes \n",
      "    8499        998.79   9.33315e-05       4938.68           1           1     9057   \n",
      "    Iter      log prob        ||dx||      ||grad||       alpha      alpha0  # evals  Notes \n",
      "    8599       999.122   6.53554e-05       8124.01           1           1     9160   \n",
      "    Iter      log prob        ||dx||      ||grad||       alpha      alpha0  # evals  Notes \n",
      "    8699       999.612   3.70857e-05       3410.35           1           1     9267   \n",
      "    Iter      log prob        ||dx||      ||grad||       alpha      alpha0  # evals  Notes \n",
      "    8799       1000.22   2.70857e-05       4559.08      0.3399      0.3399     9376   \n",
      "    Iter      log prob        ||dx||      ||grad||       alpha      alpha0  # evals  Notes \n",
      "    8899       1000.89    4.2391e-07       770.033           1           1     9482   \n",
      "    Iter      log prob        ||dx||      ||grad||       alpha      alpha0  # evals  Notes \n",
      "    8999       1001.25   7.28429e-06       1803.98       0.654       0.654     9587   \n",
      "    Iter      log prob        ||dx||      ||grad||       alpha      alpha0  # evals  Notes \n",
      "    9099       1001.78   7.97328e-05       5314.06           1           1     9696   \n",
      "    Iter      log prob        ||dx||      ||grad||       alpha      alpha0  # evals  Notes \n",
      "    9199       1002.34   1.66908e-05       1210.16           1           1     9800   \n",
      "    Iter      log prob        ||dx||      ||grad||       alpha      alpha0  # evals  Notes \n",
      "    9299        1002.7   2.43382e-05       1434.96           1           1     9906   \n",
      "    Iter      log prob        ||dx||      ||grad||       alpha      alpha0  # evals  Notes \n",
      "    9399       1003.16   6.30008e-05       3846.76      0.5308           1    10012   \n",
      "    Iter      log prob        ||dx||      ||grad||       alpha      alpha0  # evals  Notes \n",
      "    9499       1003.33    3.2665e-06       707.566           1           1    10116   \n",
      "    Iter      log prob        ||dx||      ||grad||       alpha      alpha0  # evals  Notes \n",
      "    9599       1004.04   0.000113333       2519.88           1           1    10222   \n",
      "    Iter      log prob        ||dx||      ||grad||       alpha      alpha0  # evals  Notes \n",
      "    9699       1005.21     0.0046859       42224.2           1           1    10325   \n",
      "    Iter      log prob        ||dx||      ||grad||       alpha      alpha0  # evals  Notes \n",
      "    9799       1007.42   5.11469e-05       7596.08      0.2194           1    10432   \n",
      "    Iter      log prob        ||dx||      ||grad||       alpha      alpha0  # evals  Notes \n",
      "    9899       1008.64   7.46265e-05       2976.44           1           1    10541   \n",
      "    Iter      log prob        ||dx||      ||grad||       alpha      alpha0  # evals  Notes \n",
      "    9999       1009.19   8.24026e-06        2138.3           1           1    10644   \n",
      "    Iter      log prob        ||dx||      ||grad||       alpha      alpha0  # evals  Notes \n",
      "   10000       1009.19   5.65437e-06       3930.29      0.2775           1    10646   \n",
      "Optimization terminated normally: \n",
      "  Maximum number of iterations hit, may not be at an optima\n"
     ]
    }
   ],
   "source": [
    "mdl2.fit(XY.loc[control_ixs, :]);"
   ]
  },
  {
   "cell_type": "markdown",
   "id": "d27644c9",
   "metadata": {
    "slideshow": {
     "slide_type": "subslide"
    }
   },
   "source": [
    "Para hacer un forecast, ahora tenemos pasar tanto los valores de los controles como la columna `ds`, en el mismo dataframe."
   ]
  },
  {
   "cell_type": "code",
   "execution_count": 31,
   "id": "35fb15e3",
   "metadata": {
    "slideshow": {
     "slide_type": "fragment"
    }
   },
   "outputs": [
    {
     "data": {
      "text/html": [
       "<pre>✔️ 26.4 ms (2021-10-27T21:32:40/2021-10-27T21:32:40)</pre>"
      ],
      "text/plain": [
       "<IPython.core.display.HTML object>"
      ]
     },
     "metadata": {},
     "output_type": "display_data"
    },
    {
     "data": {
      "text/html": [
       "<div>\n",
       "<style scoped>\n",
       "    .dataframe tbody tr th:only-of-type {\n",
       "        vertical-align: middle;\n",
       "    }\n",
       "\n",
       "    .dataframe tbody tr th {\n",
       "        vertical-align: top;\n",
       "    }\n",
       "\n",
       "    .dataframe thead th {\n",
       "        text-align: right;\n",
       "    }\n",
       "</style>\n",
       "<table border=\"1\" class=\"dataframe\">\n",
       "  <thead>\n",
       "    <tr style=\"text-align: right;\">\n",
       "      <th></th>\n",
       "      <th>ds</th>\n",
       "      <th>x0</th>\n",
       "      <th>x1</th>\n",
       "      <th>x2</th>\n",
       "      <th>x3</th>\n",
       "      <th>x4</th>\n",
       "      <th>x5</th>\n",
       "      <th>x6</th>\n",
       "      <th>x7</th>\n",
       "      <th>x8</th>\n",
       "      <th>...</th>\n",
       "      <th>x10</th>\n",
       "      <th>x11</th>\n",
       "      <th>x12</th>\n",
       "      <th>x13</th>\n",
       "      <th>x14</th>\n",
       "      <th>x15</th>\n",
       "      <th>x16</th>\n",
       "      <th>x17</th>\n",
       "      <th>x18</th>\n",
       "      <th>x19</th>\n",
       "    </tr>\n",
       "  </thead>\n",
       "  <tbody>\n",
       "    <tr>\n",
       "      <th>2021-10-22</th>\n",
       "      <td>2021-10-22</td>\n",
       "      <td>5.208456</td>\n",
       "      <td>24.708358</td>\n",
       "      <td>-16.340409</td>\n",
       "      <td>15.963733</td>\n",
       "      <td>5.752419</td>\n",
       "      <td>-2.180218</td>\n",
       "      <td>-6.169670</td>\n",
       "      <td>54.903735</td>\n",
       "      <td>20.311163</td>\n",
       "      <td>...</td>\n",
       "      <td>4.900545</td>\n",
       "      <td>-0.883910</td>\n",
       "      <td>8.320927</td>\n",
       "      <td>8.564678</td>\n",
       "      <td>33.575752</td>\n",
       "      <td>0.582756</td>\n",
       "      <td>14.717001</td>\n",
       "      <td>-0.075824</td>\n",
       "      <td>-1.657352</td>\n",
       "      <td>-4.681852</td>\n",
       "    </tr>\n",
       "    <tr>\n",
       "      <th>2021-10-23</th>\n",
       "      <td>2021-10-23</td>\n",
       "      <td>-12.747502</td>\n",
       "      <td>1.448790</td>\n",
       "      <td>-0.697755</td>\n",
       "      <td>16.174671</td>\n",
       "      <td>7.716568</td>\n",
       "      <td>1.790248</td>\n",
       "      <td>-9.661526</td>\n",
       "      <td>30.899505</td>\n",
       "      <td>0.860831</td>\n",
       "      <td>...</td>\n",
       "      <td>7.209571</td>\n",
       "      <td>0.070292</td>\n",
       "      <td>0.786285</td>\n",
       "      <td>14.810534</td>\n",
       "      <td>-12.323639</td>\n",
       "      <td>1.409756</td>\n",
       "      <td>14.550701</td>\n",
       "      <td>19.215859</td>\n",
       "      <td>-4.567178</td>\n",
       "      <td>8.201097</td>\n",
       "    </tr>\n",
       "    <tr>\n",
       "      <th>2021-10-24</th>\n",
       "      <td>2021-10-24</td>\n",
       "      <td>-0.132520</td>\n",
       "      <td>5.227963</td>\n",
       "      <td>-20.932831</td>\n",
       "      <td>17.050036</td>\n",
       "      <td>10.988485</td>\n",
       "      <td>-8.877332</td>\n",
       "      <td>-10.631184</td>\n",
       "      <td>-39.581552</td>\n",
       "      <td>40.232254</td>\n",
       "      <td>...</td>\n",
       "      <td>24.458870</td>\n",
       "      <td>5.450814</td>\n",
       "      <td>1.304998</td>\n",
       "      <td>11.406690</td>\n",
       "      <td>-18.480848</td>\n",
       "      <td>0.925458</td>\n",
       "      <td>9.493565</td>\n",
       "      <td>-4.157747</td>\n",
       "      <td>-7.089378</td>\n",
       "      <td>1.300972</td>\n",
       "    </tr>\n",
       "    <tr>\n",
       "      <th>2021-10-25</th>\n",
       "      <td>2021-10-25</td>\n",
       "      <td>5.113860</td>\n",
       "      <td>-3.557947</td>\n",
       "      <td>-13.690444</td>\n",
       "      <td>16.100994</td>\n",
       "      <td>7.983171</td>\n",
       "      <td>-11.071727</td>\n",
       "      <td>-15.402876</td>\n",
       "      <td>11.250265</td>\n",
       "      <td>42.170635</td>\n",
       "      <td>...</td>\n",
       "      <td>13.066098</td>\n",
       "      <td>1.655978</td>\n",
       "      <td>8.397756</td>\n",
       "      <td>11.213803</td>\n",
       "      <td>-23.053918</td>\n",
       "      <td>1.134690</td>\n",
       "      <td>13.539531</td>\n",
       "      <td>-7.336001</td>\n",
       "      <td>0.666257</td>\n",
       "      <td>4.250038</td>\n",
       "    </tr>\n",
       "    <tr>\n",
       "      <th>2021-10-26</th>\n",
       "      <td>2021-10-26</td>\n",
       "      <td>2.522906</td>\n",
       "      <td>-3.254646</td>\n",
       "      <td>-3.917761</td>\n",
       "      <td>17.918402</td>\n",
       "      <td>8.207552</td>\n",
       "      <td>-3.133699</td>\n",
       "      <td>-14.997805</td>\n",
       "      <td>-13.521384</td>\n",
       "      <td>-4.505437</td>\n",
       "      <td>...</td>\n",
       "      <td>13.166538</td>\n",
       "      <td>2.150638</td>\n",
       "      <td>3.596036</td>\n",
       "      <td>12.253693</td>\n",
       "      <td>6.921760</td>\n",
       "      <td>0.147852</td>\n",
       "      <td>10.980306</td>\n",
       "      <td>-4.532837</td>\n",
       "      <td>-1.496235</td>\n",
       "      <td>8.429366</td>\n",
       "    </tr>\n",
       "  </tbody>\n",
       "</table>\n",
       "<p>5 rows × 21 columns</p>\n",
       "</div>"
      ],
      "text/plain": [
       "                   ds         x0         x1         x2         x3         x4  \\\n",
       "2021-10-22 2021-10-22   5.208456  24.708358 -16.340409  15.963733   5.752419   \n",
       "2021-10-23 2021-10-23 -12.747502   1.448790  -0.697755  16.174671   7.716568   \n",
       "2021-10-24 2021-10-24  -0.132520   5.227963 -20.932831  17.050036  10.988485   \n",
       "2021-10-25 2021-10-25   5.113860  -3.557947 -13.690444  16.100994   7.983171   \n",
       "2021-10-26 2021-10-26   2.522906  -3.254646  -3.917761  17.918402   8.207552   \n",
       "\n",
       "                   x5         x6         x7         x8  ...        x10  \\\n",
       "2021-10-22  -2.180218  -6.169670  54.903735  20.311163  ...   4.900545   \n",
       "2021-10-23   1.790248  -9.661526  30.899505   0.860831  ...   7.209571   \n",
       "2021-10-24  -8.877332 -10.631184 -39.581552  40.232254  ...  24.458870   \n",
       "2021-10-25 -11.071727 -15.402876  11.250265  42.170635  ...  13.066098   \n",
       "2021-10-26  -3.133699 -14.997805 -13.521384  -4.505437  ...  13.166538   \n",
       "\n",
       "                 x11       x12        x13        x14       x15        x16  \\\n",
       "2021-10-22 -0.883910  8.320927   8.564678  33.575752  0.582756  14.717001   \n",
       "2021-10-23  0.070292  0.786285  14.810534 -12.323639  1.409756  14.550701   \n",
       "2021-10-24  5.450814  1.304998  11.406690 -18.480848  0.925458   9.493565   \n",
       "2021-10-25  1.655978  8.397756  11.213803 -23.053918  1.134690  13.539531   \n",
       "2021-10-26  2.150638  3.596036  12.253693   6.921760  0.147852  10.980306   \n",
       "\n",
       "                  x17       x18       x19  \n",
       "2021-10-22  -0.075824 -1.657352 -4.681852  \n",
       "2021-10-23  19.215859 -4.567178  8.201097  \n",
       "2021-10-24  -4.157747 -7.089378  1.300972  \n",
       "2021-10-25  -7.336001  0.666257  4.250038  \n",
       "2021-10-26  -4.532837 -1.496235  8.429366  \n",
       "\n",
       "[5 rows x 21 columns]"
      ]
     },
     "execution_count": 31,
     "metadata": {},
     "output_type": "execute_result"
    }
   ],
   "source": [
    "Xt = mdl2.make_future_dataframe(30)\n",
    "Xt.index = pd.DatetimeIndex(Xt.ds, name='')\n",
    "Xt = pd.concat([Xt, X], axis=1)\n",
    "Xt.tail()"
   ]
  },
  {
   "cell_type": "code",
   "execution_count": 32,
   "id": "f07acee2",
   "metadata": {
    "slideshow": {
     "slide_type": "subslide"
    }
   },
   "outputs": [
    {
     "data": {
      "text/html": [
       "<pre>✔️ 1.66 s (2021-10-27T21:32:45/2021-10-27T21:32:46)</pre>"
      ],
      "text/plain": [
       "<IPython.core.display.HTML object>"
      ]
     },
     "metadata": {},
     "output_type": "display_data"
    },
    {
     "data": {
      "text/html": [
       "<div>\n",
       "<style scoped>\n",
       "    .dataframe tbody tr th:only-of-type {\n",
       "        vertical-align: middle;\n",
       "    }\n",
       "\n",
       "    .dataframe tbody tr th {\n",
       "        vertical-align: top;\n",
       "    }\n",
       "\n",
       "    .dataframe thead th {\n",
       "        text-align: right;\n",
       "    }\n",
       "</style>\n",
       "<table border=\"1\" class=\"dataframe\">\n",
       "  <thead>\n",
       "    <tr style=\"text-align: right;\">\n",
       "      <th></th>\n",
       "      <th>ds</th>\n",
       "      <th>trend</th>\n",
       "      <th>yhat_lower</th>\n",
       "      <th>yhat_upper</th>\n",
       "      <th>trend_lower</th>\n",
       "      <th>trend_upper</th>\n",
       "      <th>additive_terms</th>\n",
       "      <th>additive_terms_lower</th>\n",
       "      <th>additive_terms_upper</th>\n",
       "      <th>extra_regressors_additive</th>\n",
       "      <th>...</th>\n",
       "      <th>x8</th>\n",
       "      <th>x8_lower</th>\n",
       "      <th>x8_upper</th>\n",
       "      <th>x9</th>\n",
       "      <th>x9_lower</th>\n",
       "      <th>x9_upper</th>\n",
       "      <th>multiplicative_terms</th>\n",
       "      <th>multiplicative_terms_lower</th>\n",
       "      <th>multiplicative_terms_upper</th>\n",
       "      <th>yhat</th>\n",
       "    </tr>\n",
       "    <tr>\n",
       "      <th></th>\n",
       "      <th></th>\n",
       "      <th></th>\n",
       "      <th></th>\n",
       "      <th></th>\n",
       "      <th></th>\n",
       "      <th></th>\n",
       "      <th></th>\n",
       "      <th></th>\n",
       "      <th></th>\n",
       "      <th></th>\n",
       "      <th></th>\n",
       "      <th></th>\n",
       "      <th></th>\n",
       "      <th></th>\n",
       "      <th></th>\n",
       "      <th></th>\n",
       "      <th></th>\n",
       "      <th></th>\n",
       "      <th></th>\n",
       "      <th></th>\n",
       "      <th></th>\n",
       "    </tr>\n",
       "  </thead>\n",
       "  <tbody>\n",
       "    <tr>\n",
       "      <th>2021-05-30</th>\n",
       "      <td>2021-05-30</td>\n",
       "      <td>113.545304</td>\n",
       "      <td>86.457813</td>\n",
       "      <td>86.585492</td>\n",
       "      <td>113.545304</td>\n",
       "      <td>113.545304</td>\n",
       "      <td>-27.021216</td>\n",
       "      <td>-27.021216</td>\n",
       "      <td>-27.021216</td>\n",
       "      <td>-27.021267</td>\n",
       "      <td>...</td>\n",
       "      <td>-47.173856</td>\n",
       "      <td>-47.173856</td>\n",
       "      <td>-47.173856</td>\n",
       "      <td>0.000389</td>\n",
       "      <td>0.000389</td>\n",
       "      <td>0.000389</td>\n",
       "      <td>0.0</td>\n",
       "      <td>0.0</td>\n",
       "      <td>0.0</td>\n",
       "      <td>86.524088</td>\n",
       "    </tr>\n",
       "    <tr>\n",
       "      <th>2021-05-31</th>\n",
       "      <td>2021-05-31</td>\n",
       "      <td>113.546532</td>\n",
       "      <td>184.545132</td>\n",
       "      <td>184.670167</td>\n",
       "      <td>113.546532</td>\n",
       "      <td>113.546532</td>\n",
       "      <td>71.061483</td>\n",
       "      <td>71.061483</td>\n",
       "      <td>71.061483</td>\n",
       "      <td>71.062699</td>\n",
       "      <td>...</td>\n",
       "      <td>9.841293</td>\n",
       "      <td>9.841293</td>\n",
       "      <td>9.841293</td>\n",
       "      <td>0.000337</td>\n",
       "      <td>0.000337</td>\n",
       "      <td>0.000337</td>\n",
       "      <td>0.0</td>\n",
       "      <td>0.0</td>\n",
       "      <td>0.0</td>\n",
       "      <td>184.608016</td>\n",
       "    </tr>\n",
       "    <tr>\n",
       "      <th>2021-06-01</th>\n",
       "      <td>2021-06-01</td>\n",
       "      <td>113.547761</td>\n",
       "      <td>140.114321</td>\n",
       "      <td>140.247230</td>\n",
       "      <td>113.547761</td>\n",
       "      <td>113.547761</td>\n",
       "      <td>26.636774</td>\n",
       "      <td>26.636774</td>\n",
       "      <td>26.636774</td>\n",
       "      <td>26.637117</td>\n",
       "      <td>...</td>\n",
       "      <td>-24.590268</td>\n",
       "      <td>-24.590268</td>\n",
       "      <td>-24.590268</td>\n",
       "      <td>-0.000197</td>\n",
       "      <td>-0.000197</td>\n",
       "      <td>-0.000197</td>\n",
       "      <td>0.0</td>\n",
       "      <td>0.0</td>\n",
       "      <td>0.0</td>\n",
       "      <td>140.184535</td>\n",
       "    </tr>\n",
       "    <tr>\n",
       "      <th>2021-06-02</th>\n",
       "      <td>2021-06-02</td>\n",
       "      <td>113.548989</td>\n",
       "      <td>141.986531</td>\n",
       "      <td>142.115108</td>\n",
       "      <td>113.548989</td>\n",
       "      <td>113.548989</td>\n",
       "      <td>28.502762</td>\n",
       "      <td>28.502762</td>\n",
       "      <td>28.502762</td>\n",
       "      <td>28.503312</td>\n",
       "      <td>...</td>\n",
       "      <td>14.589494</td>\n",
       "      <td>14.589494</td>\n",
       "      <td>14.589494</td>\n",
       "      <td>-0.000007</td>\n",
       "      <td>-0.000007</td>\n",
       "      <td>-0.000007</td>\n",
       "      <td>0.0</td>\n",
       "      <td>0.0</td>\n",
       "      <td>0.0</td>\n",
       "      <td>142.051751</td>\n",
       "    </tr>\n",
       "    <tr>\n",
       "      <th>2021-06-03</th>\n",
       "      <td>2021-06-03</td>\n",
       "      <td>113.550217</td>\n",
       "      <td>169.662724</td>\n",
       "      <td>169.790498</td>\n",
       "      <td>113.550217</td>\n",
       "      <td>113.550217</td>\n",
       "      <td>56.179145</td>\n",
       "      <td>56.179145</td>\n",
       "      <td>56.179145</td>\n",
       "      <td>56.179174</td>\n",
       "      <td>...</td>\n",
       "      <td>-15.820283</td>\n",
       "      <td>-15.820283</td>\n",
       "      <td>-15.820283</td>\n",
       "      <td>0.000418</td>\n",
       "      <td>0.000418</td>\n",
       "      <td>0.000418</td>\n",
       "      <td>0.0</td>\n",
       "      <td>0.0</td>\n",
       "      <td>0.0</td>\n",
       "      <td>169.729363</td>\n",
       "    </tr>\n",
       "    <tr>\n",
       "      <th>...</th>\n",
       "      <td>...</td>\n",
       "      <td>...</td>\n",
       "      <td>...</td>\n",
       "      <td>...</td>\n",
       "      <td>...</td>\n",
       "      <td>...</td>\n",
       "      <td>...</td>\n",
       "      <td>...</td>\n",
       "      <td>...</td>\n",
       "      <td>...</td>\n",
       "      <td>...</td>\n",
       "      <td>...</td>\n",
       "      <td>...</td>\n",
       "      <td>...</td>\n",
       "      <td>...</td>\n",
       "      <td>...</td>\n",
       "      <td>...</td>\n",
       "      <td>...</td>\n",
       "      <td>...</td>\n",
       "      <td>...</td>\n",
       "      <td>...</td>\n",
       "    </tr>\n",
       "    <tr>\n",
       "      <th>2021-10-22</th>\n",
       "      <td>2021-10-22</td>\n",
       "      <td>113.551015</td>\n",
       "      <td>208.979676</td>\n",
       "      <td>209.539242</td>\n",
       "      <td>113.259971</td>\n",
       "      <td>113.828623</td>\n",
       "      <td>95.714257</td>\n",
       "      <td>95.714257</td>\n",
       "      <td>95.714257</td>\n",
       "      <td>95.713261</td>\n",
       "      <td>...</td>\n",
       "      <td>1.725164</td>\n",
       "      <td>1.725164</td>\n",
       "      <td>1.725164</td>\n",
       "      <td>-0.000292</td>\n",
       "      <td>-0.000292</td>\n",
       "      <td>-0.000292</td>\n",
       "      <td>0.0</td>\n",
       "      <td>0.0</td>\n",
       "      <td>0.0</td>\n",
       "      <td>209.265273</td>\n",
       "    </tr>\n",
       "    <tr>\n",
       "      <th>2021-10-23</th>\n",
       "      <td>2021-10-23</td>\n",
       "      <td>113.551083</td>\n",
       "      <td>142.904579</td>\n",
       "      <td>143.508005</td>\n",
       "      <td>113.244276</td>\n",
       "      <td>113.841747</td>\n",
       "      <td>29.660012</td>\n",
       "      <td>29.660012</td>\n",
       "      <td>29.660012</td>\n",
       "      <td>29.658921</td>\n",
       "      <td>...</td>\n",
       "      <td>-17.725344</td>\n",
       "      <td>-17.725344</td>\n",
       "      <td>-17.725344</td>\n",
       "      <td>0.000684</td>\n",
       "      <td>0.000684</td>\n",
       "      <td>0.000684</td>\n",
       "      <td>0.0</td>\n",
       "      <td>0.0</td>\n",
       "      <td>0.0</td>\n",
       "      <td>143.211095</td>\n",
       "    </tr>\n",
       "    <tr>\n",
       "      <th>2021-10-24</th>\n",
       "      <td>2021-10-24</td>\n",
       "      <td>113.551151</td>\n",
       "      <td>65.991269</td>\n",
       "      <td>66.636592</td>\n",
       "      <td>113.231339</td>\n",
       "      <td>113.855053</td>\n",
       "      <td>-47.237043</td>\n",
       "      <td>-47.237043</td>\n",
       "      <td>-47.237043</td>\n",
       "      <td>-47.237093</td>\n",
       "      <td>...</td>\n",
       "      <td>21.646436</td>\n",
       "      <td>21.646436</td>\n",
       "      <td>21.646436</td>\n",
       "      <td>-0.000170</td>\n",
       "      <td>-0.000170</td>\n",
       "      <td>-0.000170</td>\n",
       "      <td>0.0</td>\n",
       "      <td>0.0</td>\n",
       "      <td>0.0</td>\n",
       "      <td>66.314109</td>\n",
       "    </tr>\n",
       "    <tr>\n",
       "      <th>2021-10-25</th>\n",
       "      <td>2021-10-25</td>\n",
       "      <td>113.551219</td>\n",
       "      <td>105.893669</td>\n",
       "      <td>106.580680</td>\n",
       "      <td>113.214252</td>\n",
       "      <td>113.870948</td>\n",
       "      <td>-7.308023</td>\n",
       "      <td>-7.308023</td>\n",
       "      <td>-7.308023</td>\n",
       "      <td>-7.306806</td>\n",
       "      <td>...</td>\n",
       "      <td>23.584835</td>\n",
       "      <td>23.584835</td>\n",
       "      <td>23.584835</td>\n",
       "      <td>0.000034</td>\n",
       "      <td>0.000034</td>\n",
       "      <td>0.000034</td>\n",
       "      <td>0.0</td>\n",
       "      <td>0.0</td>\n",
       "      <td>0.0</td>\n",
       "      <td>106.243197</td>\n",
       "    </tr>\n",
       "    <tr>\n",
       "      <th>2021-10-26</th>\n",
       "      <td>2021-10-26</td>\n",
       "      <td>113.551287</td>\n",
       "      <td>84.692704</td>\n",
       "      <td>85.403132</td>\n",
       "      <td>113.198333</td>\n",
       "      <td>113.885329</td>\n",
       "      <td>-28.485412</td>\n",
       "      <td>-28.485412</td>\n",
       "      <td>-28.485412</td>\n",
       "      <td>-28.485070</td>\n",
       "      <td>...</td>\n",
       "      <td>-23.091661</td>\n",
       "      <td>-23.091661</td>\n",
       "      <td>-23.091661</td>\n",
       "      <td>0.000727</td>\n",
       "      <td>0.000727</td>\n",
       "      <td>0.000727</td>\n",
       "      <td>0.0</td>\n",
       "      <td>0.0</td>\n",
       "      <td>0.0</td>\n",
       "      <td>85.065875</td>\n",
       "    </tr>\n",
       "  </tbody>\n",
       "</table>\n",
       "<p>150 rows × 79 columns</p>\n",
       "</div>"
      ],
      "text/plain": [
       "                   ds       trend  yhat_lower  yhat_upper  trend_lower  \\\n",
       "                                                                         \n",
       "2021-05-30 2021-05-30  113.545304   86.457813   86.585492   113.545304   \n",
       "2021-05-31 2021-05-31  113.546532  184.545132  184.670167   113.546532   \n",
       "2021-06-01 2021-06-01  113.547761  140.114321  140.247230   113.547761   \n",
       "2021-06-02 2021-06-02  113.548989  141.986531  142.115108   113.548989   \n",
       "2021-06-03 2021-06-03  113.550217  169.662724  169.790498   113.550217   \n",
       "...               ...         ...         ...         ...          ...   \n",
       "2021-10-22 2021-10-22  113.551015  208.979676  209.539242   113.259971   \n",
       "2021-10-23 2021-10-23  113.551083  142.904579  143.508005   113.244276   \n",
       "2021-10-24 2021-10-24  113.551151   65.991269   66.636592   113.231339   \n",
       "2021-10-25 2021-10-25  113.551219  105.893669  106.580680   113.214252   \n",
       "2021-10-26 2021-10-26  113.551287   84.692704   85.403132   113.198333   \n",
       "\n",
       "            trend_upper  additive_terms  additive_terms_lower  \\\n",
       "                                                                \n",
       "2021-05-30   113.545304      -27.021216            -27.021216   \n",
       "2021-05-31   113.546532       71.061483             71.061483   \n",
       "2021-06-01   113.547761       26.636774             26.636774   \n",
       "2021-06-02   113.548989       28.502762             28.502762   \n",
       "2021-06-03   113.550217       56.179145             56.179145   \n",
       "...                 ...             ...                   ...   \n",
       "2021-10-22   113.828623       95.714257             95.714257   \n",
       "2021-10-23   113.841747       29.660012             29.660012   \n",
       "2021-10-24   113.855053      -47.237043            -47.237043   \n",
       "2021-10-25   113.870948       -7.308023             -7.308023   \n",
       "2021-10-26   113.885329      -28.485412            -28.485412   \n",
       "\n",
       "            additive_terms_upper  extra_regressors_additive  ...         x8  \\\n",
       "                                                             ...              \n",
       "2021-05-30            -27.021216                 -27.021267  ... -47.173856   \n",
       "2021-05-31             71.061483                  71.062699  ...   9.841293   \n",
       "2021-06-01             26.636774                  26.637117  ... -24.590268   \n",
       "2021-06-02             28.502762                  28.503312  ...  14.589494   \n",
       "2021-06-03             56.179145                  56.179174  ... -15.820283   \n",
       "...                          ...                        ...  ...        ...   \n",
       "2021-10-22             95.714257                  95.713261  ...   1.725164   \n",
       "2021-10-23             29.660012                  29.658921  ... -17.725344   \n",
       "2021-10-24            -47.237043                 -47.237093  ...  21.646436   \n",
       "2021-10-25             -7.308023                  -7.306806  ...  23.584835   \n",
       "2021-10-26            -28.485412                 -28.485070  ... -23.091661   \n",
       "\n",
       "             x8_lower   x8_upper        x9  x9_lower  x9_upper  \\\n",
       "                                                                 \n",
       "2021-05-30 -47.173856 -47.173856  0.000389  0.000389  0.000389   \n",
       "2021-05-31   9.841293   9.841293  0.000337  0.000337  0.000337   \n",
       "2021-06-01 -24.590268 -24.590268 -0.000197 -0.000197 -0.000197   \n",
       "2021-06-02  14.589494  14.589494 -0.000007 -0.000007 -0.000007   \n",
       "2021-06-03 -15.820283 -15.820283  0.000418  0.000418  0.000418   \n",
       "...               ...        ...       ...       ...       ...   \n",
       "2021-10-22   1.725164   1.725164 -0.000292 -0.000292 -0.000292   \n",
       "2021-10-23 -17.725344 -17.725344  0.000684  0.000684  0.000684   \n",
       "2021-10-24  21.646436  21.646436 -0.000170 -0.000170 -0.000170   \n",
       "2021-10-25  23.584835  23.584835  0.000034  0.000034  0.000034   \n",
       "2021-10-26 -23.091661 -23.091661  0.000727  0.000727  0.000727   \n",
       "\n",
       "            multiplicative_terms  multiplicative_terms_lower  \\\n",
       "                                                               \n",
       "2021-05-30                   0.0                         0.0   \n",
       "2021-05-31                   0.0                         0.0   \n",
       "2021-06-01                   0.0                         0.0   \n",
       "2021-06-02                   0.0                         0.0   \n",
       "2021-06-03                   0.0                         0.0   \n",
       "...                          ...                         ...   \n",
       "2021-10-22                   0.0                         0.0   \n",
       "2021-10-23                   0.0                         0.0   \n",
       "2021-10-24                   0.0                         0.0   \n",
       "2021-10-25                   0.0                         0.0   \n",
       "2021-10-26                   0.0                         0.0   \n",
       "\n",
       "            multiplicative_terms_upper        yhat  \n",
       "                                                    \n",
       "2021-05-30                         0.0   86.524088  \n",
       "2021-05-31                         0.0  184.608016  \n",
       "2021-06-01                         0.0  140.184535  \n",
       "2021-06-02                         0.0  142.051751  \n",
       "2021-06-03                         0.0  169.729363  \n",
       "...                                ...         ...  \n",
       "2021-10-22                         0.0  209.265273  \n",
       "2021-10-23                         0.0  143.211095  \n",
       "2021-10-24                         0.0   66.314109  \n",
       "2021-10-25                         0.0  106.243197  \n",
       "2021-10-26                         0.0   85.065875  \n",
       "\n",
       "[150 rows x 79 columns]"
      ]
     },
     "execution_count": 32,
     "metadata": {},
     "output_type": "execute_result"
    }
   ],
   "source": [
    "forecast2 = mdl2.predict(Xt)\n",
    "forecast2.index = pd.DatetimeIndex(forecast2.ds, name='')\n",
    "forecast2"
   ]
  },
  {
   "cell_type": "code",
   "execution_count": 34,
   "id": "97a24074",
   "metadata": {},
   "outputs": [
    {
     "data": {
      "text/html": [
       "<pre>✔️ 4.18 ms (2021-10-27T21:33:59/2021-10-27T21:33:59)</pre>"
      ],
      "text/plain": [
       "<IPython.core.display.HTML object>"
      ]
     },
     "metadata": {},
     "output_type": "display_data"
    },
    {
     "data": {
      "text/plain": [
       "Index(['ds', 'trend', 'yhat_lower', 'yhat_upper', 'trend_lower', 'trend_upper',\n",
       "       'additive_terms', 'additive_terms_lower', 'additive_terms_upper',\n",
       "       'extra_regressors_additive', 'extra_regressors_additive_lower',\n",
       "       'extra_regressors_additive_upper', 'weekly', 'weekly_lower',\n",
       "       'weekly_upper', 'x0', 'x0_lower', 'x0_upper', 'x1', 'x1_lower',\n",
       "       'x1_upper', 'x10', 'x10_lower', 'x10_upper', 'x11', 'x11_lower',\n",
       "       'x11_upper', 'x12', 'x12_lower', 'x12_upper', 'x13', 'x13_lower',\n",
       "       'x13_upper', 'x14', 'x14_lower', 'x14_upper', 'x15', 'x15_lower',\n",
       "       'x15_upper', 'x16', 'x16_lower', 'x16_upper', 'x17', 'x17_lower',\n",
       "       'x17_upper', 'x18', 'x18_lower', 'x18_upper', 'x19', 'x19_lower',\n",
       "       'x19_upper', 'x2', 'x2_lower', 'x2_upper', 'x3', 'x3_lower', 'x3_upper',\n",
       "       'x4', 'x4_lower', 'x4_upper', 'x5', 'x5_lower', 'x5_upper', 'x6',\n",
       "       'x6_lower', 'x6_upper', 'x7', 'x7_lower', 'x7_upper', 'x8', 'x8_lower',\n",
       "       'x8_upper', 'x9', 'x9_lower', 'x9_upper', 'multiplicative_terms',\n",
       "       'multiplicative_terms_lower', 'multiplicative_terms_upper', 'yhat'],\n",
       "      dtype='object')"
      ]
     },
     "execution_count": 34,
     "metadata": {},
     "output_type": "execute_result"
    }
   ],
   "source": [
    "forecast2.head().columns"
   ]
  },
  {
   "cell_type": "markdown",
   "id": "9c441e15",
   "metadata": {
    "slideshow": {
     "slide_type": "subslide"
    }
   },
   "source": [
    "¡Los resultados son mucho mejores!"
   ]
  },
  {
   "cell_type": "code",
   "execution_count": 35,
   "id": "c2c16bf4",
   "metadata": {
    "slideshow": {
     "slide_type": "fragment"
    }
   },
   "outputs": [
    {
     "data": {
      "text/html": [
       "<pre>✔️ 231 ms (2021-10-27T21:34:30/2021-10-27T21:34:30)</pre>"
      ],
      "text/plain": [
       "<IPython.core.display.HTML object>"
      ]
     },
     "metadata": {},
     "output_type": "display_data"
    },
    {
     "data": {
      "image/png": "[encoded data removed]",
      "text/plain": [
       "<Figure size 864x432 with 1 Axes>"
      ]
     },
     "metadata": {
      "needs_background": "light"
     },
     "output_type": "display_data"
    }
   ],
   "source": [
    "fig, ax = plt.subplots(figsize=(12, 6))\n",
    "ax.plot(Y.loc[control_ixs, 'y'], color='blue', label='control', alpha=0.3)\n",
    "ax.plot(Y.loc[treatment_ixs, 'y'], color='red', label='treatment', alpha=0.3)\n",
    "ax.vlines(x=control_ixs[-1], ymin=ax.dataLim.bounds[1], ymax=ax.dataLim.bounds[3], linestyle='--', alpha=0.5)\n",
    "ax.plot(forecast2.yhat, color='green', label='forecast2', alpha=0.3, marker='o')\n",
    "ax.legend();"
   ]
  },
  {
   "cell_type": "markdown",
   "id": "24c50da8",
   "metadata": {
    "slideshow": {
     "slide_type": "slide"
    }
   },
   "source": [
    "## Estimemos el efecto\n",
    "\n",
    "Lo que nos interesa hacer es estimar el efecto e impulso total y lo las diferencias diarias, aunque podríamos medir diferencias significativas a nivel diario también. Para esto, necestiamos asegurar que estamos haciendo muestro posterior sobre series __acumuladas__ y no valores diarios.\n",
    "\n",
    "Formalmente, el efecto total sería -\n",
    "\n",
    "$$\n",
    "\\sum_{i\\in{\\ T}}{\\delta{y}_i} = \\sum_{i\\in{\\ T}}{(y_i - \\hat{y}_i)}\n",
    "$$\n",
    "\n",
    "con $T$ representando el período de tratamiento."
   ]
  },
  {
   "cell_type": "markdown",
   "id": "1527b3ce",
   "metadata": {
    "slideshow": {
     "slide_type": "subslide"
    }
   },
   "source": [
    "### Acceso a muestreo posterior\n",
    "\n",
    "Prophet entrega un fácil acceso a sampleo posterior del modelo, una vez entrenado. Podemos utilizar estas muestras no solamente para estimar el efecto punto a nivel diario, sino que también simular los intervalos de confianza. ¡Excelente!"
   ]
  },
  {
   "cell_type": "code",
   "execution_count": 36,
   "id": "a496074b",
   "metadata": {
    "slideshow": {
     "slide_type": "fragment"
    }
   },
   "outputs": [
    {
     "data": {
      "text/html": [
       "<pre>✔️ 1.44 s (2021-10-27T21:35:35/2021-10-27T21:35:36)</pre>"
      ],
      "text/plain": [
       "<IPython.core.display.HTML object>"
      ]
     },
     "metadata": {},
     "output_type": "display_data"
    },
    {
     "name": "stdout",
     "output_type": "stream",
     "text": [
      "(30,) (30, 1000)\n"
     ]
    },
    {
     "data": {
      "text/plain": [
       "array([[134.74454636, 134.84745895, 134.81493148, ..., 134.81199209,\n",
       "        134.72712762, 134.73515679],\n",
       "       [107.50821869, 107.55800184, 107.61407659, ..., 107.5348206 ,\n",
       "        107.5211517 , 107.54054063],\n",
       "       [184.8337984 , 184.77911781, 184.82257848, ..., 184.80048729,\n",
       "        184.70346527, 184.84208668],\n",
       "       ...,\n",
       "       [ 66.34752581,  66.2313105 ,  66.03079428, ...,  66.02540267,\n",
       "         66.24046681,  65.87494065],\n",
       "       [106.18925383, 106.12984248, 105.83542875, ..., 105.96426709,\n",
       "        106.29169952, 105.82807268],\n",
       "       [ 84.99435543,  85.04052911,  84.68459661, ...,  84.74621928,\n",
       "         84.95971864,  84.61283446]])"
      ]
     },
     "execution_count": 36,
     "metadata": {},
     "output_type": "execute_result"
    }
   ],
   "source": [
    "Yhat = mdl2.predictive_samples(Xt.loc[treatment_ixs, :])['yhat']\n",
    "print(Y.loc[treatment_ixs, 'y'].shape, Yhat.shape)\n",
    "Yhat"
   ]
  },
  {
   "cell_type": "code",
   "execution_count": 39,
   "id": "3756d8b5",
   "metadata": {
    "slideshow": {
     "slide_type": "fragment"
    }
   },
   "outputs": [
    {
     "data": {
      "text/html": [
       "<pre>✔️ 4.59 ms (2021-10-27T21:36:34/2021-10-27T21:36:34)</pre>"
      ],
      "text/plain": [
       "<IPython.core.display.HTML object>"
      ]
     },
     "metadata": {},
     "output_type": "display_data"
    },
    {
     "data": {
      "text/plain": [
       "134.78862632074188"
      ]
     },
     "execution_count": 39,
     "metadata": {},
     "output_type": "execute_result"
    }
   ],
   "source": []
  },
  {
   "cell_type": "markdown",
   "id": "65971c0d",
   "metadata": {
    "slideshow": {
     "slide_type": "subslide"
    }
   },
   "source": [
    "Podemos utilizar estas muestras para construir series de diferencias diarias entre observado $y_t$ y contrafactual $\\hat{y}_t$, lo que nos permitirá calcular diferentes estadísticas sobre las series cumulativas."
   ]
  },
  {
   "cell_type": "code",
   "execution_count": 41,
   "id": "27ffc01a",
   "metadata": {
    "slideshow": {
     "slide_type": "fragment"
    }
   },
   "outputs": [
    {
     "data": {
      "text/html": [
       "<pre>✔️ 7.12 ms (2021-10-27T21:37:47/2021-10-27T21:37:47)</pre>"
      ],
      "text/plain": [
       "<IPython.core.display.HTML object>"
      ]
     },
     "metadata": {},
     "output_type": "display_data"
    },
    {
     "name": "stdout",
     "output_type": "stream",
     "text": [
      "(30, 1)\n"
     ]
    },
    {
     "data": {
      "text/plain": [
       "array([[138.8341233 ],\n",
       "       [110.78515639],\n",
       "       [190.35384887],\n",
       "       [214.76337156],\n",
       "       [114.98945743],\n",
       "       [161.32816227],\n",
       "       [119.25036169],\n",
       "       [ 41.48538939],\n",
       "       [113.38538017],\n",
       "       [150.48962715]])"
      ]
     },
     "execution_count": 41,
     "metadata": {},
     "output_type": "execute_result"
    }
   ],
   "source": [
    "# observed response\n",
    "yt = Y.loc[treatment_ixs, ['y']].values\n",
    "print(yt.shape)\n",
    "yt[:10]"
   ]
  },
  {
   "cell_type": "markdown",
   "id": "0c428c6b",
   "metadata": {
    "slideshow": {
     "slide_type": "subslide"
    }
   },
   "source": [
    "El contrafactual está marginalmente bajo el observado. Ya sabemos que esto es correcto, dado que conocemos el impulso real."
   ]
  },
  {
   "cell_type": "code",
   "execution_count": 43,
   "id": "0f72820c",
   "metadata": {
    "slideshow": {
     "slide_type": "fragment"
    }
   },
   "outputs": [
    {
     "data": {
      "text/html": [
       "<pre>✔️ 328 ms (2021-10-27T21:38:23/2021-10-27T21:38:23)</pre>"
      ],
      "text/plain": [
       "<IPython.core.display.HTML object>"
      ]
     },
     "metadata": {},
     "output_type": "display_data"
    },
    {
     "data": {
      "image/png": "[encoded data removed]",
      "text/plain": [
       "<Figure size 864x432 with 1 Axes>"
      ]
     },
     "metadata": {
      "needs_background": "light"
     },
     "output_type": "display_data"
    }
   ],
   "source": [
    "fig, ax = plt.subplots(figsize=(12, 6))\n",
    "ax.set_title('Treatment period response')\n",
    "pd.Series(Yhat.mean(axis=1), index=treatment_ixs).plot(label='counterfactual')\n",
    "pd.Series(yt.flatten(), index=treatment_ixs).plot(ax=ax, label='observed')\n",
    "ax.legend();"
   ]
  },
  {
   "cell_type": "markdown",
   "id": "5c8634fc",
   "metadata": {
    "slideshow": {
     "slide_type": "subslide"
    }
   },
   "source": [
    "### Pero, ¿podremos detectar esto de forma estadísticamente significativa?"
   ]
  },
  {
   "cell_type": "markdown",
   "id": "27056bff",
   "metadata": {
    "slideshow": {
     "slide_type": "subslide"
    }
   },
   "source": [
    "### ¡Sí!"
   ]
  },
  {
   "cell_type": "code",
   "execution_count": 71,
   "id": "1156a265",
   "metadata": {
    "slideshow": {
     "slide_type": "subslide"
    }
   },
   "outputs": [
    {
     "data": {
      "text/html": [
       "<pre>✔️ 18.5 ms (2021-10-27T21:46:25/2021-10-27T21:46:25)</pre>"
      ],
      "text/plain": [
       "<IPython.core.display.HTML object>"
      ]
     },
     "metadata": {},
     "output_type": "display_data"
    },
    {
     "name": "stdout",
     "output_type": "stream",
     "text": [
      "Ground truth: 0.03\n"
     ]
    },
    {
     "data": {
      "text/html": [
       "<div>\n",
       "<style scoped>\n",
       "    .dataframe tbody tr th:only-of-type {\n",
       "        vertical-align: middle;\n",
       "    }\n",
       "\n",
       "    .dataframe tbody tr th {\n",
       "        vertical-align: top;\n",
       "    }\n",
       "\n",
       "    .dataframe thead th {\n",
       "        text-align: right;\n",
       "    }\n",
       "</style>\n",
       "<table border=\"1\" class=\"dataframe\">\n",
       "  <thead>\n",
       "    <tr style=\"text-align: right;\">\n",
       "      <th></th>\n",
       "      <th>impulse_lb</th>\n",
       "      <th>impulse_point</th>\n",
       "      <th>impulse_ub</th>\n",
       "    </tr>\n",
       "  </thead>\n",
       "  <tbody>\n",
       "    <tr>\n",
       "      <th>0</th>\n",
       "      <td>0.028192</td>\n",
       "      <td>0.029952</td>\n",
       "      <td>0.031612</td>\n",
       "    </tr>\n",
       "  </tbody>\n",
       "</table>\n",
       "</div>"
      ],
      "text/plain": [
       "   impulse_lb  impulse_point  impulse_ub\n",
       "0    0.028192       0.029952    0.031612"
      ]
     },
     "execution_count": 71,
     "metadata": {},
     "output_type": "execute_result"
    }
   ],
   "source": [
    "cdY = np.subtract(yt, Yhat).cumsum(axis=0)\n",
    "# impulse\n",
    "effect = pd.DataFrame(\n",
    "    cdY.mean(axis=1)/Yhat.mean(axis=1).cumsum(),\n",
    "    index=treatment_ixs,\n",
    "    columns=['impulse_point']\n",
    ")\n",
    "l, u = np.percentile(cdY, [2.5, 97.5], axis=1)\n",
    "effect['impulse_lb'] = l/Yhat.mean(axis=1).cumsum()\n",
    "effect['impulse_ub'] = u/Yhat.mean(axis=1).cumsum()\n",
    "effect = effect[['impulse_lb', 'impulse_point', 'impulse_ub']]\n",
    "\n",
    "# total effect\n",
    "effect['total_point'] = cdY.mean(axis=1)\n",
    "effect['total_lb'] = l\n",
    "effect['total_ub'] = u\n",
    "\n",
    "print('Ground truth: {}'.format(sd.impulse))\n",
    "pd.DataFrame([effect.iloc[-1][:3].to_dict()])"
   ]
  },
  {
   "cell_type": "code",
   "execution_count": 68,
   "id": "4997c004",
   "metadata": {
    "slideshow": {
     "slide_type": "fragment"
    }
   },
   "outputs": [
    {
     "data": {
      "text/html": [
       "<pre>✔️ 153 ms (2021-10-27T21:45:02/2021-10-27T21:45:02)</pre>"
      ],
      "text/plain": [
       "<IPython.core.display.HTML object>"
      ]
     },
     "metadata": {},
     "output_type": "display_data"
    },
    {
     "data": {
      "text/plain": [
       "array([107.32145969, 116.3831143 , 124.8398293 ])"
      ]
     },
     "execution_count": 68,
     "metadata": {},
     "output_type": "execute_result"
    },
    {
     "data": {
      "image/png": "[encoded data removed]",
      "text/plain": [
       "<Figure size 432x288 with 1 Axes>"
      ]
     },
     "metadata": {
      "needs_background": "light"
     },
     "output_type": "display_data"
    }
   ],
   "source": [
    "plt.hist(cdY[29]);\n",
    "np.percentile(cdY[29], [1, 50, 99])"
   ]
  },
  {
   "cell_type": "markdown",
   "id": "993d4d8c",
   "metadata": {
    "slideshow": {
     "slide_type": "subslide"
    }
   },
   "source": [
    "También podemos construir unos buenos gráficos para presentar los resultados de nuestra política de intervención, asegurando el \"efecto wow\"."
   ]
  },
  {
   "cell_type": "code",
   "execution_count": 72,
   "id": "a0af174c",
   "metadata": {
    "slideshow": {
     "slide_type": "subslide"
    }
   },
   "outputs": [
    {
     "data": {
      "text/html": [
       "<pre>✔️ 402 ms (2021-10-27T21:46:32/2021-10-27T21:46:32)</pre>"
      ],
      "text/plain": [
       "<IPython.core.display.HTML object>"
      ]
     },
     "metadata": {},
     "output_type": "display_data"
    },
    {
     "data": {
      "image/png": "[encoded data removed]",
      "text/plain": [
       "<Figure size 1080x360 with 2 Axes>"
      ]
     },
     "metadata": {
      "needs_background": "light"
     },
     "output_type": "display_data"
    }
   ],
   "source": [
    "fig, axs = plt.subplots(1, 2, figsize=(15, 5))\n",
    "axs[0].set_title('Cummulative effect')\n",
    "axs[0].plot(effect.total_point)\n",
    "axs[0].fill_between(x=effect.index, y1=effect.total_lb, y2=effect.total_ub, alpha=0.25)\n",
    "axs[0].tick_params(rotation=45)\n",
    "axs[1].set_title('Cummulative impulse')\n",
    "axs[1].plot(effect.impulse_point)\n",
    "axs[1].fill_between(x=effect.index, y1=effect.impulse_lb, y2=effect.impulse_ub, alpha=0.25)\n",
    "axs[1].tick_params(rotation=45)\n",
    "\n",
    "fig.tight_layout()"
   ]
  },
  {
   "cell_type": "markdown",
   "id": "3add81c3",
   "metadata": {
    "slideshow": {
     "slide_type": "slide"
    }
   },
   "source": [
    "# Algunas ideas para cerrar\n",
    "\n",
    "- Los Controles Sintéticos nos permiten realizar análisis causal sobre procesos en los que no podemos implementar experimentos válidos, incluso no aleatorios.\n",
    "- Utilizar controles es una gran forma de reducir el ruido en nuestras series, aislando mejor los efectos causales de un tratamiento, y mejorando nuestras estimaciones de los efectos.\n",
    "- Los GAMs son un gran candidato para construir contrafactuales robustos, ya que son muy flexibles y tienen bastante soporte en Python — e.g., Facebook Prophet.\n",
    "- El proceso, por lo general, es muy bajo en consumo computacional, por lo que es recomendable realizar análisis de sensibilidad sobre los resultados — agregar o quitar días, mover el período de intervención un día hacia adelante y atrás, agregar y sacar controles, etc."
   ]
  },
  {
   "cell_type": "markdown",
   "id": "dc4573da",
   "metadata": {
    "slideshow": {
     "slide_type": "slide"
    }
   },
   "source": [
    "# ¡Gracias!\n",
    "- ¿Preguntas?\n",
    "- Pueden descargar el código [aquí](https://github.com/misterte/talks)."
   ]
  },
  {
   "cell_type": "code",
   "execution_count": null,
   "id": "0580ed05",
   "metadata": {
    "slideshow": {
     "slide_type": "skip"
    }
   },
   "outputs": [],
   "source": []
  }
 ],
 "metadata": {
  "celltoolbar": "Slideshow",
  "kernelspec": {
   "display_name": "Python 3 (ipykernel)",
   "language": "python",
   "name": "python3"
  },
  "language_info": {
   "codemirror_mode": {
    "name": "ipython",
    "version": 3
   },
   "file_extension": ".py",
   "mimetype": "text/x-python",
   "name": "python",
   "nbconvert_exporter": "python",
   "pygments_lexer": "ipython3",
   "version": "3.7.9"
  }
 },
 "nbformat": 4,
 "nbformat_minor": 5
}
