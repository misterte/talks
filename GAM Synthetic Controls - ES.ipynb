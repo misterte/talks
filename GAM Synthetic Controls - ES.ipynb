{
 "cells": [
  {
   "cell_type": "code",
   "execution_count": 1,
   "id": "03d4a858",
   "metadata": {
    "slideshow": {
     "slide_type": "skip"
    }
   },
   "outputs": [
    {
     "data": {
      "text/html": [
       "<pre>✔️ 1.63 ms (2021-10-27T20:49:28/2021-10-27T20:49:28)</pre>"
      ],
      "text/plain": [
       "<IPython.core.display.HTML object>"
      ]
     },
     "metadata": {},
     "output_type": "display_data"
    }
   ],
   "source": [
    "%load_ext autoreload\n",
    "%load_ext autotime"
   ]
  },
  {
   "cell_type": "code",
   "execution_count": 2,
   "id": "762ac091",
   "metadata": {
    "slideshow": {
     "slide_type": "skip"
    }
   },
   "outputs": [
    {
     "data": {
      "text/html": [
       "<pre>✔️ 786 µs (2021-10-27T20:49:28/2021-10-27T20:49:28)</pre>"
      ],
      "text/plain": [
       "<IPython.core.display.HTML object>"
      ]
     },
     "metadata": {},
     "output_type": "display_data"
    }
   ],
   "source": [
    "%autoreload 2"
   ]
  },
  {
   "cell_type": "code",
   "execution_count": 3,
   "id": "5ebe92f0",
   "metadata": {
    "slideshow": {
     "slide_type": "skip"
    }
   },
   "outputs": [
    {
     "data": {
      "text/html": [
       "<pre>✔️ 913 µs (2021-10-27T20:49:29/2021-10-27T20:49:29)</pre>"
      ],
      "text/plain": [
       "<IPython.core.display.HTML object>"
      ]
     },
     "metadata": {},
     "output_type": "display_data"
    }
   ],
   "source": [
    "import sys\n",
    "sys.path.append('../../../')"
   ]
  },
  {
   "cell_type": "markdown",
   "id": "4dfe42a8",
   "metadata": {
    "slideshow": {
     "slide_type": "slide"
    }
   },
   "source": [
    "# Controles Sintéticos utilizando GAMs\n",
    "Modelos Aditivos Generalizados para el diseño de contrafactuales robustos."
   ]
  },
  {
   "cell_type": "markdown",
   "id": "2ba9a701",
   "metadata": {
    "slideshow": {
     "slide_type": "slide"
    }
   },
   "source": [
    "## Un poco sobre mí\n",
    "\n",
    "- Andrés Bucchi, VP de Data & Analytics @ Sodimac; previamente Uber HQ.\n",
    "- Sodimac tiene presencia en 7 países; Data & Analytics cerca de 100 personas\n",
    "- Tenemos múltiples proyectos interesantes, desde plataformas de Data hasta Analítica Avanzada, pero lo que más nos (me) gusta es la experimentación.\n",
    "- Soy de profesión Ingeniero Comercial (BBA), pero mi pasión siempre fue el programar."
   ]
  },
  {
   "cell_type": "markdown",
   "id": "1f083b50",
   "metadata": {
    "slideshow": {
     "slide_type": "slide"
    }
   },
   "source": [
    "## Un poco sobre los Controles Sintéticos\n",
    "\n",
    "Los controles sintéticos nos permiten realizar análisis causal cuando no existen otras alternativas (más robustas) para construir un contrafactual válido — e.g., muestreo aleatorio, muestreo temporal, cuasi-experimentos, etc.\n",
    "\n",
    "Este tipo de análisis es de altísima utilidad al momento de evaluar el efecto de distintas políticas de intervención que no pueden \"prenderse y apagarse\" o no pueden ofrecérseles solamente a un grupo de individuos. Por ejemplo -"
   ]
  },
  {
   "cell_type": "markdown",
   "id": "769c4cae",
   "metadata": {
    "slideshow": {
     "slide_type": "subslide"
    }
   },
   "source": [
    "- Un sistema de atención de urgencia que podría salvar más vidas, lo que presenta un problema ético y reputacional.\n",
    "- Mejores condiciones en créditos hipotecarios según un nuevo modelo de riesgo, si es que la ley no permite tener ofertas diferentes para un mismo producto, bajo mismas condiciones.\n",
    "- Apertura de una nueva tienda y posible efecto en canales online.\n",
    "- Entre __muchos__ otros..."
   ]
  },
  {
   "cell_type": "markdown",
   "id": "9b80bf18",
   "metadata": {
    "slideshow": {
     "slide_type": "slide"
    }
   },
   "source": [
    "## Un poco sobre GAMs\n",
    "\n",
    "Generalized Additive Models (GAMs) son el resultado de una combinación lineal de Generalizaed Linear Models (GMLs). Permiten relacionar la __media__ de una serie de respuesta $Y$ a un vector de controles $X$, a través de una función de vínculo $g(·)$.\n",
    "\n",
    "$$\n",
    "g(E[y]) = f_0(x_0) + f_1(x_1) + ... + f_k(x_k)\n",
    "$$"
   ]
  },
  {
   "cell_type": "markdown",
   "id": "d0b13e88",
   "metadata": {
    "slideshow": {
     "slide_type": "subslide"
    }
   },
   "source": [
    "La función $g(·)$ puede tomar múltiples formas, y puede ser interpretada como la función inversa a la media de alguna familia de distribuciones — e.g., en el caso de una poisson, si la media $\\mu$ puede ser expresada como una combinación lineal de $X$\n",
    "\n",
    "$$\n",
    "\\mu=e^{X\\beta}\n",
    "$$\n",
    "\n",
    "Entonces $g(·)$ es la función exponencial y $g^{-1}(·)$ es $ln(\\mu)$."
   ]
  },
  {
   "cell_type": "markdown",
   "id": "2b7fa3d9",
   "metadata": {
    "slideshow": {
     "slide_type": "subslide"
    }
   },
   "source": [
    "### ¿Y qué?\n",
    "\n",
    "El principal take-away es que los GAMs son muy flexibles y, en general, permiten construir forecasts con errores iid. que se comportan de una forma normalizada, agregando distintos niveles de tendencias y quiebres de tendencias, etc. Esto las convierte en muy buenas candidatas para el análisis contrafactual."
   ]
  },
  {
   "cell_type": "markdown",
   "id": "946a055c",
   "metadata": {
    "slideshow": {
     "slide_type": "slide"
    }
   },
   "source": [
    "## Construyendo un contrafactual\n",
    "\n",
    "Buscamos construir un contrafactual $\\hat{y}_c$ con la finalidad de estimar el efecto $\\delta{y}$ de un tratamiento, dado que\n",
    "\n",
    "$$\n",
    "\\hat{ \\delta{y} } = y - \\hat{y}_c\n",
    "$$\n",
    "\n",
    "Nótese que $y$ es un valor conocido y observado tanto antes como después del tratamiento.\n",
    "\n",
    "Utilizando GAMs, podemos reescribir lo anterior -\n",
    "\n",
    "$$\n",
    "\\hat{ \\delta{y} } = y - g^{-1}(f_0(x_0) + f_1(x_1) + ... + f_k(x_k))\n",
    "$$\n",
    "\n",
    "Donde $X$ representa un vector de controles, utilizado para construir nuestro contrafactual $\\hat{y}_c$."
   ]
  },
  {
   "cell_type": "markdown",
   "id": "5b72996c",
   "metadata": {
    "slideshow": {
     "slide_type": "subslide"
    }
   },
   "source": [
    "### Eligiendo los controles correctos\n",
    "\n",
    "Al construir $\\hat{y}_c$, lo que queremos evitar es la interferencia, ya que no debiesen existir cualquier tipo de contaminación desde los controles hacia la respuesta y viceversa. Visualmente,\n",
    "\n",
    "[<img src=\"assets/gamsc/good.png\" width=\"600\" style=\"display: block; margin-left: auto; margin-right: auto;\"/>](assets/gamsc/good.png \"The good\")"
   ]
  },
  {
   "cell_type": "markdown",
   "id": "f3ad9285",
   "metadata": {
    "slideshow": {
     "slide_type": "subslide"
    }
   },
   "source": [
    "Y lo que debemos evitar -\n",
    "\n",
    "[<img src=\"assets/gamsc/bad.png\" width=\"600\" style=\"display: block; margin-left: auto; margin-right: auto;\"/>](assets/gamsc/bad.png \"The bad\")"
   ]
  },
  {
   "cell_type": "markdown",
   "id": "2a904e6a",
   "metadata": {
    "slideshow": {
     "slide_type": "subslide"
    }
   },
   "source": [
    "[<img src=\"assets/gamsc/also-bad.png\" width=\"600\" style=\"display: block; margin-left: auto; margin-right: auto;\"/>](assets/gamsc/also-bad.png \"The worse\")"
   ]
  },
  {
   "cell_type": "markdown",
   "id": "f9a4c02a",
   "metadata": {
    "slideshow": {
     "slide_type": "subslide"
    }
   },
   "source": [
    "[<img src=\"assets/gamsc/i-quit.png\" width=\"600\" style=\"display: block; margin-left: auto; margin-right: auto;\"/>](assets/gamsc/i-quit.png \"The worst\")"
   ]
  },
  {
   "cell_type": "markdown",
   "id": "56c5d3da",
   "metadata": {
    "slideshow": {
     "slide_type": "subslide"
    }
   },
   "source": [
    "### Por ejemplo\n",
    "\n",
    "Utilizar los volúmenes de abastecimiento para construir un contrafactual de ventas es..."
   ]
  },
  {
   "cell_type": "markdown",
   "id": "fca65cd4",
   "metadata": {
    "slideshow": {
     "slide_type": "subslide"
    }
   },
   "source": [
    "- __Incorrecto__ — un mayor volumen de ventas incrementará la cantidad de pedidos de abastecimiento, por lo que la respuesta y el control tienen una relación causal. Utilizar el abastecimiento interno como control va a generar un feedback positivo -\n",
    "\n",
    "        mayores ventas observadas\n",
    "            >> mayores órdenes de abastecimiento\n",
    "                >> predicción de un contrafactual más alto\n",
    "                    >> subestimación del efecto del tratamiento"
   ]
  },
  {
   "cell_type": "markdown",
   "id": "49cf50ce",
   "metadata": {
    "slideshow": {
     "slide_type": "subslide"
    }
   },
   "source": [
    "Utiliza la venta de otras tiendas para construir un contrafactual de ventas en una tienda distinta es..."
   ]
  },
  {
   "cell_type": "markdown",
   "id": "2b8fe214",
   "metadata": {
    "slideshow": {
     "slide_type": "subslide"
    }
   },
   "source": [
    "- __Correcto__ — podemos asumir razonablemente que las ventas están principalmente afectadas por factores exógenos o causas comunes, independientes a un tratamiento, por lo que representan una buena alternativa para construir un contrafactual robusto."
   ]
  },
  {
   "cell_type": "markdown",
   "id": "f2e3c640",
   "metadata": {
    "slideshow": {
     "slide_type": "slide"
    }
   },
   "source": [
    "## Otros beneficios de los GAMs\n",
    "\n",
    "Los GAMs están ampliamente cubiertas por distintos paquetes en Python, varios de ellos bastante sofisticados y con una gran comunidad de soporte opensource. Mejor todavía - Facebook tiene un motor de forecasting llamado `Prophet` que permite, entre otras cosas, realizar muestreo posterior, ¡lo que facilita muchísimo la construcción de intervalos de confianza!\n",
    "\n",
    "```bash\n",
    "$ pip install prophet\n",
    "```\n",
    "\n",
    "[Documentación](https://facebook.github.io/prophet/)."
   ]
  },
  {
   "cell_type": "markdown",
   "id": "6a9c2798",
   "metadata": {
    "slideshow": {
     "slide_type": "slide"
    }
   },
   "source": [
    "## ¡Manos a la obra!"
   ]
  },
  {
   "cell_type": "markdown",
   "id": "86c0d6c1",
   "metadata": {
    "slideshow": {
     "slide_type": "slide"
    }
   },
   "source": [
    "Empecemos por importar `fbprophet`. También utilizaremos algunas funcionalidades de `SodiMX`, el paquete de Experimentación de Sodimac — no es opensource todavía."
   ]
  },
  {
   "cell_type": "code",
   "execution_count": null,
   "id": "4a82b04e",
   "metadata": {
    "slideshow": {
     "slide_type": "fragment"
    }
   },
   "outputs": [],
   "source": [
    "import numpy as np\n",
    "import pandas as pd\n",
    "try:\n",
    "    import fbprophet\n",
    "except ImportError:\n",
    "    import prophet as fbprophet\n",
    "try:\n",
    "    from sodimx.synthetic_control.utils import SyntheticData\n",
    "except ImportError:\n",
    "    from utils import SyntheticData\n",
    "from matplotlib import pyplot as plt\n",
    "\n",
    "plt.style.use('ggplot')\n",
    "\n",
    "%matplotlib inline"
   ]
  },
  {
   "cell_type": "markdown",
   "id": "8ec76a7c",
   "metadata": {
    "slideshow": {
     "slide_type": "subslide"
    }
   },
   "source": [
    "Necesitamos un poco de data sintética, para la cuál, por diseño, además sabremos el efecto real."
   ]
  },
  {
   "cell_type": "code",
   "execution_count": null,
   "id": "887779b3",
   "metadata": {
    "slideshow": {
     "slide_type": "fragment"
    }
   },
   "outputs": [],
   "source": [
    "sd = SyntheticData(\n",
    "    impulse=0.03,\n",
    "    noise=5.0,\n",
    "    bias=0.1,\n",
    "    n_controls=20,\n",
    "    n_informative_controls=10,\n",
    "    n_samples=150,\n",
    "    n_treatment=30\n",
    ")\n",
    "X, Y, slices = sd.make_arma()"
   ]
  },
  {
   "cell_type": "markdown",
   "id": "37a4d098",
   "metadata": {
    "slideshow": {
     "slide_type": "subslide"
    }
   },
   "source": [
    "$X$ es una matriz de series de tiempos de distintos controles, pero de los cuales solamente algunos son informativos, mientras otros tienen como objetivo el agregar ruido y probar la robustez de nuestro método."
   ]
  },
  {
   "cell_type": "code",
   "execution_count": null,
   "id": "8fe83250",
   "metadata": {
    "slideshow": {
     "slide_type": "fragment"
    }
   },
   "outputs": [],
   "source": [
    "X.head()"
   ]
  },
  {
   "cell_type": "markdown",
   "id": "4d155d35",
   "metadata": {
    "slideshow": {
     "slide_type": "subslide"
    }
   },
   "source": [
    "$Y$ contiene la serie de tiempo de respuesta. Prophet requiere que existan las columnas `ds` e `y`, con las fechas de la serie y el valor de la respuesta, respectivamenente."
   ]
  },
  {
   "cell_type": "code",
   "execution_count": null,
   "id": "702beb0b",
   "metadata": {
    "slideshow": {
     "slide_type": "fragment"
    }
   },
   "outputs": [],
   "source": [
    "Y.rename(columns={0: 'y'}, inplace=True)\n",
    "Y['ds'] = Y.index\n",
    "Y.head()"
   ]
  },
  {
   "cell_type": "markdown",
   "id": "0d140dd1",
   "metadata": {
    "slideshow": {
     "slide_type": "subslide"
    }
   },
   "source": [
    "El objeto `slices` contiene los períodos de tratamiento y blackout. En este caso no vamos a utilizar períodos de blackout — podríamos querer eliminar días de lluvia, cybers, etc. — pero Prophet permite imputar automáticamente data faltante, por lo que es perfectamente válido remover (algunos) outliers."
   ]
  },
  {
   "cell_type": "code",
   "execution_count": null,
   "id": "58878924",
   "metadata": {
    "slideshow": {
     "slide_type": "fragment"
    }
   },
   "outputs": [],
   "source": [
    "treatment_ixs = Y.loc[slices['treatment']].index\n",
    "control_ixs = Y.index.difference(treatment_ixs)\n",
    "slices"
   ]
  },
  {
   "cell_type": "markdown",
   "id": "f1e27682",
   "metadata": {
    "slideshow": {
     "slide_type": "subslide"
    }
   },
   "source": [
    "Visualmente, las series no muestran un claro quiebre en la respuesta $Y$ durante el período de control y tratamiento."
   ]
  },
  {
   "cell_type": "code",
   "execution_count": null,
   "id": "489996ee",
   "metadata": {
    "slideshow": {
     "slide_type": "fragment"
    }
   },
   "outputs": [],
   "source": [
    "fig, ax = plt.subplots(figsize=(12, 6))\n",
    "ax.plot(Y.loc[control_ixs, 'y'], color='blue', label='control')\n",
    "ax.plot(Y.loc[treatment_ixs, 'y'], color='red', label='treatment')\n",
    "ax.vlines(x=control_ixs[-1],ymin=ax.dataLim.bounds[1],ymax=ax.dataLim.bounds[3],linestyle='--',alpha=0.5)\n",
    "ax.legend();"
   ]
  },
  {
   "cell_type": "markdown",
   "id": "88b0943a",
   "metadata": {
    "slideshow": {
     "slide_type": "slide"
    }
   },
   "source": [
    "### Utilizando Prophet\n",
    "\n",
    "Veamos si logramos encontrar algún tipo de tendencia a través de `fbprophet`. Por ahora, solamente vamos a estar utilizando la serie de tiempo $Y$, apoyándonos en las capacidades de análisis de series de tiempo que `fbprophet` provee.\n",
    "\n",
    "Para datasets pequelos, el proceso es relativamente rápido. Hasta ahora, solamente estaremos aprendiendo los parámetros más probables para nuestras GAMs. Más adelante utilizaremos muestreo sobre los posteriores, tanto para hacer forecasting como para construir intervalos de confianza."
   ]
  },
  {
   "cell_type": "code",
   "execution_count": null,
   "id": "17d67a28",
   "metadata": {
    "slideshow": {
     "slide_type": "fragment"
    }
   },
   "outputs": [],
   "source": [
    "mdl = fbprophet.Prophet()\n",
    "mdl.fit(Y.loc[control_ixs, :]);"
   ]
  },
  {
   "cell_type": "markdown",
   "id": "5716b004",
   "metadata": {
    "slideshow": {
     "slide_type": "subslide"
    }
   },
   "source": [
    "Para construir forecasts necesitamos utilizar los métodos `make_future_dataframe` y `predict`."
   ]
  },
  {
   "cell_type": "code",
   "execution_count": null,
   "id": "b7fd30a3",
   "metadata": {
    "slideshow": {
     "slide_type": "fragment"
    }
   },
   "outputs": [],
   "source": [
    "mdl.make_future_dataframe(30)"
   ]
  },
  {
   "cell_type": "code",
   "execution_count": null,
   "id": "dddc5280",
   "metadata": {
    "slideshow": {
     "slide_type": "subslide"
    }
   },
   "outputs": [],
   "source": [
    "_ = mdl.make_future_dataframe(30)\n",
    "forecast = mdl.predict(_)\n",
    "forecast.index = pd.DatetimeIndex(forecast['ds'], name='')\n",
    "forecast"
   ]
  },
  {
   "cell_type": "markdown",
   "id": "9ae196c9",
   "metadata": {
    "slideshow": {
     "slide_type": "subslide"
    }
   },
   "source": [
    "Los forecasts no son muy buenos. Definitivamente algo falta."
   ]
  },
  {
   "cell_type": "code",
   "execution_count": null,
   "id": "2fd03968",
   "metadata": {
    "slideshow": {
     "slide_type": "fragment"
    }
   },
   "outputs": [],
   "source": [
    "fig, ax = plt.subplots(figsize=(12, 6))\n",
    "ax.plot(Y.loc[control_ixs, 'y'], color='blue', label='control', alpha=0.3)\n",
    "ax.plot(Y.loc[treatment_ixs, 'y'], color='red', label='treatment', alpha=0.3)\n",
    "ax.vlines(x=control_ixs[-1], ymin=ax.dataLim.bounds[1], ymax=ax.dataLim.bounds[3], linestyle='--', alpha=0.5)\n",
    "ax.plot(forecast.yhat, color='green', label='forecast')\n",
    "ax.legend();"
   ]
  },
  {
   "cell_type": "markdown",
   "id": "e64f4008",
   "metadata": {
    "slideshow": {
     "slide_type": "slide"
    }
   },
   "source": [
    "### Agreguemos controles\n",
    "\n",
    "¡Los controles son informativos! Si los agregamos, vamos a mejorar nuestra capacidad de capturar efectos exógenos, que solamente agregan variabilidad no capturada a nuestra serie $Y$.\n",
    "\n",
    "Entrenemos un segundo modelo, esta vez incluyendo todos los controles como regresores adicionales. Necesitaremos utilizar el método `add_regressor`, además de entregar los valores para cada uno de estos controles al momento de generar forecasts con `predict`."
   ]
  },
  {
   "cell_type": "code",
   "execution_count": null,
   "id": "35897b0e",
   "metadata": {
    "slideshow": {
     "slide_type": "subslide"
    }
   },
   "outputs": [],
   "source": [
    "X.rename(columns={\n",
    "    c: 'x{}'.format(c) for c in X.columns\n",
    "}, inplace=True)\n",
    "X.head()"
   ]
  },
  {
   "cell_type": "code",
   "execution_count": null,
   "id": "ae6160f6",
   "metadata": {
    "slideshow": {
     "slide_type": "subslide"
    }
   },
   "outputs": [],
   "source": [
    "mdl2 = fbprophet.Prophet()\n",
    "[\n",
    "    mdl2.add_regressor(name=c) for c in X.columns\n",
    "];"
   ]
  },
  {
   "cell_type": "markdown",
   "id": "ad89d638",
   "metadata": {
    "slideshow": {
     "slide_type": "subslide"
    }
   },
   "source": [
    "Para hacer las cosas más sencillas, creemos un único dataframe que contenga tanto la serie de respuesta como los controles, además de la columna `ds`, requerida por Prophet."
   ]
  },
  {
   "cell_type": "code",
   "execution_count": null,
   "id": "8d7dd20c",
   "metadata": {
    "slideshow": {
     "slide_type": "fragment"
    }
   },
   "outputs": [],
   "source": [
    "XY = pd.concat([X, Y], axis=1, ignore_index=False)\n",
    "XY.head()"
   ]
  },
  {
   "cell_type": "markdown",
   "id": "69087ecf",
   "metadata": {
    "slideshow": {
     "slide_type": "subslide"
    }
   },
   "source": [
    "Entrenemos el nuevo modelo."
   ]
  },
  {
   "cell_type": "code",
   "execution_count": null,
   "id": "1270adec",
   "metadata": {
    "slideshow": {
     "slide_type": "fragment"
    }
   },
   "outputs": [],
   "source": [
    "mdl2.fit(XY.loc[control_ixs, :]);"
   ]
  },
  {
   "cell_type": "markdown",
   "id": "d27644c9",
   "metadata": {
    "slideshow": {
     "slide_type": "subslide"
    }
   },
   "source": [
    "Para hacer un forecast, ahora tenemos pasar tanto los valores de los controles como la columna `ds`, en el mismo dataframe."
   ]
  },
  {
   "cell_type": "code",
   "execution_count": null,
   "id": "35fb15e3",
   "metadata": {
    "slideshow": {
     "slide_type": "fragment"
    }
   },
   "outputs": [],
   "source": [
    "Xt = mdl2.make_future_dataframe(30)\n",
    "Xt.index = pd.DatetimeIndex(Xt.ds, name='')\n",
    "Xt = pd.concat([Xt, X], axis=1)\n",
    "Xt.tail()"
   ]
  },
  {
   "cell_type": "code",
   "execution_count": null,
   "id": "f07acee2",
   "metadata": {
    "slideshow": {
     "slide_type": "subslide"
    }
   },
   "outputs": [],
   "source": [
    "forecast2 = mdl2.predict(Xt)\n",
    "forecast2.index = pd.DatetimeIndex(forecast2.ds, name='')\n",
    "forecast2"
   ]
  },
  {
   "cell_type": "markdown",
   "id": "9c441e15",
   "metadata": {
    "slideshow": {
     "slide_type": "subslide"
    }
   },
   "source": [
    "¡Los resultados son mucho mejores!"
   ]
  },
  {
   "cell_type": "code",
   "execution_count": null,
   "id": "c2c16bf4",
   "metadata": {
    "slideshow": {
     "slide_type": "fragment"
    }
   },
   "outputs": [],
   "source": [
    "fig, ax = plt.subplots(figsize=(12, 6))\n",
    "ax.plot(Y.loc[control_ixs, 'y'], color='blue', label='control', alpha=0.3)\n",
    "ax.plot(Y.loc[treatment_ixs, 'y'], color='red', label='treatment', alpha=0.3)\n",
    "ax.vlines(x=control_ixs[-1], ymin=ax.dataLim.bounds[1], ymax=ax.dataLim.bounds[3], linestyle='--', alpha=0.5)\n",
    "ax.plot(forecast2.yhat, color='green', label='forecast2', alpha=0.3, marker='o')\n",
    "ax.legend();"
   ]
  },
  {
   "cell_type": "markdown",
   "id": "24c50da8",
   "metadata": {
    "slideshow": {
     "slide_type": "slide"
    }
   },
   "source": [
    "## Estimemos el efecto\n",
    "\n",
    "Lo que nos interesa hacer es estimar el efecto e impulso total y lo las diferencias diarias, aunque podríamos medir diferencias significativas a nivel diario también. Para esto, necestiamos asegurar que estamos haciendo muestro posterior sobre series __acumuladas__ y no valores diarios.\n",
    "\n",
    "Formalmente, el efecto total sería -\n",
    "\n",
    "$$\n",
    "\\sum_{i\\in{\\ T}}{\\delta{y}_i} = \\sum_{i\\in{\\ T}}{(y_i - \\hat{y}_i)}\n",
    "$$\n",
    "\n",
    "con $T$ representando el período de tratamiento."
   ]
  },
  {
   "cell_type": "markdown",
   "id": "1527b3ce",
   "metadata": {
    "slideshow": {
     "slide_type": "subslide"
    }
   },
   "source": [
    "### Acceso a muestreo posterior\n",
    "\n",
    "Prophet entrega un fácil acceso a sampleo posterior del modelo, una vez entrenado. Podemos utilizar estas muestras no solamente para estimar el efecto punto a nivel diario, sino que también simular los intervalos de confianza. ¡Excelente!"
   ]
  },
  {
   "cell_type": "code",
   "execution_count": null,
   "id": "a496074b",
   "metadata": {
    "slideshow": {
     "slide_type": "fragment"
    }
   },
   "outputs": [],
   "source": [
    "Yhat = mdl2.predictive_samples(Xt.loc[treatment_ixs, :])['yhat']\n",
    "print(Y.loc[treatment_ixs, 'y'].shape, Yhat.shape)\n",
    "Yhat"
   ]
  },
  {
   "cell_type": "code",
   "execution_count": null,
   "id": "74f5359c",
   "metadata": {
    "slideshow": {
     "slide_type": "fragment"
    }
   },
   "outputs": [],
   "source": []
  },
  {
   "cell_type": "markdown",
   "id": "65971c0d",
   "metadata": {
    "slideshow": {
     "slide_type": "subslide"
    }
   },
   "source": [
    "Podemos utilizar estas muestras para construir series de diferencias diarias entre observado $y_t$ y contrafactual $\\hat{y}_t$, lo que nos permitirá calcular diferentes estadísticas sobre las series cumulativas."
   ]
  },
  {
   "cell_type": "code",
   "execution_count": null,
   "id": "27ffc01a",
   "metadata": {
    "slideshow": {
     "slide_type": "fragment"
    }
   },
   "outputs": [],
   "source": [
    "# observed response\n",
    "yt = Y.loc[treatment_ixs, ['y']].values\n",
    "print(yt.shape)\n",
    "yt[:10]"
   ]
  },
  {
   "cell_type": "markdown",
   "id": "0c428c6b",
   "metadata": {
    "slideshow": {
     "slide_type": "subslide"
    }
   },
   "source": [
    "El contrafactual está marginalmente bajo el observado. Ya sabemos que esto es correcto, dado que conocemos el impulso real."
   ]
  },
  {
   "cell_type": "code",
   "execution_count": null,
   "id": "0f72820c",
   "metadata": {
    "slideshow": {
     "slide_type": "fragment"
    }
   },
   "outputs": [],
   "source": [
    "fig, ax = plt.subplots(figsize=(12, 6))\n",
    "ax.set_title('Treatment period response')\n",
    "pd.Series(Yhat.mean(axis=1), index=treatment_ixs).plot(label='counterfactual')\n",
    "pd.Series(yt.flatten(), index=treatment_ixs).plot(ax=ax, label='observed')\n",
    "ax.legend();"
   ]
  },
  {
   "cell_type": "markdown",
   "id": "5c8634fc",
   "metadata": {
    "slideshow": {
     "slide_type": "subslide"
    }
   },
   "source": [
    "### Pero, ¿podremos detectar esto de forma estadísticamente significativa?"
   ]
  },
  {
   "cell_type": "markdown",
   "id": "27056bff",
   "metadata": {
    "slideshow": {
     "slide_type": "subslide"
    }
   },
   "source": [
    "### ¡Sí!"
   ]
  },
  {
   "cell_type": "code",
   "execution_count": null,
   "id": "1156a265",
   "metadata": {
    "slideshow": {
     "slide_type": "subslide"
    }
   },
   "outputs": [],
   "source": [
    "cdY = np.subtract(yt, Yhat).cumsum(axis=0)\n",
    "# impulse\n",
    "effect = pd.DataFrame(\n",
    "    cdY.mean(axis=1)/Yhat.mean(axis=1).cumsum(),\n",
    "    index=treatment_ixs,\n",
    "    columns=['impulse_point']\n",
    ")\n",
    "l, u = np.percentile(cdY, [2.5, 97.5], axis=1)\n",
    "effect['impulse_lb'] = l/Yhat.mean(axis=1).cumsum()\n",
    "effect['impulse_ub'] = u/Yhat.mean(axis=1).cumsum()\n",
    "effect = effect[['impulse_lb', 'impulse_point', 'impulse_ub']]\n",
    "\n",
    "# total effect\n",
    "effect['total_point'] = cdY.mean(axis=1)\n",
    "effect['total_lb'] = l\n",
    "effect['total_ub'] = u\n",
    "\n",
    "print('Ground truth: {}'.format(sd.impulse))\n",
    "pd.DataFrame([effect.iloc[-1][:3].to_dict()])"
   ]
  },
  {
   "cell_type": "code",
   "execution_count": null,
   "id": "1610ff50",
   "metadata": {
    "slideshow": {
     "slide_type": "fragment"
    }
   },
   "outputs": [],
   "source": []
  },
  {
   "cell_type": "markdown",
   "id": "993d4d8c",
   "metadata": {
    "slideshow": {
     "slide_type": "subslide"
    }
   },
   "source": [
    "También podemos construir unos buenos gráficos para presentar los resultados de nuestra política de intervención, asegurando el \"efecto wow\"."
   ]
  },
  {
   "cell_type": "code",
   "execution_count": null,
   "id": "a0af174c",
   "metadata": {
    "slideshow": {
     "slide_type": "subslide"
    }
   },
   "outputs": [],
   "source": [
    "fig, axs = plt.subplots(1, 2, figsize=(15, 5))\n",
    "axs[0].set_title('Cummulative effect')\n",
    "axs[0].plot(effect.total_point)\n",
    "axs[0].fill_between(x=effect.index, y1=effect.total_lb, y2=effect.total_ub, alpha=0.25)\n",
    "axs[0].tick_params(rotation=45)\n",
    "axs[1].set_title('Cummulative impulse')\n",
    "axs[1].plot(effect.impulse_point)\n",
    "axs[1].fill_between(x=effect.index, y1=effect.impulse_lb, y2=effect.impulse_ub, alpha=0.25)\n",
    "axs[1].tick_params(rotation=45)\n",
    "\n",
    "fig.tight_layout()"
   ]
  },
  {
   "cell_type": "markdown",
   "id": "3add81c3",
   "metadata": {
    "slideshow": {
     "slide_type": "slide"
    }
   },
   "source": [
    "# Algunas ideas para cerrar\n",
    "\n",
    "- Los Controles Sintéticos nos permiten realizar análisis causal sobre procesos en los que no podemos implementar experimentos válidos, incluso no aleatorios.\n",
    "- Utilizar controles es una gran forma de reducir el ruido en nuestras series, aislando mejor los efectos causales de un tratamiento, y mejorando nuestras estimaciones de los efectos.\n",
    "- Los GAMs son un gran candidato para construir contrafactuales robustos, ya que son muy flexibles y tienen bastante soporte en Python — e.g., Facebook Prophet.\n",
    "- El proceso, por lo general, es muy bajo en consumo computacional, por lo que es recomendable realizar análisis de sensibilidad sobre los resultados — agregar o quitar días, mover el período de intervención un día hacia adelante y atrás, agregar y sacar controles, etc."
   ]
  },
  {
   "cell_type": "markdown",
   "id": "dc4573da",
   "metadata": {
    "slideshow": {
     "slide_type": "slide"
    }
   },
   "source": [
    "# ¡Gracias!\n",
    "- ¿Preguntas?\n",
    "- Pueden descargar el código [aquí](https://github.com/misterte/talks)."
   ]
  },
  {
   "cell_type": "code",
   "execution_count": null,
   "id": "0580ed05",
   "metadata": {
    "slideshow": {
     "slide_type": "skip"
    }
   },
   "outputs": [],
   "source": []
  }
 ],
 "metadata": {
  "celltoolbar": "Slideshow",
  "kernelspec": {
   "display_name": "Python 3 (ipykernel)",
   "language": "python",
   "name": "python3"
  },
  "language_info": {
   "codemirror_mode": {
    "name": "ipython",
    "version": 3
   },
   "file_extension": ".py",
   "mimetype": "text/x-python",
   "name": "python",
   "nbconvert_exporter": "python",
   "pygments_lexer": "ipython3",
   "version": "3.7.9"
  }
 },
 "nbformat": 4,
 "nbformat_minor": 5
}
